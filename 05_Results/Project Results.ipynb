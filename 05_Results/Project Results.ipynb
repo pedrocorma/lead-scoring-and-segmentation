{
 "cells": [
  {
   "cell_type": "markdown",
   "id": "3f5fb0d7",
   "metadata": {},
   "source": [
    "# PROJECT RESULTS"
   ]
  },
  {
   "cell_type": "markdown",
   "id": "e35a0bbd",
   "metadata": {},
   "source": [
    "## INSIGHTS"
   ]
  },
  {
   "cell_type": "markdown",
   "id": "56625d5c",
   "metadata": {},
   "source": [
    "### Baseline (AS IS)"
   ]
  },
  {
   "cell_type": "markdown",
   "id": "bf8a6d8c",
   "metadata": {},
   "source": [
    "**Leads:**\n",
    "- 96.9% of the total leads are from India.\n",
    "- 34.9% of the total leads are from Mumbai city.\n",
    "- 39.5% of potential customers do not provide their city of residence.\n",
    "- The vast majority (89,7%) of the interested customers that the company is currently attracting are unemployed.\n",
    "- Only 7.7% of leads are working professionals.\n",
    "- Activity and profile index features are missing for 45.4% of the leads.\n",
    "- Regarding profile index feature, almost no leads fall under '03. Low' category.\n",
    "\n",
    "\n",
    "**Lead-to-customer conversion rate**\n",
    "- Current lead-to-customer conversion rate is 38.6%.\n",
    "- Working professionals have high conversion rate (92.5%), especially those from management sector.\n",
    "- Unemploeyed leads, although high in number, have low conversion rate (33.9%).\n",
    "- Almost all leads coming from 'Reference' (91.7% conv. rate) and 'Welingak Website' (98.1% conv. rate) sources end up buying the product. However, only 2.8% of leads come from these sources.\n",
    "- Leads who hear about the company through recommendations (World of mouth, Student of someschool) have higher conversion rates.\n",
    "- 94.8% of the leads marked as 'high in relevance' by employees end up becoming paying customers. However, leads classified as 'low in relevance' or 'might be' are also having high conversion rates (81.9% and 75.6% respectively).\n",
    "- Regarding activity index feature, leads under '02. Medium' category obtains better conversion rates than '01. High' category.\n",
    "\n",
    "\n",
    "**Commercial and marketing channels**\n",
    "- Most leads come from Google (30.8%) and Direct traffic (27.8%). Organic search and Olark chat generates a significat number of leads too (12.7% and 18.8% of the total number of leads respectively).\n",
    "- Converted leads spent a median of 10 minutes more time viewing the website than those who did not convert, regardless to the amount of visits and number of pages viewed.\n",
    "- Only 0.24% of the leads indicated on the form that they have seen advertisements from the company.\n",
    "- Employees are not sure about the quality of 63% of leads, and only have time/information to fill in the lead profile field for 26.1% of all leads.\n",
    "- Around 92% of leads do not like to be called or receive emails about the course.\n",
    "- Only 14.8% of leads who want to be contacted by email end up converting into paying customers.\n",
    "- Email marketing campaigns have untapped potential, as the last notable activity/last activity of 30%-37% of total number of leads was opening an email but only about 37% of them were converted after it.\n",
    "- Sms campaigns achieved conversion rates of 60%-70% and reached a significant number of leads.\n",
    "- There are leads tagged as 'Ringing' who selected 'do not want to receive phone calls' on the form.\n",
    "- Most potential customers were not interested in getting a free copy of the lead magnet. Leads interested in downloading the lead magnet are mostly unemployed and download it mainly from the landing page."
   ]
  },
  {
   "cell_type": "markdown",
   "id": "2a46ea90",
   "metadata": {},
   "source": [
    "### Actions to improve company's customer knowledge"
   ]
  },
  {
   "cell_type": "markdown",
   "id": "64dcd6cf",
   "metadata": {},
   "source": [
    "1. Improve quality of the survey or form questions to receive more user inputs and reduce NaN/default ('Select') values.\n",
    "2. Improve algorithm for the activity and profile score/index to produce complete and more accurate results.\n",
    "3. Colect time stamp visiting the website for seasonality analysis and implement cookies to identity and track users as they navigate different pages on the website.\n",
    "4. Implement a new lead segmentation algorithm that identifies the company's different leads profiles and makes it possible to identify which group best fit for each new lead, in order to be able to carry out more personalised commercial actions."
   ]
  },
  {
   "cell_type": "markdown",
   "id": "58119db1",
   "metadata": {},
   "source": [
    "### Actions to improve lead-to-customer conversion rate"
   ]
  },
  {
   "cell_type": "markdown",
   "id": "d7a22342",
   "metadata": {},
   "source": [
    "1. Implement a predictive lead scoring algorithm that identifies people who are most likely to convert into paying customers through the most efficient channel for each lead and relieves the sales team of the workload of manually filling in features such as lead_quality, lead_profile or tags so they will be able to spend more time on contacting the most promising customers."
   ]
  },
  {
   "cell_type": "markdown",
   "id": "aad4ebce",
   "metadata": {},
   "source": [
    "### Actions to improve commercial and marketing channels performance"
   ]
  },
  {
   "cell_type": "markdown",
   "id": "df1d026c",
   "metadata": {},
   "source": [
    "1. Improve the content strategy of the website, lead magnet and emails to attract traffic and increase the time people spend on the website by creating tailored content mainly for working professionals in the Indian management sector.\n",
    "2. Create a referral program to encourage existing customers to recommend the course to their friends, family, and colleagues.\n",
    "3. Invest more resources into acquiring leads from 'Welingak website'.\n",
    "4. Increase investments in SMS campaigns as they are performing well.\n",
    "5. Check whether the default value for advertisement features is set to 'No' in the web form, which could explain the high percentage of 'No' for all of them. If this is not the case, then the advertising investment strategy should be completely revised as it is not generating almost any lead (0,24%).\n",
    "6. Check that the sales team is only contacting people who have given their consent to do so."
   ]
  },
  {
   "cell_type": "markdown",
   "id": "17e33a47",
   "metadata": {},
   "source": [
    "## LEAD SEGMENTATION MODEL"
   ]
  },
  {
   "cell_type": "markdown",
   "id": "d2a12bd4",
   "metadata": {},
   "source": [
    "### Identified segment profiles"
   ]
  },
  {
   "cell_type": "markdown",
   "id": "16013cf1",
   "metadata": {},
   "source": [
    "**Segment 0**\n",
    "- Origin: API.\n",
    "- Last activity: Most leads have conversations via Olark chat.\n",
    "- Segment with lower presence of working professionals.\n",
    "- Time spent on the website far below average.\n",
    "- Almost no leads in this segment buy the company's product.\n",
    "\n",
    "**Segment 1**\n",
    "- Origin: Landing Page.\n",
    "- Last activity: Email Opened.\n",
    "- Some presence of working professionals.\n",
    "- Above-average time spent on the website.\n",
    "- Slightly lower conversion rate than the company's current average conversion rate.\n",
    "\n",
    "**Segment 2**\n",
    "- Origin: Landing Page.\n",
    "- Last activity: Most of them have received an SMS. Some of them have visited the website.\n",
    "- Some presence of working professionals.\n",
    "- Above-average time spent on the website.\n",
    "- Slightly higher conversion rate than the company's current average conversion rate.\n",
    "\n",
    "**Segment 3**\n",
    "- Origin: API.\n",
    "- Last activity: Email Opened.\n",
    "- Some presence of working professionals.\n",
    "- Below average time spent on website.\n",
    "- Slightly lower conversion rate than the company's current one. Similar to the conversion rate of segment 1.\n",
    "\n",
    "**Segment 4**\n",
    "- Origin: Lead Add Form (main sources: References, Welingak website).\n",
    "- Last activity: Email Opened, SMS sent or unknown.\n",
    "- High presence of working professionals.\n",
    "- Time spent on the website far below average.\n",
    "- 9 out of 10 leads in this segment end up buying the company's product.\n",
    "\n",
    "**Segment 5**\n",
    "- Origin: API.\n",
    "- Last activity: SMS sent.\n",
    "- Notable presence of working professionals.\n",
    "- Above-average time spent on the website.\n",
    "- Conversion rate significantly higher than the company's current average conversion rate."
   ]
  },
  {
   "cell_type": "markdown",
   "id": "bad0b6df",
   "metadata": {},
   "source": [
    "### Actionable initiatives"
   ]
  },
  {
   "cell_type": "markdown",
   "id": "13ae9765",
   "metadata": {},
   "source": [
    "1. The company's most valuable leads are those that come from referrals or from Welingak website, and even more so if they are working professionals. As proposed in the exploratory data analysis section, the company should seriously consider creating a referral programme to encourage existing customers to recommend the course to their close circle.\n",
    "\n",
    "\n",
    "2. SMS campaigns are performing quite well. However, these campaigns should focus on:\n",
    "    - Working professionals comming from API or landing page who spend above-average time on the website.\n",
    "    - Leads comming from References or Welingak website regardless of their occupation and time spend on the website.\n",
    "    - Avoid sending sms to leads who come from API and have spent a short time on the site.\n",
    "    \n",
    "\n",
    "3. Olark chat is not performing well. The company should consider withdrawing investment in this service and for leads coming from API replace it with:\n",
    "    - Email marketing campaigns in case of working professionals who spent a short time on the website or in case of unemployed leads.\n",
    "    - SMS campaigns in case of working professionals who spend above-average time on the website, as discussed in the previous point."
   ]
  },
  {
   "cell_type": "markdown",
   "id": "af85b3c0",
   "metadata": {},
   "source": [
    "## LEAD SCORING MODEL"
   ]
  },
  {
   "cell_type": "code",
   "execution_count": 15,
   "id": "118eb20c",
   "metadata": {},
   "outputs": [],
   "source": [
    "import cloudpickle\n",
    "import pandas as pd\n",
    "from numpy import where\n",
    "from janitor import clean_names\n",
    "\n",
    "# Data importation\n",
    "project_path = (r'C:\\Users\\pedro\\PEDRO\\DS\\Portfolio\\LEAD_SCORING').replace('\\\\','/')\n",
    "data_file_name = 'validation.csv'\n",
    "full_path = project_path + '/02_Data/02_Validation/' + data_file_name\n",
    "df = pd.read_csv(full_path,sep=',')\n",
    "\n",
    "# Data quality\n",
    "df = clean_names(df) \\\n",
    "       .rename(columns={'lead_number':'id',\n",
    "                        'lead_source':'source',\n",
    "                        'totalvisits':'total_visits',\n",
    "                         'total_time_spent_on_website':'total_time_website',\n",
    "                         'how_did_you_hear_about_x_education':'hear_about',\n",
    "                         'what_is_your_current_occupation':'ocupation',\n",
    "                         'what_matters_most_to_you_in_choosing_a_course':'matters_most',\n",
    "                         'asymmetrique_activity_score':'activity_score',\n",
    "                         'asymmetrique_profile_score':'profile_score',\n",
    "                         'a_free_copy_of_mastering_the_interview':'lead_magnet'}) \\\n",
    "       .drop_duplicates() \\\n",
    "       .set_index('id')\n",
    "df = df.loc[~((df.last_activity=='Email Bounced')|(df.last_notable_activity=='Email Bounced'))]\n",
    "\n",
    "# Final features\n",
    "final_features = ['activity_score',\n",
    "                  'city',\n",
    "                  'country',\n",
    "                  'do_not_call',\n",
    "                  'do_not_email',\n",
    "                  'hear_about',\n",
    "                  'last_activity',                  \n",
    "                  'last_notable_activity',                  \n",
    "                  'lead_magnet',   \n",
    "                  'lead_origin',  \n",
    "                  'matters_most',     \n",
    "                  'ocupation',\n",
    "                  'page_views_per_visit',\n",
    "                  'profile_score',\n",
    "                  'source',\n",
    "                  'specialization',\n",
    "                  'total_time_website',\n",
    "                  'total_visits']\n",
    "\n",
    "# Ground truth\n",
    "y_true = df['converted']\n",
    "\n",
    "# Final dataset                 \n",
    "df = df[final_features]\n",
    "\n",
    "# Loading execution pipe\n",
    "name_pipe_execution = 'pipe_execution.pickle'\n",
    "path_pipe_ejecucion = project_path + '/04_Models/' + name_pipe_execution\n",
    "\n",
    "with open(path_pipe_ejecucion, mode='rb') as file:\n",
    "   pipe_execution = cloudpickle.load(file)\n",
    "\n",
    "# Loading optimal discrimination threshold\n",
    "name_disc_threshold = 'optimal_disc_threshold.pickle'\n",
    "path_disc_threshold = project_path + '/04_Models/' + name_disc_threshold\n",
    "\n",
    "with open(path_disc_threshold, mode='rb') as file:\n",
    "   optimal_disc_threshold = cloudpickle.load(file)\n",
    "\n",
    "# Execution and results\n",
    "scoring = pipe_execution.predict_proba(df)[:, 1]\n",
    "manage_lead = where(scoring>optimal_disc_threshold, 'Yes', 'No')\n",
    "results = pd.DataFrame({'lead_score':scoring, 'manage_lead':manage_lead}).set_index(df.index)\n",
    "\n",
    "# Model performance dataframe\n",
    "model_performance = pd.concat([results,y_true],axis=1)"
   ]
  },
  {
   "cell_type": "markdown",
   "id": "00995b1b",
   "metadata": {
    "heading_collapsed": true
   },
   "source": [
    "### KPIs"
   ]
  },
  {
   "cell_type": "markdown",
   "id": "1c5b7688",
   "metadata": {
    "hidden": true
   },
   "source": [
    "#### Lead-to-customer conversion rate"
   ]
  },
  {
   "cell_type": "markdown",
   "id": "74deb2d0",
   "metadata": {
    "hidden": true
   },
   "source": [
    "##### As is"
   ]
  },
  {
   "cell_type": "markdown",
   "id": "0a4c4dc7",
   "metadata": {
    "hidden": true
   },
   "source": [
    "Conversion rate without applying the developed machine learning model:"
   ]
  },
  {
   "cell_type": "code",
   "execution_count": 25,
   "id": "7e2d7947",
   "metadata": {
    "hidden": true
   },
   "outputs": [
    {
     "data": {
      "text/plain": [
       "0.38960313024035775"
      ]
     },
     "execution_count": 25,
     "metadata": {},
     "output_type": "execute_result"
    }
   ],
   "source": [
    "cr_asis = model_performance.converted.mean()\n",
    "cr_asis"
   ]
  },
  {
   "cell_type": "markdown",
   "id": "12638704",
   "metadata": {
    "hidden": true
   },
   "source": [
    "##### To be "
   ]
  },
  {
   "cell_type": "markdown",
   "id": "ed36c3af",
   "metadata": {
    "hidden": true
   },
   "source": [
    "Conversion rate managing only those leads that the model identifies as profitable customers:"
   ]
  },
  {
   "cell_type": "code",
   "execution_count": 26,
   "id": "1692edcd",
   "metadata": {
    "hidden": true
   },
   "outputs": [
    {
     "data": {
      "text/plain": [
       "0.498546511627907"
      ]
     },
     "execution_count": 26,
     "metadata": {},
     "output_type": "execute_result"
    }
   ],
   "source": [
    "cr_tobe = model_performance[model_performance.manage_lead=='Yes'].converted.mean()\n",
    "cr_tobe"
   ]
  },
  {
   "cell_type": "markdown",
   "id": "ebc3ac31",
   "metadata": {
    "hidden": true
   },
   "source": [
    "KPI improvement:"
   ]
  },
  {
   "cell_type": "code",
   "execution_count": 111,
   "id": "c0b133c3",
   "metadata": {
    "hidden": true
   },
   "outputs": [],
   "source": [
    "improvements_cr = round(cr_tobe - cr_asis,2)"
   ]
  },
  {
   "cell_type": "markdown",
   "id": "68a29e22",
   "metadata": {
    "hidden": true
   },
   "source": [
    "#### Sales team workload"
   ]
  },
  {
   "cell_type": "markdown",
   "id": "2c94f232",
   "metadata": {
    "hidden": true
   },
   "source": [
    "##### As is"
   ]
  },
  {
   "cell_type": "markdown",
   "id": "ff054b69",
   "metadata": {
    "hidden": true
   },
   "source": [
    "Number of leads to be managed without applying the developed model:"
   ]
  },
  {
   "cell_type": "code",
   "execution_count": 31,
   "id": "6b11181a",
   "metadata": {
    "hidden": true
   },
   "outputs": [
    {
     "data": {
      "text/plain": [
       "1789"
      ]
     },
     "execution_count": 31,
     "metadata": {},
     "output_type": "execute_result"
    }
   ],
   "source": [
    "workload_asis = model_performance.shape[0]\n",
    "workload_asis"
   ]
  },
  {
   "cell_type": "markdown",
   "id": "d42871cf",
   "metadata": {
    "hidden": true
   },
   "source": [
    "##### To be"
   ]
  },
  {
   "cell_type": "markdown",
   "id": "1dc201cd",
   "metadata": {
    "hidden": true
   },
   "source": [
    "Number of leads selected by the algorithm to be managed:"
   ]
  },
  {
   "cell_type": "code",
   "execution_count": 33,
   "id": "7b6480d9",
   "metadata": {
    "hidden": true
   },
   "outputs": [
    {
     "data": {
      "text/plain": [
       "1376"
      ]
     },
     "execution_count": 33,
     "metadata": {},
     "output_type": "execute_result"
    }
   ],
   "source": [
    "workload_tobe = model_performance[model_performance.manage_lead=='Yes'].shape[0]\n",
    "workload_tobe"
   ]
  },
  {
   "cell_type": "markdown",
   "id": "ddb3c6c6",
   "metadata": {
    "hidden": true
   },
   "source": [
    "KPI improvement:"
   ]
  },
  {
   "cell_type": "code",
   "execution_count": 110,
   "id": "9e220b9f",
   "metadata": {
    "hidden": true
   },
   "outputs": [],
   "source": [
    "improvements_workload = round(100 - workload_tobe*100/workload_asis,2)"
   ]
  },
  {
   "cell_type": "markdown",
   "id": "b462979a",
   "metadata": {
    "hidden": true
   },
   "source": [
    "#### Lost investment in not converted lead management"
   ]
  },
  {
   "cell_type": "markdown",
   "id": "9a95dacc",
   "metadata": {
    "hidden": true
   },
   "source": [
    "##### As is"
   ]
  },
  {
   "cell_type": "markdown",
   "id": "2ff521e9",
   "metadata": {
    "hidden": true
   },
   "source": [
    "Amount lost in managing leads that ultimately did not buy the product without applying the developed machine learning model:"
   ]
  },
  {
   "cell_type": "code",
   "execution_count": 64,
   "id": "c3b86e07",
   "metadata": {
    "hidden": true
   },
   "outputs": [
    {
     "data": {
      "text/plain": [
       "3549.0"
      ]
     },
     "execution_count": 64,
     "metadata": {},
     "output_type": "execute_result"
    }
   ],
   "source": [
    "lost_asis = round(model_performance[model_performance.converted==0].shape[0]*ltc_avg_cost,2)\n",
    "lost_asis"
   ]
  },
  {
   "cell_type": "markdown",
   "id": "e05545bd",
   "metadata": {
    "hidden": true
   },
   "source": [
    "##### To be"
   ]
  },
  {
   "cell_type": "markdown",
   "id": "dabe3674",
   "metadata": {
    "hidden": true
   },
   "source": [
    "Amount lost in managing leads that ultimately did not buy the product if the developed machine learning model is applied:"
   ]
  },
  {
   "cell_type": "code",
   "execution_count": 65,
   "id": "ded3df74",
   "metadata": {
    "hidden": true
   },
   "outputs": [
    {
     "data": {
      "text/plain": [
       "2242.5"
      ]
     },
     "execution_count": 65,
     "metadata": {},
     "output_type": "execute_result"
    }
   ],
   "source": [
    "lost_tobe = round(model_performance[(model_performance.manage_lead=='Yes')&(model_performance.converted==0)] \\\n",
    "                  .shape[0]*ltc_avg_cost,2)\n",
    "lost_tobe "
   ]
  },
  {
   "cell_type": "markdown",
   "id": "c6f04815",
   "metadata": {
    "hidden": true
   },
   "source": [
    "KPI improvement:"
   ]
  },
  {
   "cell_type": "code",
   "execution_count": 109,
   "id": "c6b9ae12",
   "metadata": {
    "hidden": true
   },
   "outputs": [],
   "source": [
    "improvements_lost = round(100 - lost_tobe*100/lost_asis,2)"
   ]
  },
  {
   "cell_type": "markdown",
   "id": "6a43f9f1",
   "metadata": {
    "hidden": true
   },
   "source": [
    "#### Sales profit"
   ]
  },
  {
   "cell_type": "markdown",
   "id": "e7151387",
   "metadata": {
    "hidden": true
   },
   "source": [
    "As reported by the company:\n",
    "- Product selling price (online course for industry professional): 49.99 \\$\n",
    "- Lead-to-customer average cost: 3.25 $ per converted customer."
   ]
  },
  {
   "cell_type": "code",
   "execution_count": 37,
   "id": "f9a8d272",
   "metadata": {
    "hidden": true
   },
   "outputs": [],
   "source": [
    "product_price = 49.99\n",
    "ltc_avg_cost = 3.25"
   ]
  },
  {
   "cell_type": "markdown",
   "id": "906be194",
   "metadata": {
    "hidden": true
   },
   "source": [
    "##### As is"
   ]
  },
  {
   "cell_type": "markdown",
   "id": "fda5fae9",
   "metadata": {
    "hidden": true
   },
   "source": [
    "Profit from product sales without applying the developed machine learning model:"
   ]
  },
  {
   "cell_type": "code",
   "execution_count": 75,
   "id": "3b6acfcd",
   "metadata": {
    "hidden": true
   },
   "outputs": [
    {
     "data": {
      "text/plain": [
       "29028.78"
      ]
     },
     "execution_count": 75,
     "metadata": {},
     "output_type": "execute_result"
    }
   ],
   "source": [
    "sales_asis = round(model_performance[model_performance.converted==1] \\\n",
    "                   .shape[0]*(product_price-ltc_avg_cost) - lost_asis,2)\n",
    "sales_asis"
   ]
  },
  {
   "cell_type": "markdown",
   "id": "298ef3ac",
   "metadata": {
    "hidden": true
   },
   "source": [
    "##### To be"
   ]
  },
  {
   "cell_type": "markdown",
   "id": "dcd4834f",
   "metadata": {
    "hidden": true
   },
   "source": [
    "Profit from product sales if the developed machine learning model is applied:"
   ]
  },
  {
   "cell_type": "code",
   "execution_count": 76,
   "id": "f053eb7b",
   "metadata": {
    "hidden": true
   },
   "outputs": [
    {
     "data": {
      "text/plain": [
       "29821.14"
      ]
     },
     "execution_count": 76,
     "metadata": {},
     "output_type": "execute_result"
    }
   ],
   "source": [
    "sales_tobe = round(model_performance[(model_performance.manage_lead=='Yes')&(model_performance.converted==1)] \\\n",
    "                   .shape[0]*(product_price-ltc_avg_cost) - lost_tobe,2)\n",
    "sales_tobe"
   ]
  },
  {
   "cell_type": "markdown",
   "id": "5c8a6bb9",
   "metadata": {
    "hidden": true
   },
   "source": [
    "KPI improvement:"
   ]
  },
  {
   "cell_type": "code",
   "execution_count": 108,
   "id": "35e2725c",
   "metadata": {
    "hidden": true
   },
   "outputs": [],
   "source": [
    "improvement_sales = round(sales_tobe*100/sales_asis - 100,2)"
   ]
  },
  {
   "cell_type": "markdown",
   "id": "8b0d2fb1",
   "metadata": {},
   "source": [
    "### Measurable improvements"
   ]
  },
  {
   "cell_type": "markdown",
   "id": "5010a560",
   "metadata": {},
   "source": [
    "By applying the developed lead scoring predictive model, the company would be able to:\n",
    "1. Increase its sales profit by 2.7%.\n",
    "2. Save 36.8% of the amount of money lost due to the management of low quality leads.\n",
    "3. Increase lead-to-customer conversion rate from 38% to 50%.\n",
    "4. Save 23% of time spent by employees on managing leads."
   ]
  },
  {
   "cell_type": "code",
   "execution_count": 107,
   "id": "acc0cb23",
   "metadata": {},
   "outputs": [
    {
     "data": {
      "text/html": [
       "<div>\n",
       "<style scoped>\n",
       "    .dataframe tbody tr th:only-of-type {\n",
       "        vertical-align: middle;\n",
       "    }\n",
       "\n",
       "    .dataframe tbody tr th {\n",
       "        vertical-align: top;\n",
       "    }\n",
       "\n",
       "    .dataframe thead th {\n",
       "        text-align: right;\n",
       "    }\n",
       "</style>\n",
       "<table border=\"1\" class=\"dataframe\">\n",
       "  <thead>\n",
       "    <tr style=\"text-align: right;\">\n",
       "      <th></th>\n",
       "      <th>As is</th>\n",
       "      <th>To be</th>\n",
       "      <th>Improvements</th>\n",
       "    </tr>\n",
       "  </thead>\n",
       "  <tbody>\n",
       "    <tr>\n",
       "      <th>Conversion Rate</th>\n",
       "      <td>0.389603</td>\n",
       "      <td>0.498547</td>\n",
       "      <td>Increased by 0.11</td>\n",
       "    </tr>\n",
       "    <tr>\n",
       "      <th>Workload</th>\n",
       "      <td>1789</td>\n",
       "      <td>1376</td>\n",
       "      <td>Reduced by 23.09%</td>\n",
       "    </tr>\n",
       "    <tr>\n",
       "      <th>Lost investments</th>\n",
       "      <td>3549.0</td>\n",
       "      <td>2242.5</td>\n",
       "      <td>Reduced by 36.81%</td>\n",
       "    </tr>\n",
       "    <tr>\n",
       "      <th>Sales profit</th>\n",
       "      <td>29028.78</td>\n",
       "      <td>29821.14</td>\n",
       "      <td>Increased by 2.73%</td>\n",
       "    </tr>\n",
       "  </tbody>\n",
       "</table>\n",
       "</div>"
      ],
      "text/plain": [
       "                     As is     To be        Improvements\n",
       "Conversion Rate   0.389603  0.498547   Increased by 0.11\n",
       "Workload              1789      1376   Reduced by 23.09%\n",
       "Lost investments    3549.0    2242.5   Reduced by 36.81%\n",
       "Sales profit      29028.78  29821.14  Increased by 2.73%"
      ]
     },
     "execution_count": 107,
     "metadata": {},
     "output_type": "execute_result"
    }
   ],
   "source": [
    "pd.DataFrame({'Conversion Rate':[cr_asis,cr_tobe,'Increased by ' + str(improvements_cr)],\n",
    "              'Workload':[workload_asis,workload_tobe,'Reduced by ' + str(improvements_workload) + '%'],\n",
    "              'Lost investments':[lost_asis,lost_tobe,'Reduced by ' + str(improvements_lost) + '%'],\n",
    "              'Sales profit':[sales_asis,sales_tobe,'Increased by ' + str(improvement_sales) + '%']}) \\\n",
    "  .T.rename_columns({0:'As is',1:'To be',2:'Improvements'})"
   ]
  }
 ],
 "metadata": {
  "kernelspec": {
   "display_name": "Python 3 (ipykernel)",
   "language": "python",
   "name": "python3"
  },
  "language_info": {
   "codemirror_mode": {
    "name": "ipython",
    "version": 3
   },
   "file_extension": ".py",
   "mimetype": "text/x-python",
   "name": "python",
   "nbconvert_exporter": "python",
   "pygments_lexer": "ipython3",
   "version": "3.9.12"
  },
  "latex_envs": {
   "LaTeX_envs_menu_present": true,
   "autoclose": false,
   "autocomplete": true,
   "bibliofile": "biblio.bib",
   "cite_by": "apalike",
   "current_citInitial": 1,
   "eqLabelWithNumbers": true,
   "eqNumInitial": 1,
   "hotkeys": {
    "equation": "Ctrl-E",
    "itemize": "Ctrl-I"
   },
   "labels_anchors": false,
   "latex_user_defs": false,
   "report_style_numbering": false,
   "user_envs_cfg": false
  },
  "toc": {
   "base_numbering": 1,
   "nav_menu": {},
   "number_sections": true,
   "sideBar": true,
   "skip_h1_title": false,
   "title_cell": "Table of Contents",
   "title_sidebar": "Contents",
   "toc_cell": false,
   "toc_position": {
    "height": "calc(100% - 180px)",
    "left": "10px",
    "top": "150px",
    "width": "314.2px"
   },
   "toc_section_display": true,
   "toc_window_display": true
  },
  "varInspector": {
   "cols": {
    "lenName": 16,
    "lenType": 16,
    "lenVar": 40
   },
   "kernels_config": {
    "python": {
     "delete_cmd_postfix": "",
     "delete_cmd_prefix": "del ",
     "library": "var_list.py",
     "varRefreshCmd": "print(var_dic_list())"
    },
    "r": {
     "delete_cmd_postfix": ") ",
     "delete_cmd_prefix": "rm(",
     "library": "var_list.r",
     "varRefreshCmd": "cat(var_dic_list()) "
    }
   },
   "types_to_exclude": [
    "module",
    "function",
    "builtin_function_or_method",
    "instance",
    "_Feature"
   ],
   "window_display": false
  }
 },
 "nbformat": 4,
 "nbformat_minor": 5
}
