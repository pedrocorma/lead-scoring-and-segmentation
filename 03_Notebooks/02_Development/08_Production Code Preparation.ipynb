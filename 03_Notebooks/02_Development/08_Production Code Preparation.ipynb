{
 "cells": [
  {
   "cell_type": "markdown",
   "id": "b2592801",
   "metadata": {},
   "source": [
    "The aim of this phase of the project is to compile and synthesise the final processes to be applied to both the initial dataset structure and to each of the features in it by packaging them into functions and pipes.\n",
    "\n",
    "Note: All processes have already been discussed in the corresponding stages of the project."
   ]
  },
  {
   "cell_type": "markdown",
   "id": "797ae63f",
   "metadata": {},
   "source": [
    "## IMPORTING PACKAGES"
   ]
  },
  {
   "cell_type": "code",
   "execution_count": 37,
   "id": "ffe7be80",
   "metadata": {},
   "outputs": [],
   "source": [
    "import numpy as np\n",
    "import pandas as pd\n",
    "import cloudpickle\n",
    "\n",
    "#To increase autocomplete response speed\n",
    "%config IPCompleter.greedy=True\n",
    "\n",
    "from janitor import clean_names\n",
    "\n",
    "from sklearn.preprocessing import OneHotEncoder\n",
    "from sklearn.preprocessing import MinMaxScaler\n",
    "\n",
    "from sklearn.linear_model import LogisticRegression\n",
    "\n",
    "from sklearn.pipeline import Pipeline\n",
    "from sklearn.preprocessing import FunctionTransformer\n",
    "from sklearn.compose import make_column_transformer\n",
    "from sklearn.pipeline import make_pipeline\n",
    "\n",
    "#Disabling warnings\n",
    "import warnings\n",
    "warnings.filterwarnings(\"ignore\")"
   ]
  },
  {
   "cell_type": "markdown",
   "id": "5e12241c",
   "metadata": {},
   "source": [
    "## DATA IMPORTATION"
   ]
  },
  {
   "cell_type": "markdown",
   "id": "807b37d3",
   "metadata": {},
   "source": [
    "### Project path"
   ]
  },
  {
   "cell_type": "code",
   "execution_count": 38,
   "id": "5a6711f7",
   "metadata": {},
   "outputs": [],
   "source": [
    "project_path = (r'C:\\Users\\pedro\\PEDRO\\DS\\Portfolio\\LEAD_SCORING').replace('\\\\','/')"
   ]
  },
  {
   "cell_type": "markdown",
   "id": "89fe9a43",
   "metadata": {},
   "source": [
    "### Names of data files"
   ]
  },
  {
   "cell_type": "code",
   "execution_count": 39,
   "id": "25b345d7",
   "metadata": {},
   "outputs": [],
   "source": [
    "data_file_name = 'Leads.csv'"
   ]
  },
  {
   "cell_type": "markdown",
   "id": "765f82e1",
   "metadata": {},
   "source": [
    "### Data importation"
   ]
  },
  {
   "cell_type": "code",
   "execution_count": 40,
   "id": "480494ff",
   "metadata": {},
   "outputs": [],
   "source": [
    "full_path = project_path + '/02_Data/01_Originals/' + data_file_name\n",
    "\n",
    "df = pd.read_csv(full_path,sep=',')"
   ]
  },
  {
   "cell_type": "markdown",
   "id": "454738c9",
   "metadata": {},
   "source": [
    "### Selecting only final features"
   ]
  },
  {
   "cell_type": "markdown",
   "id": "ba546b91",
   "metadata": {},
   "source": [
    "#### Loading the final features list"
   ]
  },
  {
   "cell_type": "code",
   "execution_count": 41,
   "id": "26066884",
   "metadata": {},
   "outputs": [
    {
     "data": {
      "text/plain": [
       "['activity_score_mms',\n",
       " 'city_Mumbai',\n",
       " 'city_Other Cities',\n",
       " 'city_Thane & Outskirts',\n",
       " 'country_India',\n",
       " 'do_not_call_No',\n",
       " 'do_not_email_No',\n",
       " 'hear_about_Multiple Sources',\n",
       " 'hear_about_Student of SomeSchool',\n",
       " 'last_activity_Converted to Lead',\n",
       " 'last_activity_Email Opened',\n",
       " 'last_activity_Form Submitted on Website',\n",
       " 'last_activity_Olark Chat Conversation',\n",
       " 'last_activity_Others',\n",
       " 'last_activity_Page Visited on Website',\n",
       " 'last_activity_SMS Sent',\n",
       " 'last_activity_Unknown',\n",
       " 'last_notable_activity_Email Link Clicked',\n",
       " 'last_notable_activity_Modified',\n",
       " 'last_notable_activity_SMS Sent',\n",
       " 'lead_magnet_No',\n",
       " 'lead_origin_Lead Add Form',\n",
       " 'matters_most_Better Career Prospects',\n",
       " 'ocupation_Others',\n",
       " 'ocupation_Student',\n",
       " 'ocupation_Unemployed',\n",
       " 'ocupation_Working Professional',\n",
       " 'page_views_per_visit_mms',\n",
       " 'profile_score_mms',\n",
       " 'source_Direct Traffic',\n",
       " 'source_Google',\n",
       " 'source_Olark Chat',\n",
       " 'source_Others',\n",
       " 'source_Reference',\n",
       " 'source_Referral Sites',\n",
       " 'source_Welingak Website',\n",
       " 'specialization_Business Administration',\n",
       " 'specialization_Finance Management',\n",
       " 'specialization_Hospitality Management',\n",
       " 'specialization_Human Resource Management',\n",
       " 'specialization_IT Projects Management',\n",
       " 'specialization_International Business',\n",
       " 'specialization_Marketing Management',\n",
       " 'specialization_Operations Management',\n",
       " 'specialization_Retail Management',\n",
       " 'specialization_Travel and Tourism',\n",
       " 'total_time_website_mms',\n",
       " 'total_visits_mms']"
      ]
     },
     "execution_count": 41,
     "metadata": {},
     "output_type": "execute_result"
    }
   ],
   "source": [
    "names_final_features = project_path + '/05_Results/' + 'final_features.pickle'\n",
    "\n",
    "pd.read_pickle(names_final_features).sort_index().index.to_list()"
   ]
  },
  {
   "cell_type": "markdown",
   "id": "9c127d9a",
   "metadata": {},
   "source": [
    "#### Writing (manually) the list of final features (without extensions)"
   ]
  },
  {
   "cell_type": "code",
   "execution_count": 42,
   "id": "da477021",
   "metadata": {},
   "outputs": [],
   "source": [
    "final_features = ['activity_score',\n",
    "                  'city',\n",
    "                  'country',\n",
    "                  'do_not_call',\n",
    "                  'do_not_email',\n",
    "                  'hear_about',\n",
    "                  'last_activity',                  \n",
    "                  'last_notable_activity',                  \n",
    "                  'lead_magnet',   \n",
    "                  'lead_origin',  \n",
    "                  'matters_most',     \n",
    "                  'ocupation',\n",
    "                  'page_views_per_visit',\n",
    "                  'profile_score',\n",
    "                  'source',\n",
    "                  'specialization',\n",
    "                  'total_time_website',\n",
    "                  'total_visits']"
   ]
  },
  {
   "cell_type": "markdown",
   "id": "f81f09bf",
   "metadata": {},
   "source": [
    "#### Created the process-feature matrix"
   ]
  },
  {
   "cell_type": "markdown",
   "id": "9e6576b6",
   "metadata": {},
   "source": [
    "In order to compile and synthesise the final processes to be applied both to the initial dataset structure and to each of the features in it, an excel named 'Production stage_Processes Design' has been designed and can be found in the folder '01_Documents'."
   ]
  },
  {
   "cell_type": "markdown",
   "id": "ee3f31a6",
   "metadata": {},
   "source": [
    "#### Update imported packages"
   ]
  },
  {
   "cell_type": "markdown",
   "id": "80c12eea",
   "metadata": {},
   "source": [
    "Go to the top (importing packages section) and update the packages with the ones will finally be used."
   ]
  },
  {
   "cell_type": "markdown",
   "id": "fe5a706b",
   "metadata": {},
   "source": [
    "## DATASET WRANGLING"
   ]
  },
  {
   "cell_type": "markdown",
   "id": "32cd09e5",
   "metadata": {},
   "source": [
    "### Formatting feature names"
   ]
  },
  {
   "cell_type": "code",
   "execution_count": 43,
   "id": "f08e56d8",
   "metadata": {},
   "outputs": [],
   "source": [
    "df = clean_names(df)"
   ]
  },
  {
   "cell_type": "code",
   "execution_count": 44,
   "id": "8cdbed7e",
   "metadata": {},
   "outputs": [],
   "source": [
    "df.rename(columns={'lead_number':'id',\n",
    "                   'lead_source':'source',\n",
    "                   'totalvisits':'total_visits',\n",
    "                   'total_time_spent_on_website':'total_time_website',\n",
    "                   'how_did_you_hear_about_x_education':'hear_about',\n",
    "                   'what_is_your_current_occupation':'ocupation',\n",
    "                   'what_matters_most_to_you_in_choosing_a_course':'matters_most',\n",
    "                   'asymmetrique_activity_score':'activity_score',\n",
    "                   'asymmetrique_profile_score':'profile_score',\n",
    "                   'a_free_copy_of_mastering_the_interview':'lead_magnet'},\n",
    "          inplace=True)"
   ]
  },
  {
   "cell_type": "markdown",
   "id": "a9cd9497",
   "metadata": {},
   "source": [
    "### Deleting records"
   ]
  },
  {
   "cell_type": "markdown",
   "id": "4af7dbab",
   "metadata": {},
   "source": [
    "#### By duplicated"
   ]
  },
  {
   "cell_type": "code",
   "execution_count": 45,
   "id": "361fd5f0",
   "metadata": {},
   "outputs": [],
   "source": [
    "df.drop_duplicates(inplace = True)"
   ]
  },
  {
   "cell_type": "markdown",
   "id": "f5c95cad",
   "metadata": {},
   "source": [
    "#### By EDA"
   ]
  },
  {
   "cell_type": "code",
   "execution_count": 46,
   "id": "de566c35",
   "metadata": {},
   "outputs": [],
   "source": [
    "df = df.loc[~((df.last_activity=='Email Bounced')|(df.last_notable_activity=='Email Bounced'))]"
   ]
  },
  {
   "cell_type": "markdown",
   "id": "9f90d327",
   "metadata": {},
   "source": [
    "#### For x"
   ]
  },
  {
   "cell_type": "markdown",
   "id": "024faf5e",
   "metadata": {},
   "source": [
    "Creating x by keeping only features included in the final list."
   ]
  },
  {
   "cell_type": "code",
   "execution_count": 47,
   "id": "eb115fbf",
   "metadata": {},
   "outputs": [],
   "source": [
    "x = df[final_features].copy()"
   ]
  },
  {
   "cell_type": "markdown",
   "id": "e746ec8d",
   "metadata": {},
   "source": [
    "#### For y"
   ]
  },
  {
   "cell_type": "markdown",
   "id": "84fd6267",
   "metadata": {},
   "source": [
    "Specifying the target."
   ]
  },
  {
   "cell_type": "code",
   "execution_count": 48,
   "id": "e8cef3f3",
   "metadata": {},
   "outputs": [],
   "source": [
    "target = 'converted'"
   ]
  },
  {
   "cell_type": "markdown",
   "id": "a11b8afe",
   "metadata": {},
   "source": [
    "Creating y."
   ]
  },
  {
   "cell_type": "code",
   "execution_count": 49,
   "id": "d926d93f",
   "metadata": {},
   "outputs": [],
   "source": [
    "y = df[target].copy()"
   ]
  },
  {
   "cell_type": "markdown",
   "id": "99bb2255",
   "metadata": {},
   "source": [
    "## CREATING THE PIPELINE"
   ]
  },
  {
   "cell_type": "markdown",
   "id": "6d6e8fca",
   "metadata": {},
   "source": [
    "### Instantiating Data Quality"
   ]
  },
  {
   "cell_type": "markdown",
   "id": "06178080",
   "metadata": {},
   "source": [
    "#### Creating the function"
   ]
  },
  {
   "cell_type": "code",
   "execution_count": 14,
   "id": "72c2423d",
   "metadata": {},
   "outputs": [
    {
     "name": "stdout",
     "output_type": "stream",
     "text": [
      "<class 'pandas.core.frame.DataFrame'>\n",
      "Int64Index: 8914 entries, 0 to 9239\n",
      "Data columns (total 18 columns):\n",
      " #   Column                 Non-Null Count  Dtype  \n",
      "---  ------                 --------------  -----  \n",
      " 0   activity_score         4866 non-null   float64\n",
      " 1   city                   7543 non-null   object \n",
      " 2   country                6519 non-null   object \n",
      " 3   do_not_call            8914 non-null   object \n",
      " 4   do_not_email           8914 non-null   object \n",
      " 5   hear_about             6834 non-null   object \n",
      " 6   last_activity          8811 non-null   object \n",
      " 7   last_notable_activity  8914 non-null   object \n",
      " 8   lead_magnet            8914 non-null   object \n",
      " 9   lead_origin            8914 non-null   object \n",
      " 10  matters_most           6342 non-null   object \n",
      " 11  ocupation              6353 non-null   object \n",
      " 12  page_views_per_visit   8791 non-null   float64\n",
      " 13  profile_score          4866 non-null   float64\n",
      " 14  source                 8883 non-null   object \n",
      " 15  specialization         7531 non-null   object \n",
      " 16  total_time_website     8914 non-null   int64  \n",
      " 17  total_visits           8791 non-null   float64\n",
      "dtypes: float64(4), int64(1), object(13)\n",
      "memory usage: 1.3+ MB\n"
     ]
    }
   ],
   "source": [
    "x.info()"
   ]
  },
  {
   "cell_type": "code",
   "execution_count": 50,
   "id": "98177b43",
   "metadata": {},
   "outputs": [],
   "source": [
    "def data_quality(df):   \n",
    "    # Correcting feature types\n",
    "    temp = df.astype({'total_visits':'Int64'})\n",
    "    \n",
    "    # Unifiying repeated source categories\n",
    "    temp.source.replace('google','Google',inplace=True)\n",
    "    \n",
    "    # Nulls imputation by mode\n",
    "    def impute_mode(feature):\n",
    "        return(feature.fillna(feature.mode()[0]))\n",
    "    \n",
    "    var_impute_mode = ['ocupation', 'country', 'lead_origin', 'do_not_email', 'do_not_call', 'last_notable_activity',\n",
    "                       'lead_magnet']\n",
    "    temp[var_impute_mode] = temp[var_impute_mode].apply(impute_mode)\n",
    "    \n",
    "    # Nulls imputation by value\n",
    "    temp[['last_activity','matters_most']] = temp[['last_activity','matters_most']].fillna('Unknown')\n",
    "    temp[['hear_about','specialization','city']] = temp[['hear_about','specialization','city']].fillna('Select')\n",
    "    temp[['source']] = temp[['source']].fillna('Null')\n",
    "    \n",
    "    # Nulls imputation by median\n",
    "    def impute_median(feature):\n",
    "        if pd.api.types.is_integer_dtype(feature):\n",
    "            return(feature.fillna(int(feature.median())))\n",
    "        else:\n",
    "            return(feature.fillna(feature.median()))\n",
    "    \n",
    "    var_impute_median = ['total_visits','total_time_website','page_views_per_visit','activity_score','profile_score']\n",
    "    temp[var_impute_median] = temp[var_impute_median].apply(impute_median)\n",
    "    \n",
    "    # Outliers - groupping atypical categories\n",
    "    def group_atypical_categories(var, treshold=0.01, group_name='Others'):\n",
    "        frequencies = var.value_counts(normalize=True)\n",
    "        below_treshold = [each for each in frequencies.loc[frequencies < treshold].index.values]\n",
    "        groupped_array = np.where(var.isin(below_treshold),group_name,var)\n",
    "        return(groupped_array)\n",
    "    \n",
    "    var_group = ['lead_origin', 'source', 'last_activity', 'last_notable_activity', 'country', 'specialization',\n",
    "                 'ocupation', 'hear_about', 'matters_most']\n",
    "    \n",
    "    for feature in var_group:\n",
    "        temp[feature] = group_atypical_categories(temp[feature],treshold = 0.01, group_name='Others')\n",
    " \n",
    "    temp.hear_about.replace('Other','Others',inplace=True)\n",
    "    \n",
    "    # Outliers - ad hoc winsorisation\n",
    "    temp['total_visits'].clip(0,50, inplace=True)\n",
    "    temp['page_views_per_visit'].clip(0,20, inplace=True)\n",
    "    \n",
    "    return(temp)"
   ]
  },
  {
   "cell_type": "markdown",
   "id": "95bd7490",
   "metadata": {},
   "source": [
    "#### Turning it into a transformer"
   ]
  },
  {
   "cell_type": "code",
   "execution_count": 51,
   "id": "6805f964",
   "metadata": {},
   "outputs": [],
   "source": [
    "do_data_quality = FunctionTransformer(data_quality)"
   ]
  },
  {
   "cell_type": "markdown",
   "id": "88e57147",
   "metadata": {},
   "source": [
    "### Instantiating Feature Transformation"
   ]
  },
  {
   "cell_type": "code",
   "execution_count": 52,
   "id": "ee711664",
   "metadata": {},
   "outputs": [],
   "source": [
    "# One Hot Encoding\n",
    "var_ohe = ['lead_origin', 'source', 'do_not_email', 'do_not_call', 'last_activity', 'last_notable_activity', \n",
    "           'country', 'city', 'specialization', 'ocupation', 'hear_about', 'matters_most', 'lead_magnet']\n",
    "ohe = OneHotEncoder(handle_unknown='ignore')\n",
    "\n",
    "# Min-max scaling\n",
    "var_mms = ['total_visits','total_time_website','page_views_per_visit','activity_score','profile_score']\n",
    "mms = MinMaxScaler()"
   ]
  },
  {
   "cell_type": "markdown",
   "id": "eaf3f141",
   "metadata": {},
   "source": [
    "### Creating the preprocessing pipe"
   ]
  },
  {
   "cell_type": "markdown",
   "id": "8d7b7821",
   "metadata": {},
   "source": [
    "#### Creating the column transformer"
   ]
  },
  {
   "cell_type": "code",
   "execution_count": 53,
   "id": "e577b34d",
   "metadata": {},
   "outputs": [],
   "source": [
    "ct = make_column_transformer(\n",
    "    (ohe, var_ohe),\n",
    "    (mms, var_mms),\n",
    "    remainder='drop')"
   ]
  },
  {
   "cell_type": "markdown",
   "id": "5de30e37",
   "metadata": {},
   "source": [
    "#### Creating the pre-processing pipeline"
   ]
  },
  {
   "cell_type": "code",
   "execution_count": 54,
   "id": "54e1300d",
   "metadata": {},
   "outputs": [],
   "source": [
    "pipe_prepro = make_pipeline(do_data_quality, \n",
    "                            ct)"
   ]
  },
  {
   "cell_type": "markdown",
   "id": "d4b08601",
   "metadata": {},
   "source": [
    "### Instantiating the model"
   ]
  },
  {
   "cell_type": "markdown",
   "id": "b64c9e60",
   "metadata": {},
   "source": [
    "#### Instantiating the model"
   ]
  },
  {
   "cell_type": "code",
   "execution_count": 55,
   "id": "8b2e752d",
   "metadata": {},
   "outputs": [],
   "source": [
    "model = LogisticRegression(solver='saga',\n",
    "                                   C=0.9,\n",
    "                                   penalty='l2',\n",
    "                                   max_iter=1000, \n",
    "                                   n_jobs=-1)"
   ]
  },
  {
   "cell_type": "markdown",
   "id": "80f8e2f3",
   "metadata": {},
   "source": [
    "#### Creating the final training pipe"
   ]
  },
  {
   "cell_type": "code",
   "execution_count": 56,
   "id": "0efb038b",
   "metadata": {},
   "outputs": [],
   "source": [
    "pipe_training = make_pipeline(pipe_prepro, model)"
   ]
  },
  {
   "cell_type": "markdown",
   "id": "cb0700d8",
   "metadata": {},
   "source": [
    "#### Saving the final training pipe"
   ]
  },
  {
   "cell_type": "code",
   "execution_count": 63,
   "id": "71715e9c",
   "metadata": {},
   "outputs": [],
   "source": [
    "name_pipe_training = 'pipe_training.pickle'\n",
    "\n",
    "path_pipe_training = project_path + '/04_Models/' + name_pipe_training\n",
    "\n",
    "with open(path_pipe_training, mode='wb') as file:\n",
    "   cloudpickle.dump(pipe_training, file)"
   ]
  },
  {
   "cell_type": "markdown",
   "id": "2c7e5ed1",
   "metadata": {},
   "source": [
    "#### Training the final execution pipe"
   ]
  },
  {
   "cell_type": "code",
   "execution_count": 57,
   "id": "13ca2db6",
   "metadata": {},
   "outputs": [],
   "source": [
    "pipe_execution = pipe_training.fit(x,y)"
   ]
  },
  {
   "cell_type": "markdown",
   "id": "52e506db",
   "metadata": {},
   "source": [
    "## SAVING THE PIPE"
   ]
  },
  {
   "cell_type": "markdown",
   "id": "86a5de63",
   "metadata": {},
   "source": [
    "### Naming the final execution pipe"
   ]
  },
  {
   "cell_type": "code",
   "execution_count": 65,
   "id": "967c6480",
   "metadata": {},
   "outputs": [],
   "source": [
    "name_pipe_execution = 'pipe_execution.pickle'"
   ]
  },
  {
   "cell_type": "markdown",
   "id": "afba8bc8",
   "metadata": {},
   "source": [
    "### Saving the final execution pipe"
   ]
  },
  {
   "cell_type": "code",
   "execution_count": 66,
   "id": "1dda8f25",
   "metadata": {},
   "outputs": [],
   "source": [
    "path_pipe_ejecucion = project_path + '/04_Models/' + name_pipe_execution\n",
    "\n",
    "with open(path_pipe_ejecucion, mode='wb') as file:\n",
    "   cloudpickle.dump(pipe_execution, file)"
   ]
  },
  {
   "cell_type": "markdown",
   "id": "bd5da0bf",
   "metadata": {},
   "source": [
    "## UNSEEN DATA MODEL PERFORMANCE"
   ]
  },
  {
   "cell_type": "markdown",
   "id": "e68f1521",
   "metadata": {},
   "source": [
    "Testing the performance of the model with previously unseen data using the validation dataset reserved in the set up phase at the beginning of the project, and checking that all transformations and calculations work on new raw data to ensure proper functioning once the model is put into production."
   ]
  },
  {
   "cell_type": "code",
   "execution_count": 58,
   "id": "4e5e64b8",
   "metadata": {},
   "outputs": [
    {
     "name": "stdout",
     "output_type": "stream",
     "text": [
      "ROC_AUC_score (unseen data): 0.9147799832878742\n"
     ]
    }
   ],
   "source": [
    "# Loading validation data\n",
    "val_data_file_name = 'validation.csv'\n",
    "val_full_path = project_path + '/02_Data/02_Validation/' + val_data_file_name\n",
    "df_test = pd.read_csv(val_full_path,sep=',')\n",
    "\n",
    "# Adapting validation data structure\n",
    "df_test = clean_names(df_test) \\\n",
    "           .rename(columns={'lead_number':'id',\n",
    "                        'lead_source':'source',\n",
    "                        'totalvisits':'total_visits',\n",
    "                         'total_time_spent_on_website':'total_time_website',\n",
    "                         'how_did_you_hear_about_x_education':'hear_about',\n",
    "                         'what_is_your_current_occupation':'ocupation',\n",
    "                         'what_matters_most_to_you_in_choosing_a_course':'matters_most',\n",
    "                         'asymmetrique_activity_score':'activity_score',\n",
    "                         'asymmetrique_profile_score':'profile_score',\n",
    "                         'a_free_copy_of_mastering_the_interview':'lead_magnet'}) \\\n",
    "           .drop_duplicates() \\\n",
    "           .set_index('id')\n",
    "df_test = df_test.loc[~((df_test.last_activity=='Email Bounced')|(df_test.last_notable_activity=='Email Bounced'))]\n",
    "\n",
    "final_features = ['activity_score','city','country','do_not_call','do_not_email','hear_about','last_activity',                  \n",
    "                  'last_notable_activity','lead_magnet','lead_origin','matters_most','ocupation',\n",
    "                  'page_views_per_visit','profile_score','source','specialization','total_time_website','total_visits']\n",
    "# x and y            \n",
    "x_test = df_test[final_features]\n",
    "y_test = df_test['converted']\n",
    "\n",
    "# Making predictions\n",
    "pred_test = pipe_execution.predict_proba(x_test)[:,1]\n",
    "\n",
    "# Checking validation metrics\n",
    "from sklearn.metrics import roc_auc_score\n",
    "print('ROC_AUC_score (unseen data):', roc_auc_score(y_test, pred_test))"
   ]
  }
 ],
 "metadata": {
  "kernelspec": {
   "display_name": "Python 3 (ipykernel)",
   "language": "python",
   "name": "python3"
  },
  "language_info": {
   "codemirror_mode": {
    "name": "ipython",
    "version": 3
   },
   "file_extension": ".py",
   "mimetype": "text/x-python",
   "name": "python",
   "nbconvert_exporter": "python",
   "pygments_lexer": "ipython3",
   "version": "3.9.12"
  },
  "latex_envs": {
   "LaTeX_envs_menu_present": true,
   "autoclose": false,
   "autocomplete": true,
   "bibliofile": "biblio.bib",
   "cite_by": "apalike",
   "current_citInitial": 1,
   "eqLabelWithNumbers": true,
   "eqNumInitial": 1,
   "hotkeys": {
    "equation": "Ctrl-E",
    "itemize": "Ctrl-I"
   },
   "labels_anchors": false,
   "latex_user_defs": false,
   "report_style_numbering": false,
   "user_envs_cfg": false
  },
  "toc": {
   "base_numbering": 1,
   "nav_menu": {},
   "number_sections": true,
   "sideBar": true,
   "skip_h1_title": false,
   "title_cell": "Table of Contents",
   "title_sidebar": "Contents",
   "toc_cell": false,
   "toc_position": {
    "height": "calc(100% - 180px)",
    "left": "10px",
    "top": "150px",
    "width": "383.367px"
   },
   "toc_section_display": true,
   "toc_window_display": true
  },
  "varInspector": {
   "cols": {
    "lenName": 16,
    "lenType": 16,
    "lenVar": 40
   },
   "kernels_config": {
    "python": {
     "delete_cmd_postfix": "",
     "delete_cmd_prefix": "del ",
     "library": "var_list.py",
     "varRefreshCmd": "print(var_dic_list())"
    },
    "r": {
     "delete_cmd_postfix": ") ",
     "delete_cmd_prefix": "rm(",
     "library": "var_list.r",
     "varRefreshCmd": "cat(var_dic_list()) "
    }
   },
   "types_to_exclude": [
    "module",
    "function",
    "builtin_function_or_method",
    "instance",
    "_Feature"
   ],
   "window_display": false
  }
 },
 "nbformat": 4,
 "nbformat_minor": 5
}
