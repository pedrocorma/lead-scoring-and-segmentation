{
 "cells": [
  {
   "cell_type": "markdown",
   "id": "d31dea65",
   "metadata": {},
   "source": [
    "# UNSUPERVISED MODELLING"
   ]
  },
  {
   "cell_type": "markdown",
   "id": "3107e6c0",
   "metadata": {},
   "source": [
    "In this stage of the project, customer segmentation based on unsupervised modelling will be developed by applying the Kmeans algorithm, in order to find new insights which help to improve company's sales and marketing campaigns and so increase lead-to-customer conversion rate."
   ]
  },
  {
   "cell_type": "markdown",
   "id": "swiss-fault",
   "metadata": {},
   "source": [
    "## IMPORTING PACKAGES"
   ]
  },
  {
   "cell_type": "code",
   "execution_count": 1,
   "id": "adjacent-toddler",
   "metadata": {},
   "outputs": [],
   "source": [
    "import numpy as np\n",
    "import pandas as pd\n",
    "import matplotlib.pyplot as plt\n",
    "%matplotlib inline\n",
    "import seaborn as sns\n",
    "sns.set_theme(style='dark',palette='pastel')\n",
    "\n",
    "from sklearn.model_selection import train_test_split\n",
    "\n",
    "from sklearn.cluster import KMeans\n",
    "from sklearn.metrics import silhouette_score\n",
    "from sklearn.metrics import calinski_harabasz_score\n",
    "from sklearn.metrics import davies_bouldin_score\n",
    "\n",
    "from sklearn.model_selection import GridSearchCV\n",
    "\n",
    "#To increase autocomplete response speed\n",
    "%config IPCompleter.greedy=True\n",
    "\n",
    "#Disabling scientific notation\n",
    "pd.options.display.float_format = '{:.2f}'.format\n",
    "\n",
    "#Disabling warnings\n",
    "import warnings\n",
    "warnings.filterwarnings(\"ignore\")"
   ]
  },
  {
   "cell_type": "markdown",
   "id": "graduate-compensation",
   "metadata": {},
   "source": [
    "## DATA IMPORTATION"
   ]
  },
  {
   "cell_type": "markdown",
   "id": "3a5b94ef",
   "metadata": {},
   "source": [
    "Replace project path."
   ]
  },
  {
   "cell_type": "code",
   "execution_count": 2,
   "id": "f9d2de58",
   "metadata": {},
   "outputs": [],
   "source": [
    "project_path = (r'C:\\Users\\pedro\\PEDRO\\DS\\Portfolio\\LEAD_SCORING').replace('\\\\','/')"
   ]
  },
  {
   "cell_type": "markdown",
   "id": "c3363765",
   "metadata": {},
   "source": [
    "Names of data files."
   ]
  },
  {
   "cell_type": "code",
   "execution_count": 3,
   "id": "a9e2e04a",
   "metadata": {},
   "outputs": [],
   "source": [
    "df_name = 'df_input.pickle'"
   ]
  },
  {
   "cell_type": "markdown",
   "id": "b9825018",
   "metadata": {},
   "source": [
    "Data importation."
   ]
  },
  {
   "cell_type": "code",
   "execution_count": 4,
   "id": "cab6ebcd",
   "metadata": {},
   "outputs": [],
   "source": [
    "df = pd.read_pickle(project_path + '/02_Data/03_Work/' + df_name)"
   ]
  },
  {
   "cell_type": "markdown",
   "id": "b74af7aa",
   "metadata": {},
   "source": [
    "After an iterative process, it was decided not to consider all features to perform the segmentation:"
   ]
  },
  {
   "cell_type": "code",
   "execution_count": 5,
   "id": "7e678215",
   "metadata": {},
   "outputs": [],
   "source": [
    "include = '|'.join(['lead_origin','last_activity','ocupation','total_time_website','converted'])"
   ]
  },
  {
   "cell_type": "code",
   "execution_count": 6,
   "id": "d797a141",
   "metadata": {},
   "outputs": [],
   "source": [
    "df = df.loc[:,df.columns.str.contains(include)]"
   ]
  },
  {
   "cell_type": "code",
   "execution_count": 7,
   "id": "6e687cae",
   "metadata": {},
   "outputs": [
    {
     "data": {
      "text/plain": [
       "['lead_origin_API',\n",
       " 'lead_origin_Landing Page Submission',\n",
       " 'lead_origin_Lead Add Form',\n",
       " 'lead_origin_Others',\n",
       " 'last_activity_Converted to Lead',\n",
       " 'last_activity_Email Link Clicked',\n",
       " 'last_activity_Email Opened',\n",
       " 'last_activity_Form Submitted on Website',\n",
       " 'last_activity_Olark Chat Conversation',\n",
       " 'last_activity_Others',\n",
       " 'last_activity_Page Visited on Website',\n",
       " 'last_activity_SMS Sent',\n",
       " 'last_activity_Unknown',\n",
       " 'ocupation_Others',\n",
       " 'ocupation_Student',\n",
       " 'ocupation_Unemployed',\n",
       " 'ocupation_Working Professional',\n",
       " 'total_time_website_mms',\n",
       " 'converted']"
      ]
     },
     "execution_count": 7,
     "metadata": {},
     "output_type": "execute_result"
    }
   ],
   "source": [
    "df.columns.to_list()"
   ]
  },
  {
   "cell_type": "markdown",
   "id": "72c313d6",
   "metadata": {},
   "source": [
    "Extracting features and target:"
   ]
  },
  {
   "cell_type": "code",
   "execution_count": 8,
   "id": "dc7effff",
   "metadata": {},
   "outputs": [],
   "source": [
    "x = df\n",
    "y = df[['converted']]"
   ]
  },
  {
   "cell_type": "markdown",
   "id": "9790d322",
   "metadata": {},
   "source": [
    "## MODELLING"
   ]
  },
  {
   "cell_type": "markdown",
   "id": "f94fcb44",
   "metadata": {},
   "source": [
    "### Reserving validation dataset"
   ]
  },
  {
   "cell_type": "code",
   "execution_count": 9,
   "id": "760c11d9",
   "metadata": {},
   "outputs": [],
   "source": [
    "train_x,val_x,train_y,val_y = train_test_split(x,y,test_size=0.35)"
   ]
  },
  {
   "cell_type": "markdown",
   "id": "53bd4ad6",
   "metadata": {},
   "source": [
    "### Creating solution space"
   ]
  },
  {
   "cell_type": "code",
   "execution_count": 10,
   "id": "eeaa3ea1",
   "metadata": {},
   "outputs": [],
   "source": [
    "min_k = 2\n",
    "max_k = 8\n",
    "\n",
    "solutions = list(range(min_k,max_k))"
   ]
  },
  {
   "cell_type": "markdown",
   "id": "1f836ca9",
   "metadata": {},
   "source": [
    "### Creating lists to store the output of each metric"
   ]
  },
  {
   "cell_type": "code",
   "execution_count": 11,
   "id": "cfb75560",
   "metadata": {},
   "outputs": [],
   "source": [
    "elbow = []\n",
    "silhouette = []\n",
    "calinski = []\n",
    "davies = []"
   ]
  },
  {
   "cell_type": "markdown",
   "id": "159b78b6",
   "metadata": {},
   "source": [
    "### Analysing solution space"
   ]
  },
  {
   "cell_type": "code",
   "execution_count": 12,
   "id": "4b2f40be",
   "metadata": {},
   "outputs": [],
   "source": [
    "for solution in solutions:\n",
    "    \n",
    "    #Instantiating\n",
    "    cluster = KMeans(n_clusters = solution, n_init=10)\n",
    "    \n",
    "    #Training\n",
    "    cluster.fit(train_x)\n",
    "    \n",
    "    #Metrics\n",
    "    elbow.append(cluster.inertia_)\n",
    "    silhouette.append(silhouette_score(train_x, cluster.labels_))\n",
    "    calinski.append(calinski_harabasz_score(train_x, cluster.labels_))\n",
    "    davies.append(davies_bouldin_score(train_x, cluster.labels_))"
   ]
  },
  {
   "cell_type": "markdown",
   "id": "eaa2acf8",
   "metadata": {},
   "source": [
    "### Identifying the best number of clusters"
   ]
  },
  {
   "cell_type": "markdown",
   "id": "e07d4082",
   "metadata": {},
   "source": [
    "In this section, different methods will be used to identify the optimal number of clusters to be considered in the application of the Kmeans algorithm."
   ]
  },
  {
   "cell_type": "markdown",
   "id": "ba26fca9",
   "metadata": {},
   "source": [
    "#### Metrics analysis"
   ]
  },
  {
   "cell_type": "code",
   "execution_count": 28,
   "id": "30f9904f",
   "metadata": {},
   "outputs": [
    {
     "data": {
      "text/html": [
       "<div>\n",
       "<style scoped>\n",
       "    .dataframe tbody tr th:only-of-type {\n",
       "        vertical-align: middle;\n",
       "    }\n",
       "\n",
       "    .dataframe tbody tr th {\n",
       "        vertical-align: top;\n",
       "    }\n",
       "\n",
       "    .dataframe thead th {\n",
       "        text-align: right;\n",
       "    }\n",
       "</style>\n",
       "<table border=\"1\" class=\"dataframe\">\n",
       "  <thead>\n",
       "    <tr style=\"text-align: right;\">\n",
       "      <th></th>\n",
       "      <th>Elbow</th>\n",
       "      <th>Silhouette</th>\n",
       "      <th>Calinski-Harabasz</th>\n",
       "      <th>Davies-Bouldin</th>\n",
       "    </tr>\n",
       "    <tr>\n",
       "      <th>Solution (number of clusters)</th>\n",
       "      <th></th>\n",
       "      <th></th>\n",
       "      <th></th>\n",
       "      <th></th>\n",
       "    </tr>\n",
       "  </thead>\n",
       "  <tbody>\n",
       "    <tr>\n",
       "      <th>2</th>\n",
       "      <td>6196.53</td>\n",
       "      <td>0.28</td>\n",
       "      <td>1550.70</td>\n",
       "      <td>1.61</td>\n",
       "    </tr>\n",
       "    <tr>\n",
       "      <th>3</th>\n",
       "      <td>5181.24</td>\n",
       "      <td>0.30</td>\n",
       "      <td>1380.53</td>\n",
       "      <td>1.51</td>\n",
       "    </tr>\n",
       "    <tr>\n",
       "      <th>4</th>\n",
       "      <td>4614.22</td>\n",
       "      <td>0.31</td>\n",
       "      <td>1222.76</td>\n",
       "      <td>1.42</td>\n",
       "    </tr>\n",
       "    <tr>\n",
       "      <th>5</th>\n",
       "      <td>4027.37</td>\n",
       "      <td>0.35</td>\n",
       "      <td>1218.99</td>\n",
       "      <td>1.41</td>\n",
       "    </tr>\n",
       "    <tr>\n",
       "      <th>6</th>\n",
       "      <td>3548.19</td>\n",
       "      <td>0.39</td>\n",
       "      <td>1231.58</td>\n",
       "      <td>1.38</td>\n",
       "    </tr>\n",
       "    <tr>\n",
       "      <th>7</th>\n",
       "      <td>3092.99</td>\n",
       "      <td>0.43</td>\n",
       "      <td>1290.52</td>\n",
       "      <td>1.26</td>\n",
       "    </tr>\n",
       "  </tbody>\n",
       "</table>\n",
       "</div>"
      ],
      "text/plain": [
       "                                Elbow  Silhouette  Calinski-Harabasz  \\\n",
       "Solution (number of clusters)                                          \n",
       "2                             6196.53        0.28            1550.70   \n",
       "3                             5181.24        0.30            1380.53   \n",
       "4                             4614.22        0.31            1222.76   \n",
       "5                             4027.37        0.35            1218.99   \n",
       "6                             3548.19        0.39            1231.58   \n",
       "7                             3092.99        0.43            1290.52   \n",
       "\n",
       "                               Davies-Bouldin  \n",
       "Solution (number of clusters)                  \n",
       "2                                        1.61  \n",
       "3                                        1.51  \n",
       "4                                        1.42  \n",
       "5                                        1.41  \n",
       "6                                        1.38  \n",
       "7                                        1.26  "
      ]
     },
     "execution_count": 28,
     "metadata": {},
     "output_type": "execute_result"
    }
   ],
   "source": [
    "metrics = pd.DataFrame({'Solution (number of clusters)':solutions,\n",
    "                        'Elbow': elbow,\n",
    "                        'Silhouette':silhouette,\n",
    "                        'Calinski-Harabasz':calinski,           \n",
    "                        'Davies-Bouldin':davies}).set_index('Solution (number of clusters)')\n",
    "\n",
    "metrics"
   ]
  },
  {
   "cell_type": "markdown",
   "id": "1f5164a5",
   "metadata": {},
   "source": [
    "#### Graphical analysis"
   ]
  },
  {
   "cell_type": "code",
   "execution_count": 14,
   "id": "16a81e6d",
   "metadata": {
    "scrolled": false
   },
   "outputs": [
    {
     "data": {
      "image/png": "[encoded data removed]",
      "text/plain": [
       "<Figure size 720x576 with 4 Axes>"
      ]
     },
     "metadata": {},
     "output_type": "display_data"
    }
   ],
   "source": [
    "metrics.plot(subplots = True, figsize = (10,8), layout = (2,2), sharex = False, grid=True,\n",
    "             title=['Elbow method',\n",
    "                    'Silhouette method',\n",
    "                    'Calinski-Harabasz index',\n",
    "                    'Davies-Bouldin index']);\n",
    "plt.tight_layout()"
   ]
  },
  {
   "cell_type": "markdown",
   "id": "7ec5b14f",
   "metadata": {},
   "source": [
    "Analysing the above graphs, it can be seen that:\n",
    "- **Elbow method:** It does not provide useful information in this case as it shows a linear decrease in errors.\n",
    "\n",
    "- **Silhouette method:** Better results with increasing number of clusters.\n",
    "\n",
    "- **Calinski-Harabasz index:** 2 or 3 clusters provide the best solutions. Results with 6 or 7 clusters are better than with 4 or 5.\n",
    "\n",
    "- **Davies-Bouldin index:** Better results with increasing number of clusters.\n"
   ]
  },
  {
   "cell_type": "markdown",
   "id": "99e34c6f",
   "metadata": {},
   "source": [
    "### Final segmentation using the best number of clusters"
   ]
  },
  {
   "cell_type": "code",
   "execution_count": 15,
   "id": "3ebc920f",
   "metadata": {},
   "outputs": [
    {
     "data": {
      "text/plain": [
       "KMeans(n_clusters=6)"
      ]
     },
     "execution_count": 15,
     "metadata": {},
     "output_type": "execute_result"
    }
   ],
   "source": [
    "best_solution = 6\n",
    "\n",
    "#Instantiating:\n",
    "cluster = KMeans(n_clusters = best_solution, n_init=10)\n",
    "    \n",
    "#Training:\n",
    "cluster.fit(train_x)"
   ]
  },
  {
   "cell_type": "markdown",
   "id": "fd6f59ab",
   "metadata": {},
   "source": [
    "## EVALUATION"
   ]
  },
  {
   "cell_type": "markdown",
   "id": "99827e53",
   "metadata": {},
   "source": [
    "Checking that profiles obtained in training dataset are similar to those obtained when predicting using validation dataset."
   ]
  },
  {
   "cell_type": "markdown",
   "id": "90ac986a",
   "metadata": {},
   "source": [
    "### Calculating the segment in training and validation datasets."
   ]
  },
  {
   "cell_type": "code",
   "execution_count": 16,
   "id": "874aa873",
   "metadata": {},
   "outputs": [],
   "source": [
    "train_x['segment'] = cluster.predict(train_x)"
   ]
  },
  {
   "cell_type": "code",
   "execution_count": 17,
   "id": "ca079478",
   "metadata": {},
   "outputs": [],
   "source": [
    "val_x['segment'] = cluster.predict(val_x)"
   ]
  },
  {
   "cell_type": "markdown",
   "id": "fe9fb9a1",
   "metadata": {},
   "source": [
    "### Comparing training and validation profiles"
   ]
  },
  {
   "cell_type": "markdown",
   "id": "19e443ff",
   "metadata": {},
   "source": [
    "#### Calculating profiles"
   ]
  },
  {
   "cell_type": "code",
   "execution_count": 18,
   "id": "34babe2e",
   "metadata": {},
   "outputs": [],
   "source": [
    "profiles_train = train_x.groupby('segment').mean().T.stack().reset_index()\n",
    "profiles_train.columns = ['feature','segment','mean']\n",
    "\n",
    "profiles_val = val_x.groupby('segment').mean().T.stack().reset_index()\n",
    "profiles_val.columns = ['feature','segment','mean']"
   ]
  },
  {
   "cell_type": "markdown",
   "id": "ef00e706",
   "metadata": {},
   "source": [
    "#### Comparing profiles"
   ]
  },
  {
   "cell_type": "code",
   "execution_count": 19,
   "id": "22c1f870",
   "metadata": {},
   "outputs": [
    {
     "data": {
      "image/png": "[encoded data removed]",
      "text/plain": [
       "<Figure size 1152x432 with 2 Axes>"
      ]
     },
     "metadata": {},
     "output_type": "display_data"
    }
   ],
   "source": [
    "sns.set_style(\"darkgrid\")\n",
    "\n",
    "f, ax = plt.subplots(nrows = 1, ncols = 2, figsize = (16,6))\n",
    "\n",
    "sns.lineplot(ax = ax[0], data = profiles_train, x = 'feature', y = 'mean', hue = 'segment')\n",
    "ax[0].get_legend().remove()\n",
    "ax[0].axes.xaxis.set_visible(False)\n",
    "ax[0].set_title('Profiles (Train)', fontsize=15)\n",
    "\n",
    "sns.lineplot(ax = ax[1], data = profiles_val, x = 'feature', y = 'mean', hue = 'segment')\n",
    "ax[1].get_legend().remove()\n",
    "ax[1].axes.xaxis.set_visible(False)\n",
    "ax[1].set_title('Profiles (Validation)', fontsize=15);"
   ]
  },
  {
   "cell_type": "markdown",
   "id": "87d46a1d",
   "metadata": {},
   "source": [
    "## PROFILING SEGMENTS"
   ]
  },
  {
   "cell_type": "markdown",
   "id": "81672511",
   "metadata": {},
   "source": [
    "This section will profile the segments identified from a business analytics point of view."
   ]
  },
  {
   "cell_type": "code",
   "execution_count": 20,
   "id": "f32990c1",
   "metadata": {
    "scrolled": false
   },
   "outputs": [
    {
     "data": {
      "text/html": [
       "<style type=\"text/css\">\n",
       "#T_38500_row0_col1, #T_38500_row0_col2, #T_38500_row0_col4, #T_38500_row1_col0, #T_38500_row1_col3, #T_38500_row1_col4, #T_38500_row1_col5, #T_38500_row2_col0, #T_38500_row2_col1, #T_38500_row2_col2, #T_38500_row2_col3, #T_38500_row2_col5, #T_38500_row3_col1, #T_38500_row4_col1, #T_38500_row4_col3, #T_38500_row4_col4, #T_38500_row5_col1, #T_38500_row5_col3, #T_38500_row6_col0, #T_38500_row6_col2, #T_38500_row6_col5, #T_38500_row7_col1, #T_38500_row7_col3, #T_38500_row8_col1, #T_38500_row8_col3, #T_38500_row8_col5, #T_38500_row9_col1, #T_38500_row9_col3, #T_38500_row10_col1, #T_38500_row10_col3, #T_38500_row11_col0, #T_38500_row11_col1, #T_38500_row11_col3, #T_38500_row12_col1, #T_38500_row12_col2, #T_38500_row12_col3, #T_38500_row12_col5, #T_38500_row13_col5, #T_38500_row14_col5, #T_38500_row15_col4, #T_38500_row16_col0, #T_38500_row17_col0, #T_38500_row18_col0 {\n",
       "  background-color: lightcoral;\n",
       "}\n",
       "#T_38500_row0_col5, #T_38500_row1_col1, #T_38500_row2_col4, #T_38500_row3_col3, #T_38500_row4_col0, #T_38500_row5_col0, #T_38500_row6_col1, #T_38500_row6_col3, #T_38500_row7_col2, #T_38500_row8_col0, #T_38500_row9_col2, #T_38500_row10_col2, #T_38500_row11_col5, #T_38500_row12_col4, #T_38500_row13_col4, #T_38500_row14_col4, #T_38500_row15_col0, #T_38500_row16_col4, #T_38500_row17_col2, #T_38500_row18_col4 {\n",
       "  background-color: palegreen;\n",
       "}\n",
       "</style>\n",
       "<table id=\"T_38500\">\n",
       "  <thead>\n",
       "    <tr>\n",
       "      <th class=\"index_name level0\" >segment</th>\n",
       "      <th id=\"T_38500_level0_col0\" class=\"col_heading level0 col0\" >0</th>\n",
       "      <th id=\"T_38500_level0_col1\" class=\"col_heading level0 col1\" >1</th>\n",
       "      <th id=\"T_38500_level0_col2\" class=\"col_heading level0 col2\" >2</th>\n",
       "      <th id=\"T_38500_level0_col3\" class=\"col_heading level0 col3\" >3</th>\n",
       "      <th id=\"T_38500_level0_col4\" class=\"col_heading level0 col4\" >4</th>\n",
       "      <th id=\"T_38500_level0_col5\" class=\"col_heading level0 col5\" >5</th>\n",
       "    </tr>\n",
       "  </thead>\n",
       "  <tbody>\n",
       "    <tr>\n",
       "      <th id=\"T_38500_level0_row0\" class=\"row_heading level0 row0\" >lead_origin_API</th>\n",
       "      <td id=\"T_38500_row0_col0\" class=\"data row0 col0\" >0.991429</td>\n",
       "      <td id=\"T_38500_row0_col1\" class=\"data row0 col1\" >0.000000</td>\n",
       "      <td id=\"T_38500_row0_col2\" class=\"data row0 col2\" >0.000000</td>\n",
       "      <td id=\"T_38500_row0_col3\" class=\"data row0 col3\" >0.986567</td>\n",
       "      <td id=\"T_38500_row0_col4\" class=\"data row0 col4\" >0.000000</td>\n",
       "      <td id=\"T_38500_row0_col5\" class=\"data row0 col5\" >0.997849</td>\n",
       "    </tr>\n",
       "    <tr>\n",
       "      <th id=\"T_38500_level0_row1\" class=\"row_heading level0 row1\" >lead_origin_Landing Page Submission</th>\n",
       "      <td id=\"T_38500_row1_col0\" class=\"data row1 col0\" >0.000000</td>\n",
       "      <td id=\"T_38500_row1_col1\" class=\"data row1 col1\" >1.000000</td>\n",
       "      <td id=\"T_38500_row1_col2\" class=\"data row1 col2\" >0.997183</td>\n",
       "      <td id=\"T_38500_row1_col3\" class=\"data row1 col3\" >0.000000</td>\n",
       "      <td id=\"T_38500_row1_col4\" class=\"data row1 col4\" >0.000000</td>\n",
       "      <td id=\"T_38500_row1_col5\" class=\"data row1 col5\" >0.000000</td>\n",
       "    </tr>\n",
       "    <tr>\n",
       "      <th id=\"T_38500_level0_row2\" class=\"row_heading level0 row2\" >lead_origin_Lead Add Form</th>\n",
       "      <td id=\"T_38500_row2_col0\" class=\"data row2 col0\" >0.000000</td>\n",
       "      <td id=\"T_38500_row2_col1\" class=\"data row2 col1\" >0.000000</td>\n",
       "      <td id=\"T_38500_row2_col2\" class=\"data row2 col2\" >0.000000</td>\n",
       "      <td id=\"T_38500_row2_col3\" class=\"data row2 col3\" >0.000000</td>\n",
       "      <td id=\"T_38500_row2_col4\" class=\"data row2 col4\" >0.994302</td>\n",
       "      <td id=\"T_38500_row2_col5\" class=\"data row2 col5\" >0.000000</td>\n",
       "    </tr>\n",
       "    <tr>\n",
       "      <th id=\"T_38500_level0_row3\" class=\"row_heading level0 row3\" >lead_origin_Others</th>\n",
       "      <td id=\"T_38500_row3_col0\" class=\"data row3 col0\" >0.008571</td>\n",
       "      <td id=\"T_38500_row3_col1\" class=\"data row3 col1\" >0.000000</td>\n",
       "      <td id=\"T_38500_row3_col2\" class=\"data row3 col2\" >0.002817</td>\n",
       "      <td id=\"T_38500_row3_col3\" class=\"data row3 col3\" >0.013433</td>\n",
       "      <td id=\"T_38500_row3_col4\" class=\"data row3 col4\" >0.005698</td>\n",
       "      <td id=\"T_38500_row3_col5\" class=\"data row3 col5\" >0.002151</td>\n",
       "    </tr>\n",
       "    <tr>\n",
       "      <th id=\"T_38500_level0_row4\" class=\"row_heading level0 row4\" >last_activity_Converted to Lead</th>\n",
       "      <td id=\"T_38500_row4_col0\" class=\"data row4 col0\" >0.111429</td>\n",
       "      <td id=\"T_38500_row4_col1\" class=\"data row4 col1\" >0.000000</td>\n",
       "      <td id=\"T_38500_row4_col2\" class=\"data row4 col2\" >0.102113</td>\n",
       "      <td id=\"T_38500_row4_col3\" class=\"data row4 col3\" >0.000000</td>\n",
       "      <td id=\"T_38500_row4_col4\" class=\"data row4 col4\" >0.000000</td>\n",
       "      <td id=\"T_38500_row4_col5\" class=\"data row4 col5\" >0.015054</td>\n",
       "    </tr>\n",
       "    <tr>\n",
       "      <th id=\"T_38500_level0_row5\" class=\"row_heading level0 row5\" >last_activity_Email Link Clicked</th>\n",
       "      <td id=\"T_38500_row5_col0\" class=\"data row5 col0\" >0.080000</td>\n",
       "      <td id=\"T_38500_row5_col1\" class=\"data row5 col1\" >0.000000</td>\n",
       "      <td id=\"T_38500_row5_col2\" class=\"data row5 col2\" >0.047183</td>\n",
       "      <td id=\"T_38500_row5_col3\" class=\"data row5 col3\" >0.000000</td>\n",
       "      <td id=\"T_38500_row5_col4\" class=\"data row5 col4\" >0.031339</td>\n",
       "      <td id=\"T_38500_row5_col5\" class=\"data row5 col5\" >0.015054</td>\n",
       "    </tr>\n",
       "    <tr>\n",
       "      <th id=\"T_38500_level0_row6\" class=\"row_heading level0 row6\" >last_activity_Email Opened</th>\n",
       "      <td id=\"T_38500_row6_col0\" class=\"data row6 col0\" >0.000000</td>\n",
       "      <td id=\"T_38500_row6_col1\" class=\"data row6 col1\" >1.000000</td>\n",
       "      <td id=\"T_38500_row6_col2\" class=\"data row6 col2\" >0.000000</td>\n",
       "      <td id=\"T_38500_row6_col3\" class=\"data row6 col3\" >1.000000</td>\n",
       "      <td id=\"T_38500_row6_col4\" class=\"data row6 col4\" >0.293447</td>\n",
       "      <td id=\"T_38500_row6_col5\" class=\"data row6 col5\" >0.000000</td>\n",
       "    </tr>\n",
       "    <tr>\n",
       "      <th id=\"T_38500_level0_row7\" class=\"row_heading level0 row7\" >last_activity_Form Submitted on Website</th>\n",
       "      <td id=\"T_38500_row7_col0\" class=\"data row7 col0\" >0.012857</td>\n",
       "      <td id=\"T_38500_row7_col1\" class=\"data row7 col1\" >0.000000</td>\n",
       "      <td id=\"T_38500_row7_col2\" class=\"data row7 col2\" >0.035211</td>\n",
       "      <td id=\"T_38500_row7_col3\" class=\"data row7 col3\" >0.000000</td>\n",
       "      <td id=\"T_38500_row7_col4\" class=\"data row7 col4\" >0.008547</td>\n",
       "      <td id=\"T_38500_row7_col5\" class=\"data row7 col5\" >0.004301</td>\n",
       "    </tr>\n",
       "    <tr>\n",
       "      <th id=\"T_38500_level0_row8\" class=\"row_heading level0 row8\" >last_activity_Olark Chat Conversation</th>\n",
       "      <td id=\"T_38500_row8_col0\" class=\"data row8 col0\" >0.670000</td>\n",
       "      <td id=\"T_38500_row8_col1\" class=\"data row8 col1\" >0.000000</td>\n",
       "      <td id=\"T_38500_row8_col2\" class=\"data row8 col2\" >0.033803</td>\n",
       "      <td id=\"T_38500_row8_col3\" class=\"data row8 col3\" >0.000000</td>\n",
       "      <td id=\"T_38500_row8_col4\" class=\"data row8 col4\" >0.005698</td>\n",
       "      <td id=\"T_38500_row8_col5\" class=\"data row8 col5\" >0.000000</td>\n",
       "    </tr>\n",
       "    <tr>\n",
       "      <th id=\"T_38500_level0_row9\" class=\"row_heading level0 row9\" >last_activity_Others</th>\n",
       "      <td id=\"T_38500_row9_col0\" class=\"data row9 col0\" >0.027143</td>\n",
       "      <td id=\"T_38500_row9_col1\" class=\"data row9 col1\" >0.000000</td>\n",
       "      <td id=\"T_38500_row9_col2\" class=\"data row9 col2\" >0.037324</td>\n",
       "      <td id=\"T_38500_row9_col3\" class=\"data row9 col3\" >0.000000</td>\n",
       "      <td id=\"T_38500_row9_col4\" class=\"data row9 col4\" >0.022792</td>\n",
       "      <td id=\"T_38500_row9_col5\" class=\"data row9 col5\" >0.023656</td>\n",
       "    </tr>\n",
       "    <tr>\n",
       "      <th id=\"T_38500_level0_row10\" class=\"row_heading level0 row10\" >last_activity_Page Visited on Website</th>\n",
       "      <td id=\"T_38500_row10_col0\" class=\"data row10 col0\" >0.090000</td>\n",
       "      <td id=\"T_38500_row10_col1\" class=\"data row10 col1\" >0.000000</td>\n",
       "      <td id=\"T_38500_row10_col2\" class=\"data row10 col2\" >0.168310</td>\n",
       "      <td id=\"T_38500_row10_col3\" class=\"data row10 col3\" >0.000000</td>\n",
       "      <td id=\"T_38500_row10_col4\" class=\"data row10 col4\" >0.022792</td>\n",
       "      <td id=\"T_38500_row10_col5\" class=\"data row10 col5\" >0.040860</td>\n",
       "    </tr>\n",
       "    <tr>\n",
       "      <th id=\"T_38500_level0_row11\" class=\"row_heading level0 row11\" >last_activity_SMS Sent</th>\n",
       "      <td id=\"T_38500_row11_col0\" class=\"data row11 col0\" >0.000000</td>\n",
       "      <td id=\"T_38500_row11_col1\" class=\"data row11 col1\" >0.000000</td>\n",
       "      <td id=\"T_38500_row11_col2\" class=\"data row11 col2\" >0.576056</td>\n",
       "      <td id=\"T_38500_row11_col3\" class=\"data row11 col3\" >0.000000</td>\n",
       "      <td id=\"T_38500_row11_col4\" class=\"data row11 col4\" >0.492877</td>\n",
       "      <td id=\"T_38500_row11_col5\" class=\"data row11 col5\" >0.901075</td>\n",
       "    </tr>\n",
       "    <tr>\n",
       "      <th id=\"T_38500_level0_row12\" class=\"row_heading level0 row12\" >last_activity_Unknown</th>\n",
       "      <td id=\"T_38500_row12_col0\" class=\"data row12 col0\" >0.008571</td>\n",
       "      <td id=\"T_38500_row12_col1\" class=\"data row12 col1\" >0.000000</td>\n",
       "      <td id=\"T_38500_row12_col2\" class=\"data row12 col2\" >0.000000</td>\n",
       "      <td id=\"T_38500_row12_col3\" class=\"data row12 col3\" >0.000000</td>\n",
       "      <td id=\"T_38500_row12_col4\" class=\"data row12 col4\" >0.122507</td>\n",
       "      <td id=\"T_38500_row12_col5\" class=\"data row12 col5\" >0.000000</td>\n",
       "    </tr>\n",
       "    <tr>\n",
       "      <th id=\"T_38500_level0_row13\" class=\"row_heading level0 row13\" >ocupation_Others</th>\n",
       "      <td id=\"T_38500_row13_col0\" class=\"data row13 col0\" >0.002857</td>\n",
       "      <td id=\"T_38500_row13_col1\" class=\"data row13 col1\" >0.004878</td>\n",
       "      <td id=\"T_38500_row13_col2\" class=\"data row13 col2\" >0.000704</td>\n",
       "      <td id=\"T_38500_row13_col3\" class=\"data row13 col3\" >0.002985</td>\n",
       "      <td id=\"T_38500_row13_col4\" class=\"data row13 col4\" >0.011396</td>\n",
       "      <td id=\"T_38500_row13_col5\" class=\"data row13 col5\" >0.000000</td>\n",
       "    </tr>\n",
       "    <tr>\n",
       "      <th id=\"T_38500_level0_row14\" class=\"row_heading level0 row14\" >ocupation_Student</th>\n",
       "      <td id=\"T_38500_row14_col0\" class=\"data row14 col0\" >0.030000</td>\n",
       "      <td id=\"T_38500_row14_col1\" class=\"data row14 col1\" >0.031220</td>\n",
       "      <td id=\"T_38500_row14_col2\" class=\"data row14 col2\" >0.016901</td>\n",
       "      <td id=\"T_38500_row14_col3\" class=\"data row14 col3\" >0.023881</td>\n",
       "      <td id=\"T_38500_row14_col4\" class=\"data row14 col4\" >0.031339</td>\n",
       "      <td id=\"T_38500_row14_col5\" class=\"data row14 col5\" >0.008602</td>\n",
       "    </tr>\n",
       "    <tr>\n",
       "      <th id=\"T_38500_level0_row15\" class=\"row_heading level0 row15\" >ocupation_Unemployed</th>\n",
       "      <td id=\"T_38500_row15_col0\" class=\"data row15 col0\" >0.954286</td>\n",
       "      <td id=\"T_38500_row15_col1\" class=\"data row15 col1\" >0.890732</td>\n",
       "      <td id=\"T_38500_row15_col2\" class=\"data row15 col2\" >0.900704</td>\n",
       "      <td id=\"T_38500_row15_col3\" class=\"data row15 col3\" >0.932836</td>\n",
       "      <td id=\"T_38500_row15_col4\" class=\"data row15 col4\" >0.700855</td>\n",
       "      <td id=\"T_38500_row15_col5\" class=\"data row15 col5\" >0.898925</td>\n",
       "    </tr>\n",
       "    <tr>\n",
       "      <th id=\"T_38500_level0_row16\" class=\"row_heading level0 row16\" >ocupation_Working Professional</th>\n",
       "      <td id=\"T_38500_row16_col0\" class=\"data row16 col0\" >0.012857</td>\n",
       "      <td id=\"T_38500_row16_col1\" class=\"data row16 col1\" >0.073171</td>\n",
       "      <td id=\"T_38500_row16_col2\" class=\"data row16 col2\" >0.081690</td>\n",
       "      <td id=\"T_38500_row16_col3\" class=\"data row16 col3\" >0.040299</td>\n",
       "      <td id=\"T_38500_row16_col4\" class=\"data row16 col4\" >0.256410</td>\n",
       "      <td id=\"T_38500_row16_col5\" class=\"data row16 col5\" >0.092473</td>\n",
       "    </tr>\n",
       "    <tr>\n",
       "      <th id=\"T_38500_level0_row17\" class=\"row_heading level0 row17\" >total_time_website_mms</th>\n",
       "      <td id=\"T_38500_row17_col0\" class=\"data row17 col0\" >0.089072</td>\n",
       "      <td id=\"T_38500_row17_col1\" class=\"data row17 col1\" >0.273235</td>\n",
       "      <td id=\"T_38500_row17_col2\" class=\"data row17 col2\" >0.288297</td>\n",
       "      <td id=\"T_38500_row17_col3\" class=\"data row17 col3\" >0.159606</td>\n",
       "      <td id=\"T_38500_row17_col4\" class=\"data row17 col4\" >0.091591</td>\n",
       "      <td id=\"T_38500_row17_col5\" class=\"data row17 col5\" >0.246874</td>\n",
       "    </tr>\n",
       "    <tr>\n",
       "      <th id=\"T_38500_level0_row18\" class=\"row_heading level0 row18\" >converted</th>\n",
       "      <td id=\"T_38500_row18_col0\" class=\"data row18 col0\" >0.045714</td>\n",
       "      <td id=\"T_38500_row18_col1\" class=\"data row18 col1\" >0.352195</td>\n",
       "      <td id=\"T_38500_row18_col2\" class=\"data row18 col2\" >0.406338</td>\n",
       "      <td id=\"T_38500_row18_col3\" class=\"data row18 col3\" >0.322388</td>\n",
       "      <td id=\"T_38500_row18_col4\" class=\"data row18 col4\" >0.934473</td>\n",
       "      <td id=\"T_38500_row18_col5\" class=\"data row18 col5\" >0.729032</td>\n",
       "    </tr>\n",
       "  </tbody>\n",
       "</table>\n"
      ],
      "text/plain": [
       "<pandas.io.formats.style.Styler at 0x232cf99b3d0>"
      ]
     },
     "execution_count": 20,
     "metadata": {},
     "output_type": "execute_result"
    }
   ],
   "source": [
    "train_x.groupby('segment').mean().T \\\n",
    "       .style.highlight_max(color = 'palegreen', axis = 1) \\\n",
    "       .highlight_min(color = 'lightcoral', axis = 1)"
   ]
  },
  {
   "cell_type": "markdown",
   "id": "230925c9",
   "metadata": {},
   "source": [
    "Train dataset - Percentage of total leads in each of the segments identified:"
   ]
  },
  {
   "cell_type": "code",
   "execution_count": 22,
   "id": "ba8898dc",
   "metadata": {},
   "outputs": [
    {
     "data": {
      "text/plain": [
       "0   0.15\n",
       "1   0.22\n",
       "2   0.31\n",
       "3   0.14\n",
       "4   0.08\n",
       "5   0.10\n",
       "Name: segment, dtype: float64"
      ]
     },
     "execution_count": 22,
     "metadata": {},
     "output_type": "execute_result"
    }
   ],
   "source": [
    "train_x.segment.value_counts(normalize=True).sort_index()"
   ]
  },
  {
   "cell_type": "code",
   "execution_count": 23,
   "id": "41f2fdae",
   "metadata": {
    "scrolled": false
   },
   "outputs": [
    {
     "data": {
      "text/html": [
       "<style type=\"text/css\">\n",
       "#T_3f62e_row0_col0, #T_3f62e_row1_col1, #T_3f62e_row2_col4, #T_3f62e_row3_col3, #T_3f62e_row4_col2, #T_3f62e_row5_col0, #T_3f62e_row6_col1, #T_3f62e_row6_col3, #T_3f62e_row7_col0, #T_3f62e_row8_col0, #T_3f62e_row9_col2, #T_3f62e_row10_col2, #T_3f62e_row11_col5, #T_3f62e_row12_col4, #T_3f62e_row13_col1, #T_3f62e_row14_col0, #T_3f62e_row15_col0, #T_3f62e_row16_col4, #T_3f62e_row17_col2, #T_3f62e_row18_col4 {\n",
       "  background-color: palegreen;\n",
       "}\n",
       "#T_3f62e_row0_col1, #T_3f62e_row0_col2, #T_3f62e_row0_col4, #T_3f62e_row1_col0, #T_3f62e_row1_col3, #T_3f62e_row1_col4, #T_3f62e_row1_col5, #T_3f62e_row2_col0, #T_3f62e_row2_col1, #T_3f62e_row2_col2, #T_3f62e_row2_col3, #T_3f62e_row2_col5, #T_3f62e_row3_col1, #T_3f62e_row4_col1, #T_3f62e_row4_col3, #T_3f62e_row4_col4, #T_3f62e_row5_col1, #T_3f62e_row5_col3, #T_3f62e_row6_col0, #T_3f62e_row6_col2, #T_3f62e_row6_col5, #T_3f62e_row7_col1, #T_3f62e_row7_col3, #T_3f62e_row7_col4, #T_3f62e_row8_col1, #T_3f62e_row8_col3, #T_3f62e_row8_col5, #T_3f62e_row9_col1, #T_3f62e_row9_col3, #T_3f62e_row10_col1, #T_3f62e_row10_col3, #T_3f62e_row11_col0, #T_3f62e_row11_col1, #T_3f62e_row11_col3, #T_3f62e_row12_col1, #T_3f62e_row12_col3, #T_3f62e_row12_col5, #T_3f62e_row13_col2, #T_3f62e_row14_col5, #T_3f62e_row15_col4, #T_3f62e_row16_col0, #T_3f62e_row17_col0, #T_3f62e_row18_col0 {\n",
       "  background-color: lightcoral;\n",
       "}\n",
       "</style>\n",
       "<table id=\"T_3f62e\">\n",
       "  <thead>\n",
       "    <tr>\n",
       "      <th class=\"index_name level0\" >segment</th>\n",
       "      <th id=\"T_3f62e_level0_col0\" class=\"col_heading level0 col0\" >0</th>\n",
       "      <th id=\"T_3f62e_level0_col1\" class=\"col_heading level0 col1\" >1</th>\n",
       "      <th id=\"T_3f62e_level0_col2\" class=\"col_heading level0 col2\" >2</th>\n",
       "      <th id=\"T_3f62e_level0_col3\" class=\"col_heading level0 col3\" >3</th>\n",
       "      <th id=\"T_3f62e_level0_col4\" class=\"col_heading level0 col4\" >4</th>\n",
       "      <th id=\"T_3f62e_level0_col5\" class=\"col_heading level0 col5\" >5</th>\n",
       "    </tr>\n",
       "  </thead>\n",
       "  <tbody>\n",
       "    <tr>\n",
       "      <th id=\"T_3f62e_level0_row0\" class=\"row_heading level0 row0\" >lead_origin_API</th>\n",
       "      <td id=\"T_3f62e_row0_col0\" class=\"data row0 col0\" >0.997268</td>\n",
       "      <td id=\"T_3f62e_row0_col1\" class=\"data row0 col1\" >0.000000</td>\n",
       "      <td id=\"T_3f62e_row0_col2\" class=\"data row0 col2\" >0.000000</td>\n",
       "      <td id=\"T_3f62e_row0_col3\" class=\"data row0 col3\" >0.970190</td>\n",
       "      <td id=\"T_3f62e_row0_col4\" class=\"data row0 col4\" >0.000000</td>\n",
       "      <td id=\"T_3f62e_row0_col5\" class=\"data row0 col5\" >0.996169</td>\n",
       "    </tr>\n",
       "    <tr>\n",
       "      <th id=\"T_3f62e_level0_row1\" class=\"row_heading level0 row1\" >lead_origin_Landing Page Submission</th>\n",
       "      <td id=\"T_3f62e_row1_col0\" class=\"data row1 col0\" >0.000000</td>\n",
       "      <td id=\"T_3f62e_row1_col1\" class=\"data row1 col1\" >1.000000</td>\n",
       "      <td id=\"T_3f62e_row1_col2\" class=\"data row1 col2\" >0.992268</td>\n",
       "      <td id=\"T_3f62e_row1_col3\" class=\"data row1 col3\" >0.000000</td>\n",
       "      <td id=\"T_3f62e_row1_col4\" class=\"data row1 col4\" >0.000000</td>\n",
       "      <td id=\"T_3f62e_row1_col5\" class=\"data row1 col5\" >0.000000</td>\n",
       "    </tr>\n",
       "    <tr>\n",
       "      <th id=\"T_3f62e_level0_row2\" class=\"row_heading level0 row2\" >lead_origin_Lead Add Form</th>\n",
       "      <td id=\"T_3f62e_row2_col0\" class=\"data row2 col0\" >0.000000</td>\n",
       "      <td id=\"T_3f62e_row2_col1\" class=\"data row2 col1\" >0.000000</td>\n",
       "      <td id=\"T_3f62e_row2_col2\" class=\"data row2 col2\" >0.000000</td>\n",
       "      <td id=\"T_3f62e_row2_col3\" class=\"data row2 col3\" >0.000000</td>\n",
       "      <td id=\"T_3f62e_row2_col4\" class=\"data row2 col4\" >0.990050</td>\n",
       "      <td id=\"T_3f62e_row2_col5\" class=\"data row2 col5\" >0.000000</td>\n",
       "    </tr>\n",
       "    <tr>\n",
       "      <th id=\"T_3f62e_level0_row3\" class=\"row_heading level0 row3\" >lead_origin_Others</th>\n",
       "      <td id=\"T_3f62e_row3_col0\" class=\"data row3 col0\" >0.002732</td>\n",
       "      <td id=\"T_3f62e_row3_col1\" class=\"data row3 col1\" >0.000000</td>\n",
       "      <td id=\"T_3f62e_row3_col2\" class=\"data row3 col2\" >0.007732</td>\n",
       "      <td id=\"T_3f62e_row3_col3\" class=\"data row3 col3\" >0.029810</td>\n",
       "      <td id=\"T_3f62e_row3_col4\" class=\"data row3 col4\" >0.009950</td>\n",
       "      <td id=\"T_3f62e_row3_col5\" class=\"data row3 col5\" >0.003831</td>\n",
       "    </tr>\n",
       "    <tr>\n",
       "      <th id=\"T_3f62e_level0_row4\" class=\"row_heading level0 row4\" >last_activity_Converted to Lead</th>\n",
       "      <td id=\"T_3f62e_row4_col0\" class=\"data row4 col0\" >0.090164</td>\n",
       "      <td id=\"T_3f62e_row4_col1\" class=\"data row4 col1\" >0.000000</td>\n",
       "      <td id=\"T_3f62e_row4_col2\" class=\"data row4 col2\" >0.090206</td>\n",
       "      <td id=\"T_3f62e_row4_col3\" class=\"data row4 col3\" >0.000000</td>\n",
       "      <td id=\"T_3f62e_row4_col4\" class=\"data row4 col4\" >0.000000</td>\n",
       "      <td id=\"T_3f62e_row4_col5\" class=\"data row4 col5\" >0.019157</td>\n",
       "    </tr>\n",
       "    <tr>\n",
       "      <th id=\"T_3f62e_level0_row5\" class=\"row_heading level0 row5\" >last_activity_Email Link Clicked</th>\n",
       "      <td id=\"T_3f62e_row5_col0\" class=\"data row5 col0\" >0.087432</td>\n",
       "      <td id=\"T_3f62e_row5_col1\" class=\"data row5 col1\" >0.000000</td>\n",
       "      <td id=\"T_3f62e_row5_col2\" class=\"data row5 col2\" >0.033505</td>\n",
       "      <td id=\"T_3f62e_row5_col3\" class=\"data row5 col3\" >0.000000</td>\n",
       "      <td id=\"T_3f62e_row5_col4\" class=\"data row5 col4\" >0.034826</td>\n",
       "      <td id=\"T_3f62e_row5_col5\" class=\"data row5 col5\" >0.022989</td>\n",
       "    </tr>\n",
       "    <tr>\n",
       "      <th id=\"T_3f62e_level0_row6\" class=\"row_heading level0 row6\" >last_activity_Email Opened</th>\n",
       "      <td id=\"T_3f62e_row6_col0\" class=\"data row6 col0\" >0.000000</td>\n",
       "      <td id=\"T_3f62e_row6_col1\" class=\"data row6 col1\" >1.000000</td>\n",
       "      <td id=\"T_3f62e_row6_col2\" class=\"data row6 col2\" >0.000000</td>\n",
       "      <td id=\"T_3f62e_row6_col3\" class=\"data row6 col3\" >1.000000</td>\n",
       "      <td id=\"T_3f62e_row6_col4\" class=\"data row6 col4\" >0.308458</td>\n",
       "      <td id=\"T_3f62e_row6_col5\" class=\"data row6 col5\" >0.000000</td>\n",
       "    </tr>\n",
       "    <tr>\n",
       "      <th id=\"T_3f62e_level0_row7\" class=\"row_heading level0 row7\" >last_activity_Form Submitted on Website</th>\n",
       "      <td id=\"T_3f62e_row7_col0\" class=\"data row7 col0\" >0.027322</td>\n",
       "      <td id=\"T_3f62e_row7_col1\" class=\"data row7 col1\" >0.000000</td>\n",
       "      <td id=\"T_3f62e_row7_col2\" class=\"data row7 col2\" >0.027062</td>\n",
       "      <td id=\"T_3f62e_row7_col3\" class=\"data row7 col3\" >0.000000</td>\n",
       "      <td id=\"T_3f62e_row7_col4\" class=\"data row7 col4\" >0.000000</td>\n",
       "      <td id=\"T_3f62e_row7_col5\" class=\"data row7 col5\" >0.011494</td>\n",
       "    </tr>\n",
       "    <tr>\n",
       "      <th id=\"T_3f62e_level0_row8\" class=\"row_heading level0 row8\" >last_activity_Olark Chat Conversation</th>\n",
       "      <td id=\"T_3f62e_row8_col0\" class=\"data row8 col0\" >0.631148</td>\n",
       "      <td id=\"T_3f62e_row8_col1\" class=\"data row8 col1\" >0.000000</td>\n",
       "      <td id=\"T_3f62e_row8_col2\" class=\"data row8 col2\" >0.033505</td>\n",
       "      <td id=\"T_3f62e_row8_col3\" class=\"data row8 col3\" >0.000000</td>\n",
       "      <td id=\"T_3f62e_row8_col4\" class=\"data row8 col4\" >0.009950</td>\n",
       "      <td id=\"T_3f62e_row8_col5\" class=\"data row8 col5\" >0.000000</td>\n",
       "    </tr>\n",
       "    <tr>\n",
       "      <th id=\"T_3f62e_level0_row9\" class=\"row_heading level0 row9\" >last_activity_Others</th>\n",
       "      <td id=\"T_3f62e_row9_col0\" class=\"data row9 col0\" >0.030055</td>\n",
       "      <td id=\"T_3f62e_row9_col1\" class=\"data row9 col1\" >0.000000</td>\n",
       "      <td id=\"T_3f62e_row9_col2\" class=\"data row9 col2\" >0.046392</td>\n",
       "      <td id=\"T_3f62e_row9_col3\" class=\"data row9 col3\" >0.000000</td>\n",
       "      <td id=\"T_3f62e_row9_col4\" class=\"data row9 col4\" >0.039801</td>\n",
       "      <td id=\"T_3f62e_row9_col5\" class=\"data row9 col5\" >0.022989</td>\n",
       "    </tr>\n",
       "    <tr>\n",
       "      <th id=\"T_3f62e_level0_row10\" class=\"row_heading level0 row10\" >last_activity_Page Visited on Website</th>\n",
       "      <td id=\"T_3f62e_row10_col0\" class=\"data row10 col0\" >0.131148</td>\n",
       "      <td id=\"T_3f62e_row10_col1\" class=\"data row10 col1\" >0.000000</td>\n",
       "      <td id=\"T_3f62e_row10_col2\" class=\"data row10 col2\" >0.161082</td>\n",
       "      <td id=\"T_3f62e_row10_col3\" class=\"data row10 col3\" >0.000000</td>\n",
       "      <td id=\"T_3f62e_row10_col4\" class=\"data row10 col4\" >0.029851</td>\n",
       "      <td id=\"T_3f62e_row10_col5\" class=\"data row10 col5\" >0.053640</td>\n",
       "    </tr>\n",
       "    <tr>\n",
       "      <th id=\"T_3f62e_level0_row11\" class=\"row_heading level0 row11\" >last_activity_SMS Sent</th>\n",
       "      <td id=\"T_3f62e_row11_col0\" class=\"data row11 col0\" >0.000000</td>\n",
       "      <td id=\"T_3f62e_row11_col1\" class=\"data row11 col1\" >0.000000</td>\n",
       "      <td id=\"T_3f62e_row11_col2\" class=\"data row11 col2\" >0.605670</td>\n",
       "      <td id=\"T_3f62e_row11_col3\" class=\"data row11 col3\" >0.000000</td>\n",
       "      <td id=\"T_3f62e_row11_col4\" class=\"data row11 col4\" >0.417910</td>\n",
       "      <td id=\"T_3f62e_row11_col5\" class=\"data row11 col5\" >0.869732</td>\n",
       "    </tr>\n",
       "    <tr>\n",
       "      <th id=\"T_3f62e_level0_row12\" class=\"row_heading level0 row12\" >last_activity_Unknown</th>\n",
       "      <td id=\"T_3f62e_row12_col0\" class=\"data row12 col0\" >0.002732</td>\n",
       "      <td id=\"T_3f62e_row12_col1\" class=\"data row12 col1\" >0.000000</td>\n",
       "      <td id=\"T_3f62e_row12_col2\" class=\"data row12 col2\" >0.002577</td>\n",
       "      <td id=\"T_3f62e_row12_col3\" class=\"data row12 col3\" >0.000000</td>\n",
       "      <td id=\"T_3f62e_row12_col4\" class=\"data row12 col4\" >0.159204</td>\n",
       "      <td id=\"T_3f62e_row12_col5\" class=\"data row12 col5\" >0.000000</td>\n",
       "    </tr>\n",
       "    <tr>\n",
       "      <th id=\"T_3f62e_level0_row13\" class=\"row_heading level0 row13\" >ocupation_Others</th>\n",
       "      <td id=\"T_3f62e_row13_col0\" class=\"data row13 col0\" >0.005464</td>\n",
       "      <td id=\"T_3f62e_row13_col1\" class=\"data row13 col1\" >0.007678</td>\n",
       "      <td id=\"T_3f62e_row13_col2\" class=\"data row13 col2\" >0.001289</td>\n",
       "      <td id=\"T_3f62e_row13_col3\" class=\"data row13 col3\" >0.005420</td>\n",
       "      <td id=\"T_3f62e_row13_col4\" class=\"data row13 col4\" >0.004975</td>\n",
       "      <td id=\"T_3f62e_row13_col5\" class=\"data row13 col5\" >0.003831</td>\n",
       "    </tr>\n",
       "    <tr>\n",
       "      <th id=\"T_3f62e_level0_row14\" class=\"row_heading level0 row14\" >ocupation_Student</th>\n",
       "      <td id=\"T_3f62e_row14_col0\" class=\"data row14 col0\" >0.030055</td>\n",
       "      <td id=\"T_3f62e_row14_col1\" class=\"data row14 col1\" >0.017274</td>\n",
       "      <td id=\"T_3f62e_row14_col2\" class=\"data row14 col2\" >0.019330</td>\n",
       "      <td id=\"T_3f62e_row14_col3\" class=\"data row14 col3\" >0.018970</td>\n",
       "      <td id=\"T_3f62e_row14_col4\" class=\"data row14 col4\" >0.029851</td>\n",
       "      <td id=\"T_3f62e_row14_col5\" class=\"data row14 col5\" >0.000000</td>\n",
       "    </tr>\n",
       "    <tr>\n",
       "      <th id=\"T_3f62e_level0_row15\" class=\"row_heading level0 row15\" >ocupation_Unemployed</th>\n",
       "      <td id=\"T_3f62e_row15_col0\" class=\"data row15 col0\" >0.961749</td>\n",
       "      <td id=\"T_3f62e_row15_col1\" class=\"data row15 col1\" >0.915547</td>\n",
       "      <td id=\"T_3f62e_row15_col2\" class=\"data row15 col2\" >0.891753</td>\n",
       "      <td id=\"T_3f62e_row15_col3\" class=\"data row15 col3\" >0.929539</td>\n",
       "      <td id=\"T_3f62e_row15_col4\" class=\"data row15 col4\" >0.696517</td>\n",
       "      <td id=\"T_3f62e_row15_col5\" class=\"data row15 col5\" >0.865900</td>\n",
       "    </tr>\n",
       "    <tr>\n",
       "      <th id=\"T_3f62e_level0_row16\" class=\"row_heading level0 row16\" >ocupation_Working Professional</th>\n",
       "      <td id=\"T_3f62e_row16_col0\" class=\"data row16 col0\" >0.002732</td>\n",
       "      <td id=\"T_3f62e_row16_col1\" class=\"data row16 col1\" >0.059501</td>\n",
       "      <td id=\"T_3f62e_row16_col2\" class=\"data row16 col2\" >0.087629</td>\n",
       "      <td id=\"T_3f62e_row16_col3\" class=\"data row16 col3\" >0.046070</td>\n",
       "      <td id=\"T_3f62e_row16_col4\" class=\"data row16 col4\" >0.268657</td>\n",
       "      <td id=\"T_3f62e_row16_col5\" class=\"data row16 col5\" >0.130268</td>\n",
       "    </tr>\n",
       "    <tr>\n",
       "      <th id=\"T_3f62e_level0_row17\" class=\"row_heading level0 row17\" >total_time_website_mms</th>\n",
       "      <td id=\"T_3f62e_row17_col0\" class=\"data row17 col0\" >0.091726</td>\n",
       "      <td id=\"T_3f62e_row17_col1\" class=\"data row17 col1\" >0.259113</td>\n",
       "      <td id=\"T_3f62e_row17_col2\" class=\"data row17 col2\" >0.288242</td>\n",
       "      <td id=\"T_3f62e_row17_col3\" class=\"data row17 col3\" >0.169226</td>\n",
       "      <td id=\"T_3f62e_row17_col4\" class=\"data row17 col4\" >0.115521</td>\n",
       "      <td id=\"T_3f62e_row17_col5\" class=\"data row17 col5\" >0.250422</td>\n",
       "    </tr>\n",
       "    <tr>\n",
       "      <th id=\"T_3f62e_level0_row18\" class=\"row_heading level0 row18\" >converted</th>\n",
       "      <td id=\"T_3f62e_row18_col0\" class=\"data row18 col0\" >0.043716</td>\n",
       "      <td id=\"T_3f62e_row18_col1\" class=\"data row18 col1\" >0.318618</td>\n",
       "      <td id=\"T_3f62e_row18_col2\" class=\"data row18 col2\" >0.396907</td>\n",
       "      <td id=\"T_3f62e_row18_col3\" class=\"data row18 col3\" >0.308943</td>\n",
       "      <td id=\"T_3f62e_row18_col4\" class=\"data row18 col4\" >0.910448</td>\n",
       "      <td id=\"T_3f62e_row18_col5\" class=\"data row18 col5\" >0.758621</td>\n",
       "    </tr>\n",
       "  </tbody>\n",
       "</table>\n"
      ],
      "text/plain": [
       "<pandas.io.formats.style.Styler at 0x232cf5dbe80>"
      ]
     },
     "execution_count": 23,
     "metadata": {},
     "output_type": "execute_result"
    }
   ],
   "source": [
    "val_x.groupby('segment').mean().T \\\n",
    "     .style.highlight_max(color = 'palegreen', axis = 1) \\\n",
    "     .highlight_min(color = 'lightcoral', axis = 1)"
   ]
  },
  {
   "cell_type": "markdown",
   "id": "887dc2b0",
   "metadata": {},
   "source": [
    "Validation dataset - Percentage of total leads in each of the segments identified:"
   ]
  },
  {
   "cell_type": "code",
   "execution_count": 24,
   "id": "d35d0297",
   "metadata": {},
   "outputs": [
    {
     "data": {
      "text/plain": [
       "0   0.15\n",
       "1   0.21\n",
       "2   0.31\n",
       "3   0.15\n",
       "4   0.08\n",
       "5   0.10\n",
       "Name: segment, dtype: float64"
      ]
     },
     "execution_count": 24,
     "metadata": {},
     "output_type": "execute_result"
    }
   ],
   "source": [
    "val_x.segment.value_counts(normalize=True).sort_index()"
   ]
  },
  {
   "cell_type": "markdown",
   "id": "e6ad902d",
   "metadata": {},
   "source": [
    "### Segment descriptions"
   ]
  },
  {
   "cell_type": "markdown",
   "id": "85090e2c",
   "metadata": {},
   "source": [
    "**Segment 0**\n",
    "- Origin: API.\n",
    "- Last activity: Most leads have conversations via Olark chat.\n",
    "- Segment with lower presence of working professionals.\n",
    "- Time spent on the website far below average.\n",
    "- Almost no leads in this segment buy the company's product.\n",
    "\n",
    "**Segment 1**\n",
    "- Origin: Landing Page.\n",
    "- Last activity: Email Opened.\n",
    "- Some presence of working professionals.\n",
    "- Above-average time spent on the website.\n",
    "- Slightly lower conversion rate than the company's current average conversion rate.\n",
    "\n",
    "**Segment 2**\n",
    "- Origin: Landing Page.\n",
    "- Last activity: Most of them have received an SMS. Some of them have visited the website.\n",
    "- Some presence of working professionals.\n",
    "- Above-average time spent on the website.\n",
    "- Slightly higher conversion rate than the company's current average conversion rate.\n",
    "\n",
    "**Segment 3**\n",
    "- Origin: API.\n",
    "- Last activity: Email Opened.\n",
    "- Some presence of working professionals.\n",
    "- Below average time spent on website.\n",
    "- Slightly lower conversion rate than the company's current one. Similar to the conversion rate of segment 1.\n",
    "\n",
    "**Segment 4**\n",
    "- Origin: Lead Add Form (main sources: References, Welingak website).\n",
    "- Last activity: Email Opened, SMS sent or unknown.\n",
    "- High presence of working professionals.\n",
    "- Time spent on the website far below average.\n",
    "- 9 out of 10 leads in this segment end up buying the company's product.\n",
    "\n",
    "**Segment 5**\n",
    "- Origin: API.\n",
    "- Last activity: SMS sent.\n",
    "- Notable presence of working professionals.\n",
    "- Above-average time spent on the website.\n",
    "- Conversion rate significantly higher than the company's current average conversion rate."
   ]
  },
  {
   "cell_type": "markdown",
   "id": "cc3dfc5b",
   "metadata": {},
   "source": [
    "## Conclusions"
   ]
  },
  {
   "cell_type": "markdown",
   "id": "8050028b",
   "metadata": {},
   "source": [
    "1. The company's most valuable leads are those that come from referrals or from Welingak website, and even more so if they are working professionals. As proposed in the exploratory data analysis section, the company should seriously consider creating a referral programme to encourage existing customers to recommend the course to their close circle.\n",
    "\n",
    "\n",
    "2. SMS campaigns are performing quite well. However, these campaigns should focus on:\n",
    "    - Working professionals comming from API or landing page who spend above-average time on the website.\n",
    "    - Leads comming from References or Welingak website regardless of their occupation and time spend on the website.\n",
    "    - Avoid sending sms to leads who come from API and have spent a short time on the site.\n",
    "    \n",
    "\n",
    "3. Olark chat is not performing well. The company should consider withdrawing investment in this service and for leads coming from API replace it with:\n",
    "    - Email marketing campaigns in case of working professionals who spent a short time on the website or in case of unemployed leads.\n",
    "    - SMS campaigns in case of working professionals who spend above-average time on the website, as discussed in the previous point."
   ]
  }
 ],
 "metadata": {
  "kernelspec": {
   "display_name": "Python 3 (ipykernel)",
   "language": "python",
   "name": "python3"
  },
  "language_info": {
   "codemirror_mode": {
    "name": "ipython",
    "version": 3
   },
   "file_extension": ".py",
   "mimetype": "text/x-python",
   "name": "python",
   "nbconvert_exporter": "python",
   "pygments_lexer": "ipython3",
   "version": "3.9.12"
  },
  "latex_envs": {
   "LaTeX_envs_menu_present": true,
   "autoclose": false,
   "autocomplete": true,
   "bibliofile": "biblio.bib",
   "cite_by": "apalike",
   "current_citInitial": 1,
   "eqLabelWithNumbers": true,
   "eqNumInitial": 1,
   "hotkeys": {
    "equation": "Ctrl-E",
    "itemize": "Ctrl-I"
   },
   "labels_anchors": false,
   "latex_user_defs": false,
   "report_style_numbering": false,
   "user_envs_cfg": false
  },
  "toc": {
   "base_numbering": 1,
   "nav_menu": {},
   "number_sections": true,
   "sideBar": true,
   "skip_h1_title": false,
   "title_cell": "Table of Contents",
   "title_sidebar": "Contents",
   "toc_cell": false,
   "toc_position": {
    "height": "calc(100% - 180px)",
    "left": "10px",
    "top": "150px",
    "width": "253.95px"
   },
   "toc_section_display": true,
   "toc_window_display": true
  },
  "varInspector": {
   "cols": {
    "lenName": 16,
    "lenType": 16,
    "lenVar": 40
   },
   "kernels_config": {
    "python": {
     "delete_cmd_postfix": "",
     "delete_cmd_prefix": "del ",
     "library": "var_list.py",
     "varRefreshCmd": "print(var_dic_list())"
    },
    "r": {
     "delete_cmd_postfix": ") ",
     "delete_cmd_prefix": "rm(",
     "library": "var_list.r",
     "varRefreshCmd": "cat(var_dic_list()) "
    }
   },
   "position": {
    "height": "546.85px",
    "left": "1524.75px",
    "right": "20px",
    "top": "212px",
    "width": "350px"
   },
   "types_to_exclude": [
    "module",
    "function",
    "builtin_function_or_method",
    "instance",
    "_Feature"
   ],
   "window_display": true
  }
 },
 "nbformat": 4,
 "nbformat_minor": 5
}
