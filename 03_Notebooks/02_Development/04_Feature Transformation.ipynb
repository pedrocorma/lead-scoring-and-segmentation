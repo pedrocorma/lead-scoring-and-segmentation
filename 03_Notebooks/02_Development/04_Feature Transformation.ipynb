{
 "cells": [
  {
   "cell_type": "markdown",
   "id": "d31dea65",
   "metadata": {},
   "source": [
    "# FEATURE TRANSFORMATION"
   ]
  },
  {
   "cell_type": "markdown",
   "id": "9739fea7",
   "metadata": {},
   "source": [
    "At this stage of the project, different variable transformation techniques will be applied to adapt them to the requirements of the algorithms that will be used during the modelling phase.\n",
    "\n",
    "As discussed during the exploratory data analysis stage, two different models will be developed:\n",
    "1. A lead segmentation model that helps sales and marketing teams to identify the company's different leads profiles.\n",
    "2. A predictive lead scoring model that identifies people who are most likely to convert into paying customers.\n",
    "\n",
    "In both cases, categorical features have to be transformed into numerical features. Given that the categorical features in the dataset are of the nominal type, one hot encoding technique will be used for this purpose.\n",
    "\n",
    "Unsupervised modelling techniques based on Kmeans algorithm will be used for lead segmentation model. Kmeans is very sensitive to the different scales of the features as it is a distance-based algorithm, therefore rescaling techniques have to be applied to ensure that all features are on the same scale. Since it has been decided to apply one hot encoding to categorical features, the rescaling technique that makes the most sense to apply in this case is min-max scaling which will allow transforming feature values to a scale between 0 and 1.\n",
    "\n",
    "On the other hand, it has to be decided whether feature discretisation/binarisation processes are to be applied. Given that for the project to be developed the objective of prediction is more important than interpretation one, and also taking into account that one of the models to be developed is based on a segmentation algorithm, neither discretisation nor binarisation processes will be applied.\n",
    "\n",
    "Finally, note that it is not necessary to apply class balancing processes as the presence of both classes in the dataset (converted=1, converted=0) is sufficiently significant."
   ]
  },
  {
   "cell_type": "markdown",
   "id": "swiss-fault",
   "metadata": {},
   "source": [
    "## IMPORTING PACKAGES"
   ]
  },
  {
   "cell_type": "code",
   "execution_count": 1,
   "id": "adjacent-toddler",
   "metadata": {},
   "outputs": [],
   "source": [
    "import numpy as np\n",
    "import pandas as pd\n",
    "from sklearn.preprocessing import OneHotEncoder\n",
    "from sklearn.preprocessing import MinMaxScaler\n",
    "\n",
    "\n",
    "#To increase autocomplete response speed\n",
    "%config IPCompleter.greedy=True"
   ]
  },
  {
   "cell_type": "markdown",
   "id": "graduate-compensation",
   "metadata": {},
   "source": [
    "## DATA IMPORTATION"
   ]
  },
  {
   "cell_type": "markdown",
   "id": "3a5b94ef",
   "metadata": {},
   "source": [
    "Project path."
   ]
  },
  {
   "cell_type": "code",
   "execution_count": 2,
   "id": "f9d2de58",
   "metadata": {},
   "outputs": [],
   "source": [
    "project_path = (r'C:\\Users\\pedro\\PEDRO\\DS\\Portfolio\\LEAD_SCORING').replace('\\\\','/')"
   ]
  },
  {
   "cell_type": "markdown",
   "id": "c3363765",
   "metadata": {},
   "source": [
    "Names of data files."
   ]
  },
  {
   "cell_type": "code",
   "execution_count": 3,
   "id": "a9e2e04a",
   "metadata": {},
   "outputs": [],
   "source": [
    "cat_name = 'cat_result_eda.pickle'\n",
    "num_name = 'num_result_eda.pickle'"
   ]
  },
  {
   "cell_type": "markdown",
   "id": "b9825018",
   "metadata": {},
   "source": [
    "Data importation"
   ]
  },
  {
   "cell_type": "code",
   "execution_count": 4,
   "id": "cab6ebcd",
   "metadata": {},
   "outputs": [],
   "source": [
    "cat = pd.read_pickle(project_path + '/02_Data/03_Work/' + cat_name)\n",
    "num = pd.read_pickle(project_path + '/02_Data/03_Work/' + num_name)"
   ]
  },
  {
   "cell_type": "markdown",
   "id": "a1350902",
   "metadata": {},
   "source": [
    "Separating the target."
   ]
  },
  {
   "cell_type": "code",
   "execution_count": 5,
   "id": "095b0ef2",
   "metadata": {},
   "outputs": [],
   "source": [
    "target = num[['converted']].copy().reset_index(drop=True)"
   ]
  },
  {
   "cell_type": "markdown",
   "id": "9790d322",
   "metadata": {},
   "source": [
    "## TRANSFORMATION OF CATEGORICAL FEATURES"
   ]
  },
  {
   "cell_type": "markdown",
   "id": "f1fa5201",
   "metadata": {},
   "source": [
    "### One Hot Encoding"
   ]
  },
  {
   "cell_type": "markdown",
   "id": "c6e7864d",
   "metadata": {},
   "source": [
    "Selecting nominal features to be encoded using OHE:"
   ]
  },
  {
   "cell_type": "code",
   "execution_count": 6,
   "id": "6e36cf47",
   "metadata": {},
   "outputs": [],
   "source": [
    "var_ohe = ['lead_origin', 'source', 'do_not_email', 'do_not_call', 'last_activity',\n",
    "           'last_notable_activity', 'country', 'city', 'specialization', 'ocupation',\n",
    "           'hear_about', 'matters_most', 'lead_magnet']"
   ]
  },
  {
   "cell_type": "markdown",
   "id": "db8d4634",
   "metadata": {},
   "source": [
    "Instantiating:"
   ]
  },
  {
   "cell_type": "code",
   "execution_count": 7,
   "id": "e75c2ee4",
   "metadata": {},
   "outputs": [],
   "source": [
    "ohe = OneHotEncoder(sparse = False, handle_unknown='ignore')"
   ]
  },
  {
   "cell_type": "markdown",
   "id": "26c9f58f",
   "metadata": {},
   "source": [
    "Training and applying encoding:"
   ]
  },
  {
   "cell_type": "code",
   "execution_count": 8,
   "id": "4162d5a7",
   "metadata": {},
   "outputs": [],
   "source": [
    "cat_ohe = ohe.fit_transform(cat[var_ohe])"
   ]
  },
  {
   "cell_type": "markdown",
   "id": "c9131f15",
   "metadata": {},
   "source": [
    "Saving as a dataframe:"
   ]
  },
  {
   "cell_type": "code",
   "execution_count": 9,
   "id": "783255d7",
   "metadata": {},
   "outputs": [],
   "source": [
    "cat_ohe = pd.DataFrame(cat_ohe, columns = ohe.get_feature_names_out())"
   ]
  },
  {
   "cell_type": "markdown",
   "id": "ec6bd31a",
   "metadata": {},
   "source": [
    "## TRANSFORMATION OF NUMERICAL FEATURES"
   ]
  },
  {
   "cell_type": "markdown",
   "id": "87434e0c",
   "metadata": {},
   "source": [
    "## JOINING TRANSFORMED DATASETS"
   ]
  },
  {
   "cell_type": "code",
   "execution_count": 10,
   "id": "8d8b8d15",
   "metadata": {},
   "outputs": [],
   "source": [
    "df = pd.concat([cat_ohe,num.reset_index()],axis=1)"
   ]
  },
  {
   "cell_type": "markdown",
   "id": "5f9ffae2",
   "metadata": {},
   "source": [
    "## FEATURE RESCALATION"
   ]
  },
  {
   "cell_type": "markdown",
   "id": "fbc62831",
   "metadata": {},
   "source": [
    "### Using Min-Max scaling"
   ]
  },
  {
   "cell_type": "code",
   "execution_count": 11,
   "id": "e178c17b",
   "metadata": {},
   "outputs": [
    {
     "name": "stdout",
     "output_type": "stream",
     "text": [
      "<class 'pandas.core.frame.DataFrame'>\n",
      "RangeIndex: 7125 entries, 0 to 7124\n",
      "Data columns (total 80 columns):\n",
      " #   Column                                            Non-Null Count  Dtype  \n",
      "---  ------                                            --------------  -----  \n",
      " 0   lead_origin_API                                   7125 non-null   float64\n",
      " 1   lead_origin_Landing Page Submission               7125 non-null   float64\n",
      " 2   lead_origin_Lead Add Form                         7125 non-null   float64\n",
      " 3   lead_origin_Others                                7125 non-null   float64\n",
      " 4   source_Direct Traffic                             7125 non-null   float64\n",
      " 5   source_Google                                     7125 non-null   float64\n",
      " 6   source_Olark Chat                                 7125 non-null   float64\n",
      " 7   source_Organic Search                             7125 non-null   float64\n",
      " 8   source_Others                                     7125 non-null   float64\n",
      " 9   source_Reference                                  7125 non-null   float64\n",
      " 10  source_Referral Sites                             7125 non-null   float64\n",
      " 11  source_Welingak Website                           7125 non-null   float64\n",
      " 12  do_not_email_No                                   7125 non-null   float64\n",
      " 13  do_not_email_Yes                                  7125 non-null   float64\n",
      " 14  do_not_call_No                                    7125 non-null   float64\n",
      " 15  do_not_call_Yes                                   7125 non-null   float64\n",
      " 16  last_activity_Converted to Lead                   7125 non-null   float64\n",
      " 17  last_activity_Email Link Clicked                  7125 non-null   float64\n",
      " 18  last_activity_Email Opened                        7125 non-null   float64\n",
      " 19  last_activity_Form Submitted on Website           7125 non-null   float64\n",
      " 20  last_activity_Olark Chat Conversation             7125 non-null   float64\n",
      " 21  last_activity_Others                              7125 non-null   float64\n",
      " 22  last_activity_Page Visited on Website             7125 non-null   float64\n",
      " 23  last_activity_SMS Sent                            7125 non-null   float64\n",
      " 24  last_activity_Unknown                             7125 non-null   float64\n",
      " 25  last_notable_activity_Email Link Clicked          7125 non-null   float64\n",
      " 26  last_notable_activity_Email Opened                7125 non-null   float64\n",
      " 27  last_notable_activity_Modified                    7125 non-null   float64\n",
      " 28  last_notable_activity_Olark Chat Conversation     7125 non-null   float64\n",
      " 29  last_notable_activity_Others                      7125 non-null   float64\n",
      " 30  last_notable_activity_Page Visited on Website     7125 non-null   float64\n",
      " 31  last_notable_activity_SMS Sent                    7125 non-null   float64\n",
      " 32  country_India                                     7125 non-null   float64\n",
      " 33  country_Others                                    7125 non-null   float64\n",
      " 34  city_Mumbai                                       7125 non-null   float64\n",
      " 35  city_Other Cities                                 7125 non-null   float64\n",
      " 36  city_Other Cities of Maharashtra                  7125 non-null   float64\n",
      " 37  city_Other Metro Cities                           7125 non-null   float64\n",
      " 38  city_Select                                       7125 non-null   float64\n",
      " 39  city_Thane & Outskirts                            7125 non-null   float64\n",
      " 40  city_Tier II Cities                               7125 non-null   float64\n",
      " 41  specialization_Banking, Investment And Insurance  7125 non-null   float64\n",
      " 42  specialization_Business Administration            7125 non-null   float64\n",
      " 43  specialization_E-COMMERCE                         7125 non-null   float64\n",
      " 44  specialization_Finance Management                 7125 non-null   float64\n",
      " 45  specialization_Healthcare Management              7125 non-null   float64\n",
      " 46  specialization_Hospitality Management             7125 non-null   float64\n",
      " 47  specialization_Human Resource Management          7125 non-null   float64\n",
      " 48  specialization_IT Projects Management             7125 non-null   float64\n",
      " 49  specialization_International Business             7125 non-null   float64\n",
      " 50  specialization_Marketing Management               7125 non-null   float64\n",
      " 51  specialization_Media and Advertising              7125 non-null   float64\n",
      " 52  specialization_Operations Management              7125 non-null   float64\n",
      " 53  specialization_Others                             7125 non-null   float64\n",
      " 54  specialization_Retail Management                  7125 non-null   float64\n",
      " 55  specialization_Select                             7125 non-null   float64\n",
      " 56  specialization_Supply Chain Management            7125 non-null   float64\n",
      " 57  specialization_Travel and Tourism                 7125 non-null   float64\n",
      " 58  ocupation_Others                                  7125 non-null   float64\n",
      " 59  ocupation_Student                                 7125 non-null   float64\n",
      " 60  ocupation_Unemployed                              7125 non-null   float64\n",
      " 61  ocupation_Working Professional                    7125 non-null   float64\n",
      " 62  hear_about_Multiple Sources                       7125 non-null   float64\n",
      " 63  hear_about_Online Search                          7125 non-null   float64\n",
      " 64  hear_about_Others                                 7125 non-null   float64\n",
      " 65  hear_about_Select                                 7125 non-null   float64\n",
      " 66  hear_about_Student of SomeSchool                  7125 non-null   float64\n",
      " 67  hear_about_Word Of Mouth                          7125 non-null   float64\n",
      " 68  matters_most_Better Career Prospects              7125 non-null   float64\n",
      " 69  matters_most_Others                               7125 non-null   float64\n",
      " 70  matters_most_Unknown                              7125 non-null   float64\n",
      " 71  lead_magnet_No                                    7125 non-null   float64\n",
      " 72  lead_magnet_Yes                                   7125 non-null   float64\n",
      " 73  id                                                7125 non-null   int64  \n",
      " 74  total_visits                                      7125 non-null   Int64  \n",
      " 75  total_time_website                                7125 non-null   int64  \n",
      " 76  page_views_per_visit                              7125 non-null   float64\n",
      " 77  activity_score                                    7125 non-null   float64\n",
      " 78  profile_score                                     7125 non-null   float64\n",
      " 79  converted                                         7125 non-null   int64  \n",
      "dtypes: Int64(1), float64(76), int64(3)\n",
      "memory usage: 4.4 MB\n"
     ]
    }
   ],
   "source": [
    "df.info()"
   ]
  },
  {
   "cell_type": "markdown",
   "id": "ae994e18",
   "metadata": {},
   "source": [
    "Selecting features to be rescaling using min-max scaling:"
   ]
  },
  {
   "cell_type": "code",
   "execution_count": 12,
   "id": "86a59bad",
   "metadata": {},
   "outputs": [],
   "source": [
    "var_mms = df.iloc[:,74:-1].columns"
   ]
  },
  {
   "cell_type": "markdown",
   "id": "e7d2fd9c",
   "metadata": {},
   "source": [
    "Instantiating:"
   ]
  },
  {
   "cell_type": "code",
   "execution_count": 13,
   "id": "875c8c2b",
   "metadata": {},
   "outputs": [],
   "source": [
    "mms = MinMaxScaler()"
   ]
  },
  {
   "cell_type": "markdown",
   "id": "6ab824ca",
   "metadata": {},
   "source": [
    "Training and applying min-max scaling:"
   ]
  },
  {
   "cell_type": "code",
   "execution_count": 14,
   "id": "cd260a94",
   "metadata": {},
   "outputs": [],
   "source": [
    "df_mms = mms.fit_transform(df[var_mms])"
   ]
  },
  {
   "cell_type": "markdown",
   "id": "6b7024e6",
   "metadata": {},
   "source": [
    "Saving as a dataframe:"
   ]
  },
  {
   "cell_type": "code",
   "execution_count": 15,
   "id": "b75ae0d4",
   "metadata": {},
   "outputs": [],
   "source": [
    "#Adding suffixes to feature names\n",
    "nombres_mms = [variable + '_mms' for variable in var_mms]\n",
    "\n",
    "#Saving as dataframe\n",
    "df_mms = pd.DataFrame(df_mms,columns = nombres_mms)"
   ]
  },
  {
   "cell_type": "markdown",
   "id": "118dac36",
   "metadata": {},
   "source": [
    "## JOINING RESCALED DATASETS"
   ]
  },
  {
   "cell_type": "code",
   "execution_count": 16,
   "id": "91f1794b",
   "metadata": {},
   "outputs": [],
   "source": [
    "df_input = pd.concat([df.id,cat_ohe,df_mms,target],axis=1)"
   ]
  },
  {
   "cell_type": "markdown",
   "id": "9f098f8a",
   "metadata": {},
   "source": [
    "## SAVING DATASETS AFTER DATA TRANSFORMATION"
   ]
  },
  {
   "cell_type": "markdown",
   "id": "7656ba95",
   "metadata": {},
   "source": [
    "df dataframe will be saved once data transformation procedures have been applied.\n",
    "\n",
    "In pickle format so as not to lose metadata modifications."
   ]
  },
  {
   "cell_type": "markdown",
   "id": "e539cea9",
   "metadata": {},
   "source": [
    "### Defining dataset name"
   ]
  },
  {
   "cell_type": "code",
   "execution_count": 17,
   "id": "782bf43c",
   "metadata": {},
   "outputs": [],
   "source": [
    "path_df_input = project_path + '/02_Data/03_Work/' + 'df_input.pickle'"
   ]
  },
  {
   "cell_type": "markdown",
   "id": "c548c0fb",
   "metadata": {},
   "source": [
    "### Saving the dataset"
   ]
  },
  {
   "cell_type": "code",
   "execution_count": 18,
   "id": "44c7dd60",
   "metadata": {},
   "outputs": [],
   "source": [
    "df_input.to_pickle(path_df_input)"
   ]
  }
 ],
 "metadata": {
  "kernelspec": {
   "display_name": "Python 3 (ipykernel)",
   "language": "python",
   "name": "python3"
  },
  "language_info": {
   "codemirror_mode": {
    "name": "ipython",
    "version": 3
   },
   "file_extension": ".py",
   "mimetype": "text/x-python",
   "name": "python",
   "nbconvert_exporter": "python",
   "pygments_lexer": "ipython3",
   "version": "3.9.12"
  },
  "latex_envs": {
   "LaTeX_envs_menu_present": true,
   "autoclose": false,
   "autocomplete": true,
   "bibliofile": "biblio.bib",
   "cite_by": "apalike",
   "current_citInitial": 1,
   "eqLabelWithNumbers": true,
   "eqNumInitial": 1,
   "hotkeys": {
    "equation": "Ctrl-E",
    "itemize": "Ctrl-I"
   },
   "labels_anchors": false,
   "latex_user_defs": false,
   "report_style_numbering": false,
   "user_envs_cfg": false
  },
  "toc": {
   "base_numbering": 1,
   "nav_menu": {},
   "number_sections": true,
   "sideBar": true,
   "skip_h1_title": false,
   "title_cell": "Table of Contents",
   "title_sidebar": "Contents",
   "toc_cell": false,
   "toc_position": {
    "height": "calc(100% - 180px)",
    "left": "10px",
    "top": "150px",
    "width": "250.95px"
   },
   "toc_section_display": true,
   "toc_window_display": true
  },
  "varInspector": {
   "cols": {
    "lenName": 16,
    "lenType": 16,
    "lenVar": 40
   },
   "kernels_config": {
    "python": {
     "delete_cmd_postfix": "",
     "delete_cmd_prefix": "del ",
     "library": "var_list.py",
     "varRefreshCmd": "print(var_dic_list())"
    },
    "r": {
     "delete_cmd_postfix": ") ",
     "delete_cmd_prefix": "rm(",
     "library": "var_list.r",
     "varRefreshCmd": "cat(var_dic_list()) "
    }
   },
   "position": {
    "height": "546.85px",
    "left": "890.75px",
    "right": "20px",
    "top": "117px",
    "width": "350px"
   },
   "types_to_exclude": [
    "module",
    "function",
    "builtin_function_or_method",
    "instance",
    "_Feature"
   ],
   "window_display": false
  }
 },
 "nbformat": 4,
 "nbformat_minor": 5
}
