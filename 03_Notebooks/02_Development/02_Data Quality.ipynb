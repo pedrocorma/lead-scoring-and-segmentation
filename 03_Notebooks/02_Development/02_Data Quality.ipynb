{
 "cells": [
  {
   "cell_type": "markdown",
   "id": "d31dea65",
   "metadata": {},
   "source": [
    "# DATA QUALITY"
   ]
  },
  {
   "cell_type": "markdown",
   "id": "swiss-fault",
   "metadata": {},
   "source": [
    "## IMPORTING PACKAGES"
   ]
  },
  {
   "cell_type": "code",
   "execution_count": 2,
   "id": "adjacent-toddler",
   "metadata": {},
   "outputs": [],
   "source": [
    "import numpy as np\n",
    "import pandas as pd\n",
    "from janitor import clean_names\n",
    "\n",
    "import matplotlib.pyplot as plt\n",
    "%matplotlib inline\n",
    "import seaborn as sns\n",
    "\n",
    "sns.set_theme(style='dark',palette='pastel')\n",
    "\n",
    "#To increase autocomplete response speed\n",
    "%config IPCompleter.greedy=True"
   ]
  },
  {
   "cell_type": "markdown",
   "id": "graduate-compensation",
   "metadata": {},
   "source": [
    "## DATA IMPORTATION"
   ]
  },
  {
   "cell_type": "code",
   "execution_count": 3,
   "id": "28c63848",
   "metadata": {},
   "outputs": [],
   "source": [
    "project_path = (r'C:\\Users\\pedro\\PEDRO\\DS\\Portfolio\\LEAD_SCORING').replace('\\\\','/')\n",
    "data_file_name = 'work.csv'\n",
    "full_path = project_path + '/02_Data/03_Work/' + data_file_name"
   ]
  },
  {
   "cell_type": "code",
   "execution_count": 4,
   "id": "eed588a7",
   "metadata": {},
   "outputs": [
    {
     "data": {
      "text/html": [
       "<div>\n",
       "<style scoped>\n",
       "    .dataframe tbody tr th:only-of-type {\n",
       "        vertical-align: middle;\n",
       "    }\n",
       "\n",
       "    .dataframe tbody tr th {\n",
       "        vertical-align: top;\n",
       "    }\n",
       "\n",
       "    .dataframe thead th {\n",
       "        text-align: right;\n",
       "    }\n",
       "</style>\n",
       "<table border=\"1\" class=\"dataframe\">\n",
       "  <thead>\n",
       "    <tr style=\"text-align: right;\">\n",
       "      <th></th>\n",
       "      <th>Prospect ID</th>\n",
       "      <th>Lead Number</th>\n",
       "      <th>Lead Origin</th>\n",
       "      <th>Lead Source</th>\n",
       "      <th>Do Not Email</th>\n",
       "      <th>Do Not Call</th>\n",
       "      <th>Converted</th>\n",
       "      <th>TotalVisits</th>\n",
       "      <th>Total Time Spent on Website</th>\n",
       "      <th>Page Views Per Visit</th>\n",
       "      <th>...</th>\n",
       "      <th>Get updates on DM Content</th>\n",
       "      <th>Lead Profile</th>\n",
       "      <th>City</th>\n",
       "      <th>Asymmetrique Activity Index</th>\n",
       "      <th>Asymmetrique Profile Index</th>\n",
       "      <th>Asymmetrique Activity Score</th>\n",
       "      <th>Asymmetrique Profile Score</th>\n",
       "      <th>I agree to pay the amount through cheque</th>\n",
       "      <th>A free copy of Mastering The Interview</th>\n",
       "      <th>Last Notable Activity</th>\n",
       "    </tr>\n",
       "  </thead>\n",
       "  <tbody>\n",
       "    <tr>\n",
       "      <th>0</th>\n",
       "      <td>7927b2df-8bba-4d29-b9a2-b6e0beafe620</td>\n",
       "      <td>660737</td>\n",
       "      <td>API</td>\n",
       "      <td>Olark Chat</td>\n",
       "      <td>No</td>\n",
       "      <td>No</td>\n",
       "      <td>0</td>\n",
       "      <td>0.0</td>\n",
       "      <td>0</td>\n",
       "      <td>0.0</td>\n",
       "      <td>...</td>\n",
       "      <td>No</td>\n",
       "      <td>Select</td>\n",
       "      <td>Select</td>\n",
       "      <td>02.Medium</td>\n",
       "      <td>02.Medium</td>\n",
       "      <td>15.0</td>\n",
       "      <td>15.0</td>\n",
       "      <td>No</td>\n",
       "      <td>No</td>\n",
       "      <td>Modified</td>\n",
       "    </tr>\n",
       "    <tr>\n",
       "      <th>1</th>\n",
       "      <td>2a272436-5132-4136-86fa-dcc88c88f482</td>\n",
       "      <td>660728</td>\n",
       "      <td>API</td>\n",
       "      <td>Organic Search</td>\n",
       "      <td>No</td>\n",
       "      <td>No</td>\n",
       "      <td>0</td>\n",
       "      <td>5.0</td>\n",
       "      <td>674</td>\n",
       "      <td>2.5</td>\n",
       "      <td>...</td>\n",
       "      <td>No</td>\n",
       "      <td>Select</td>\n",
       "      <td>Select</td>\n",
       "      <td>02.Medium</td>\n",
       "      <td>02.Medium</td>\n",
       "      <td>15.0</td>\n",
       "      <td>15.0</td>\n",
       "      <td>No</td>\n",
       "      <td>No</td>\n",
       "      <td>Email Opened</td>\n",
       "    </tr>\n",
       "    <tr>\n",
       "      <th>2</th>\n",
       "      <td>8cc8c611-a219-4f35-ad23-fdfd2656bd8a</td>\n",
       "      <td>660727</td>\n",
       "      <td>Landing Page Submission</td>\n",
       "      <td>Direct Traffic</td>\n",
       "      <td>No</td>\n",
       "      <td>No</td>\n",
       "      <td>1</td>\n",
       "      <td>2.0</td>\n",
       "      <td>1532</td>\n",
       "      <td>2.0</td>\n",
       "      <td>...</td>\n",
       "      <td>No</td>\n",
       "      <td>Potential Lead</td>\n",
       "      <td>Mumbai</td>\n",
       "      <td>02.Medium</td>\n",
       "      <td>01.High</td>\n",
       "      <td>14.0</td>\n",
       "      <td>20.0</td>\n",
       "      <td>No</td>\n",
       "      <td>Yes</td>\n",
       "      <td>Email Opened</td>\n",
       "    </tr>\n",
       "    <tr>\n",
       "      <th>3</th>\n",
       "      <td>0cc2df48-7cf4-4e39-9de9-19797f9b38cc</td>\n",
       "      <td>660719</td>\n",
       "      <td>Landing Page Submission</td>\n",
       "      <td>Direct Traffic</td>\n",
       "      <td>No</td>\n",
       "      <td>No</td>\n",
       "      <td>0</td>\n",
       "      <td>1.0</td>\n",
       "      <td>305</td>\n",
       "      <td>1.0</td>\n",
       "      <td>...</td>\n",
       "      <td>No</td>\n",
       "      <td>Select</td>\n",
       "      <td>Mumbai</td>\n",
       "      <td>02.Medium</td>\n",
       "      <td>01.High</td>\n",
       "      <td>13.0</td>\n",
       "      <td>17.0</td>\n",
       "      <td>No</td>\n",
       "      <td>No</td>\n",
       "      <td>Modified</td>\n",
       "    </tr>\n",
       "    <tr>\n",
       "      <th>4</th>\n",
       "      <td>3256f628-e534-4826-9d63-4a8b88782852</td>\n",
       "      <td>660681</td>\n",
       "      <td>Landing Page Submission</td>\n",
       "      <td>Google</td>\n",
       "      <td>No</td>\n",
       "      <td>No</td>\n",
       "      <td>1</td>\n",
       "      <td>2.0</td>\n",
       "      <td>1428</td>\n",
       "      <td>1.0</td>\n",
       "      <td>...</td>\n",
       "      <td>No</td>\n",
       "      <td>Select</td>\n",
       "      <td>Mumbai</td>\n",
       "      <td>02.Medium</td>\n",
       "      <td>01.High</td>\n",
       "      <td>15.0</td>\n",
       "      <td>18.0</td>\n",
       "      <td>No</td>\n",
       "      <td>No</td>\n",
       "      <td>Modified</td>\n",
       "    </tr>\n",
       "  </tbody>\n",
       "</table>\n",
       "<p>5 rows × 37 columns</p>\n",
       "</div>"
      ],
      "text/plain": [
       "                            Prospect ID  Lead Number              Lead Origin  \\\n",
       "0  7927b2df-8bba-4d29-b9a2-b6e0beafe620       660737                      API   \n",
       "1  2a272436-5132-4136-86fa-dcc88c88f482       660728                      API   \n",
       "2  8cc8c611-a219-4f35-ad23-fdfd2656bd8a       660727  Landing Page Submission   \n",
       "3  0cc2df48-7cf4-4e39-9de9-19797f9b38cc       660719  Landing Page Submission   \n",
       "4  3256f628-e534-4826-9d63-4a8b88782852       660681  Landing Page Submission   \n",
       "\n",
       "      Lead Source Do Not Email Do Not Call  Converted  TotalVisits  \\\n",
       "0      Olark Chat           No          No          0          0.0   \n",
       "1  Organic Search           No          No          0          5.0   \n",
       "2  Direct Traffic           No          No          1          2.0   \n",
       "3  Direct Traffic           No          No          0          1.0   \n",
       "4          Google           No          No          1          2.0   \n",
       "\n",
       "   Total Time Spent on Website  Page Views Per Visit  ...  \\\n",
       "0                            0                   0.0  ...   \n",
       "1                          674                   2.5  ...   \n",
       "2                         1532                   2.0  ...   \n",
       "3                          305                   1.0  ...   \n",
       "4                         1428                   1.0  ...   \n",
       "\n",
       "  Get updates on DM Content    Lead Profile    City  \\\n",
       "0                        No          Select  Select   \n",
       "1                        No          Select  Select   \n",
       "2                        No  Potential Lead  Mumbai   \n",
       "3                        No          Select  Mumbai   \n",
       "4                        No          Select  Mumbai   \n",
       "\n",
       "  Asymmetrique Activity Index Asymmetrique Profile Index  \\\n",
       "0                   02.Medium                  02.Medium   \n",
       "1                   02.Medium                  02.Medium   \n",
       "2                   02.Medium                    01.High   \n",
       "3                   02.Medium                    01.High   \n",
       "4                   02.Medium                    01.High   \n",
       "\n",
       "  Asymmetrique Activity Score Asymmetrique Profile Score  \\\n",
       "0                        15.0                       15.0   \n",
       "1                        15.0                       15.0   \n",
       "2                        14.0                       20.0   \n",
       "3                        13.0                       17.0   \n",
       "4                        15.0                       18.0   \n",
       "\n",
       "  I agree to pay the amount through cheque  \\\n",
       "0                                       No   \n",
       "1                                       No   \n",
       "2                                       No   \n",
       "3                                       No   \n",
       "4                                       No   \n",
       "\n",
       "  A free copy of Mastering The Interview Last Notable Activity  \n",
       "0                                     No              Modified  \n",
       "1                                     No          Email Opened  \n",
       "2                                    Yes          Email Opened  \n",
       "3                                     No              Modified  \n",
       "4                                     No              Modified  \n",
       "\n",
       "[5 rows x 37 columns]"
      ]
     },
     "execution_count": 4,
     "metadata": {},
     "output_type": "execute_result"
    }
   ],
   "source": [
    "df = pd.read_csv(full_path)\n",
    "df.head(5)"
   ]
  },
  {
   "cell_type": "markdown",
   "id": "9790d322",
   "metadata": {},
   "source": [
    "## FORMATTING FEATURE NAMES"
   ]
  },
  {
   "cell_type": "markdown",
   "id": "f1fa5201",
   "metadata": {},
   "source": [
    "### Automatic correction"
   ]
  },
  {
   "cell_type": "code",
   "execution_count": 5,
   "id": "02607b69",
   "metadata": {},
   "outputs": [
    {
     "data": {
      "text/html": [
       "<div>\n",
       "<style scoped>\n",
       "    .dataframe tbody tr th:only-of-type {\n",
       "        vertical-align: middle;\n",
       "    }\n",
       "\n",
       "    .dataframe tbody tr th {\n",
       "        vertical-align: top;\n",
       "    }\n",
       "\n",
       "    .dataframe thead th {\n",
       "        text-align: right;\n",
       "    }\n",
       "</style>\n",
       "<table border=\"1\" class=\"dataframe\">\n",
       "  <thead>\n",
       "    <tr style=\"text-align: right;\">\n",
       "      <th></th>\n",
       "      <th>prospect_id</th>\n",
       "      <th>lead_number</th>\n",
       "      <th>lead_origin</th>\n",
       "      <th>lead_source</th>\n",
       "      <th>do_not_email</th>\n",
       "      <th>do_not_call</th>\n",
       "      <th>converted</th>\n",
       "      <th>totalvisits</th>\n",
       "      <th>total_time_spent_on_website</th>\n",
       "      <th>page_views_per_visit</th>\n",
       "      <th>...</th>\n",
       "      <th>get_updates_on_dm_content</th>\n",
       "      <th>lead_profile</th>\n",
       "      <th>city</th>\n",
       "      <th>asymmetrique_activity_index</th>\n",
       "      <th>asymmetrique_profile_index</th>\n",
       "      <th>asymmetrique_activity_score</th>\n",
       "      <th>asymmetrique_profile_score</th>\n",
       "      <th>i_agree_to_pay_the_amount_through_cheque</th>\n",
       "      <th>a_free_copy_of_mastering_the_interview</th>\n",
       "      <th>last_notable_activity</th>\n",
       "    </tr>\n",
       "  </thead>\n",
       "  <tbody>\n",
       "    <tr>\n",
       "      <th>0</th>\n",
       "      <td>7927b2df-8bba-4d29-b9a2-b6e0beafe620</td>\n",
       "      <td>660737</td>\n",
       "      <td>API</td>\n",
       "      <td>Olark Chat</td>\n",
       "      <td>No</td>\n",
       "      <td>No</td>\n",
       "      <td>0</td>\n",
       "      <td>0.0</td>\n",
       "      <td>0</td>\n",
       "      <td>0.0</td>\n",
       "      <td>...</td>\n",
       "      <td>No</td>\n",
       "      <td>Select</td>\n",
       "      <td>Select</td>\n",
       "      <td>02.Medium</td>\n",
       "      <td>02.Medium</td>\n",
       "      <td>15.0</td>\n",
       "      <td>15.0</td>\n",
       "      <td>No</td>\n",
       "      <td>No</td>\n",
       "      <td>Modified</td>\n",
       "    </tr>\n",
       "    <tr>\n",
       "      <th>1</th>\n",
       "      <td>2a272436-5132-4136-86fa-dcc88c88f482</td>\n",
       "      <td>660728</td>\n",
       "      <td>API</td>\n",
       "      <td>Organic Search</td>\n",
       "      <td>No</td>\n",
       "      <td>No</td>\n",
       "      <td>0</td>\n",
       "      <td>5.0</td>\n",
       "      <td>674</td>\n",
       "      <td>2.5</td>\n",
       "      <td>...</td>\n",
       "      <td>No</td>\n",
       "      <td>Select</td>\n",
       "      <td>Select</td>\n",
       "      <td>02.Medium</td>\n",
       "      <td>02.Medium</td>\n",
       "      <td>15.0</td>\n",
       "      <td>15.0</td>\n",
       "      <td>No</td>\n",
       "      <td>No</td>\n",
       "      <td>Email Opened</td>\n",
       "    </tr>\n",
       "    <tr>\n",
       "      <th>2</th>\n",
       "      <td>8cc8c611-a219-4f35-ad23-fdfd2656bd8a</td>\n",
       "      <td>660727</td>\n",
       "      <td>Landing Page Submission</td>\n",
       "      <td>Direct Traffic</td>\n",
       "      <td>No</td>\n",
       "      <td>No</td>\n",
       "      <td>1</td>\n",
       "      <td>2.0</td>\n",
       "      <td>1532</td>\n",
       "      <td>2.0</td>\n",
       "      <td>...</td>\n",
       "      <td>No</td>\n",
       "      <td>Potential Lead</td>\n",
       "      <td>Mumbai</td>\n",
       "      <td>02.Medium</td>\n",
       "      <td>01.High</td>\n",
       "      <td>14.0</td>\n",
       "      <td>20.0</td>\n",
       "      <td>No</td>\n",
       "      <td>Yes</td>\n",
       "      <td>Email Opened</td>\n",
       "    </tr>\n",
       "    <tr>\n",
       "      <th>3</th>\n",
       "      <td>0cc2df48-7cf4-4e39-9de9-19797f9b38cc</td>\n",
       "      <td>660719</td>\n",
       "      <td>Landing Page Submission</td>\n",
       "      <td>Direct Traffic</td>\n",
       "      <td>No</td>\n",
       "      <td>No</td>\n",
       "      <td>0</td>\n",
       "      <td>1.0</td>\n",
       "      <td>305</td>\n",
       "      <td>1.0</td>\n",
       "      <td>...</td>\n",
       "      <td>No</td>\n",
       "      <td>Select</td>\n",
       "      <td>Mumbai</td>\n",
       "      <td>02.Medium</td>\n",
       "      <td>01.High</td>\n",
       "      <td>13.0</td>\n",
       "      <td>17.0</td>\n",
       "      <td>No</td>\n",
       "      <td>No</td>\n",
       "      <td>Modified</td>\n",
       "    </tr>\n",
       "    <tr>\n",
       "      <th>4</th>\n",
       "      <td>3256f628-e534-4826-9d63-4a8b88782852</td>\n",
       "      <td>660681</td>\n",
       "      <td>Landing Page Submission</td>\n",
       "      <td>Google</td>\n",
       "      <td>No</td>\n",
       "      <td>No</td>\n",
       "      <td>1</td>\n",
       "      <td>2.0</td>\n",
       "      <td>1428</td>\n",
       "      <td>1.0</td>\n",
       "      <td>...</td>\n",
       "      <td>No</td>\n",
       "      <td>Select</td>\n",
       "      <td>Mumbai</td>\n",
       "      <td>02.Medium</td>\n",
       "      <td>01.High</td>\n",
       "      <td>15.0</td>\n",
       "      <td>18.0</td>\n",
       "      <td>No</td>\n",
       "      <td>No</td>\n",
       "      <td>Modified</td>\n",
       "    </tr>\n",
       "  </tbody>\n",
       "</table>\n",
       "<p>5 rows × 37 columns</p>\n",
       "</div>"
      ],
      "text/plain": [
       "                            prospect_id  lead_number              lead_origin  \\\n",
       "0  7927b2df-8bba-4d29-b9a2-b6e0beafe620       660737                      API   \n",
       "1  2a272436-5132-4136-86fa-dcc88c88f482       660728                      API   \n",
       "2  8cc8c611-a219-4f35-ad23-fdfd2656bd8a       660727  Landing Page Submission   \n",
       "3  0cc2df48-7cf4-4e39-9de9-19797f9b38cc       660719  Landing Page Submission   \n",
       "4  3256f628-e534-4826-9d63-4a8b88782852       660681  Landing Page Submission   \n",
       "\n",
       "      lead_source do_not_email do_not_call  converted  totalvisits  \\\n",
       "0      Olark Chat           No          No          0          0.0   \n",
       "1  Organic Search           No          No          0          5.0   \n",
       "2  Direct Traffic           No          No          1          2.0   \n",
       "3  Direct Traffic           No          No          0          1.0   \n",
       "4          Google           No          No          1          2.0   \n",
       "\n",
       "   total_time_spent_on_website  page_views_per_visit  ...  \\\n",
       "0                            0                   0.0  ...   \n",
       "1                          674                   2.5  ...   \n",
       "2                         1532                   2.0  ...   \n",
       "3                          305                   1.0  ...   \n",
       "4                         1428                   1.0  ...   \n",
       "\n",
       "  get_updates_on_dm_content    lead_profile    city  \\\n",
       "0                        No          Select  Select   \n",
       "1                        No          Select  Select   \n",
       "2                        No  Potential Lead  Mumbai   \n",
       "3                        No          Select  Mumbai   \n",
       "4                        No          Select  Mumbai   \n",
       "\n",
       "  asymmetrique_activity_index asymmetrique_profile_index  \\\n",
       "0                   02.Medium                  02.Medium   \n",
       "1                   02.Medium                  02.Medium   \n",
       "2                   02.Medium                    01.High   \n",
       "3                   02.Medium                    01.High   \n",
       "4                   02.Medium                    01.High   \n",
       "\n",
       "  asymmetrique_activity_score asymmetrique_profile_score  \\\n",
       "0                        15.0                       15.0   \n",
       "1                        15.0                       15.0   \n",
       "2                        14.0                       20.0   \n",
       "3                        13.0                       17.0   \n",
       "4                        15.0                       18.0   \n",
       "\n",
       "  i_agree_to_pay_the_amount_through_cheque  \\\n",
       "0                                       No   \n",
       "1                                       No   \n",
       "2                                       No   \n",
       "3                                       No   \n",
       "4                                       No   \n",
       "\n",
       "  a_free_copy_of_mastering_the_interview last_notable_activity  \n",
       "0                                     No              Modified  \n",
       "1                                     No          Email Opened  \n",
       "2                                    Yes          Email Opened  \n",
       "3                                     No              Modified  \n",
       "4                                     No              Modified  \n",
       "\n",
       "[5 rows x 37 columns]"
      ]
     },
     "execution_count": 5,
     "metadata": {},
     "output_type": "execute_result"
    }
   ],
   "source": [
    "df = clean_names(df)\n",
    "df.head(5)"
   ]
  },
  {
   "cell_type": "markdown",
   "id": "25bf4c99",
   "metadata": {},
   "source": [
    "### Ad hoc correction"
   ]
  },
  {
   "cell_type": "markdown",
   "id": "a602a337",
   "metadata": {},
   "source": [
    "Certain features are renamed and sorted to facilitate subsequent work with them."
   ]
  },
  {
   "cell_type": "code",
   "execution_count": 6,
   "id": "be7c76b0",
   "metadata": {},
   "outputs": [],
   "source": [
    "df.rename(columns={'lead_number':'id',\n",
    "                   'lead_source':'source',\n",
    "                   'totalvisits':'total_visits',\n",
    "                   'total_time_spent_on_website':'total_time_website',\n",
    "                   'how_did_you_hear_about_x_education':'hear_about',\n",
    "                   'what_is_your_current_occupation':'ocupation',\n",
    "                   'what_matters_most_to_you_in_choosing_a_course':'matters_most',\n",
    "                   'receive_more_updates_about_our_courses':'receive_updates',\n",
    "                   'update_me_on_supply_chain_content':'update_sc_content',\n",
    "                   'get_updates_on_dm_content':'update_dm_content',\n",
    "                   'asymmetrique_activity_index':'activity_index',\n",
    "                   'asymmetrique_profile_index':'profile_index',\n",
    "                   'asymmetrique_activity_score':'activity_score',\n",
    "                   'asymmetrique_profile_score':'profile_score',\n",
    "                   'i_agree_to_pay_the_amount_through_cheque':'pay_through_cheque',\n",
    "                   'a_free_copy_of_mastering_the_interview':'lead_magnet'},inplace=True)"
   ]
  },
  {
   "cell_type": "code",
   "execution_count": 7,
   "id": "181c1d49",
   "metadata": {},
   "outputs": [],
   "source": [
    "df = df.reindex(columns = ['prospect_id',\n",
    "                           'id',\n",
    "                           'lead_origin',\n",
    "                           'source',\n",
    "                           'do_not_email',\n",
    "                           'do_not_call',\n",
    "                           'total_visits',\n",
    "                           'total_time_website',\n",
    "                           'page_views_per_visit',\n",
    "                           'last_activity',\n",
    "                           'last_notable_activity',\n",
    "                           'country',\n",
    "                           'city',\n",
    "                           'specialization',\n",
    "                           'ocupation',\n",
    "                           'hear_about',\n",
    "                           'matters_most',\n",
    "                           'search',\n",
    "                           'magazine',\n",
    "                           'newspaper_article',\n",
    "                           'x_education_forums',\n",
    "                           'newspaper',\n",
    "                           'digital_advertisement',\n",
    "                           'through_recommendations',\n",
    "                           'tags',\n",
    "                           'receive_updates',\n",
    "                           'update_sc_content',\n",
    "                           'update_dm_content',\n",
    "                           'lead_quality',\n",
    "                           'lead_profile',\n",
    "                           'activity_index',\n",
    "                           'profile_index',\n",
    "                           'activity_score',\n",
    "                           'profile_score',\n",
    "                           'pay_through_cheque',\n",
    "                           'lead_magnet',\n",
    "                           'converted'])"
   ]
  },
  {
   "cell_type": "markdown",
   "id": "d2d5443c",
   "metadata": {},
   "source": [
    "## OVERVIEW"
   ]
  },
  {
   "cell_type": "code",
   "execution_count": 7,
   "id": "976c8ac6",
   "metadata": {},
   "outputs": [
    {
     "name": "stdout",
     "output_type": "stream",
     "text": [
      "<class 'pandas.core.frame.DataFrame'>\n",
      "RangeIndex: 7392 entries, 0 to 7391\n",
      "Data columns (total 37 columns):\n",
      " #   Column                   Non-Null Count  Dtype  \n",
      "---  ------                   --------------  -----  \n",
      " 0   prospect_id              7392 non-null   object \n",
      " 1   id                       7392 non-null   int64  \n",
      " 2   lead_origin              7392 non-null   object \n",
      " 3   source                   7367 non-null   object \n",
      " 4   do_not_email             7392 non-null   object \n",
      " 5   do_not_call              7392 non-null   object \n",
      " 6   total_visits             7279 non-null   float64\n",
      " 7   total_time_website       7392 non-null   int64  \n",
      " 8   page_views_per_visit     7279 non-null   float64\n",
      " 9   last_activity            7308 non-null   object \n",
      " 10  last_notable_activity    7392 non-null   object \n",
      " 11  country                  5450 non-null   object \n",
      " 12  city                     6260 non-null   object \n",
      " 13  specialization           6248 non-null   object \n",
      " 14  ocupation                5269 non-null   object \n",
      " 15  hear_about               5653 non-null   object \n",
      " 16  matters_most             5255 non-null   object \n",
      " 17  search                   7392 non-null   object \n",
      " 18  magazine                 7392 non-null   object \n",
      " 19  newspaper_article        7392 non-null   object \n",
      " 20  x_education_forums       7392 non-null   object \n",
      " 21  newspaper                7392 non-null   object \n",
      " 22  digital_advertisement    7392 non-null   object \n",
      " 23  through_recommendations  7392 non-null   object \n",
      " 24  tags                     4734 non-null   object \n",
      " 25  receive_updates          7392 non-null   object \n",
      " 26  update_sc_content        7392 non-null   object \n",
      " 27  update_dm_content        7392 non-null   object \n",
      " 28  lead_quality             3603 non-null   object \n",
      " 29  lead_profile             5255 non-null   object \n",
      " 30  activity_index           4034 non-null   object \n",
      " 31  profile_index            4034 non-null   object \n",
      " 32  activity_score           4034 non-null   float64\n",
      " 33  profile_score            4034 non-null   float64\n",
      " 34  pay_through_cheque       7392 non-null   object \n",
      " 35  lead_magnet              7392 non-null   object \n",
      " 36  converted                7392 non-null   int64  \n",
      "dtypes: float64(4), int64(3), object(30)\n",
      "memory usage: 2.1+ MB\n"
     ]
    }
   ],
   "source": [
    "df.info()"
   ]
  },
  {
   "cell_type": "markdown",
   "id": "0d36a750",
   "metadata": {},
   "source": [
    "id is set as the dataframe index."
   ]
  },
  {
   "cell_type": "code",
   "execution_count": 8,
   "id": "66ab8eff",
   "metadata": {},
   "outputs": [],
   "source": [
    "df.set_index('id',inplace=True)"
   ]
  },
  {
   "cell_type": "markdown",
   "id": "158ee1d7",
   "metadata": {},
   "source": [
    "## DATA TYPES"
   ]
  },
  {
   "cell_type": "markdown",
   "id": "88162727",
   "metadata": {},
   "source": [
    "### Identification"
   ]
  },
  {
   "cell_type": "code",
   "execution_count": 9,
   "id": "197a99c2",
   "metadata": {},
   "outputs": [
    {
     "data": {
      "text/plain": [
       "prospect_id                 object\n",
       "lead_origin                 object\n",
       "source                      object\n",
       "do_not_email                object\n",
       "do_not_call                 object\n",
       "total_visits               float64\n",
       "total_time_website           int64\n",
       "page_views_per_visit       float64\n",
       "last_activity               object\n",
       "last_notable_activity       object\n",
       "country                     object\n",
       "city                        object\n",
       "specialization              object\n",
       "ocupation                   object\n",
       "hear_about                  object\n",
       "matters_most                object\n",
       "search                      object\n",
       "magazine                    object\n",
       "newspaper_article           object\n",
       "x_education_forums          object\n",
       "newspaper                   object\n",
       "digital_advertisement       object\n",
       "through_recommendations     object\n",
       "tags                        object\n",
       "receive_updates             object\n",
       "update_sc_content           object\n",
       "update_dm_content           object\n",
       "lead_quality                object\n",
       "lead_profile                object\n",
       "activity_index              object\n",
       "profile_index               object\n",
       "activity_score             float64\n",
       "profile_score              float64\n",
       "pay_through_cheque          object\n",
       "lead_magnet                 object\n",
       "converted                    int64\n",
       "dtype: object"
      ]
     },
     "execution_count": 9,
     "metadata": {},
     "output_type": "execute_result"
    }
   ],
   "source": [
    "df.dtypes"
   ]
  },
  {
   "cell_type": "markdown",
   "id": "54f495a6",
   "metadata": {},
   "source": [
    "### Correction"
   ]
  },
  {
   "cell_type": "markdown",
   "id": "7a7767c9",
   "metadata": {},
   "source": [
    "It is obvious that webpages can only be visited an integer number of times, therefore the data type of the variable total_visits is corrected below."
   ]
  },
  {
   "cell_type": "code",
   "execution_count": 9,
   "id": "828b9893",
   "metadata": {
    "scrolled": true
   },
   "outputs": [],
   "source": [
    "df = df.astype({'total_visits':'Int64'})"
   ]
  },
  {
   "cell_type": "markdown",
   "id": "cc8d4a22",
   "metadata": {},
   "source": [
    "## UNIQUE VALUES"
   ]
  },
  {
   "cell_type": "markdown",
   "id": "f21f0e36",
   "metadata": {},
   "source": [
    "### Identification"
   ]
  },
  {
   "cell_type": "code",
   "execution_count": 11,
   "id": "6e53e444",
   "metadata": {},
   "outputs": [
    {
     "data": {
      "text/plain": [
       "magazine                      1\n",
       "pay_through_cheque            1\n",
       "update_dm_content             1\n",
       "update_sc_content             1\n",
       "receive_updates               1\n",
       "x_education_forums            1\n",
       "through_recommendations       2\n",
       "digital_advertisement         2\n",
       "newspaper                     2\n",
       "newspaper_article             2\n",
       "lead_magnet                   2\n",
       "search                        2\n",
       "converted                     2\n",
       "do_not_call                   2\n",
       "do_not_email                  2\n",
       "matters_most                  3\n",
       "profile_index                 3\n",
       "activity_index                3\n",
       "lead_origin                   5\n",
       "lead_quality                  5\n",
       "lead_profile                  6\n",
       "ocupation                     6\n",
       "city                          7\n",
       "profile_score                10\n",
       "hear_about                   10\n",
       "activity_score               12\n",
       "last_activity                16\n",
       "last_notable_activity        16\n",
       "specialization               19\n",
       "source                       21\n",
       "tags                         26\n",
       "country                      36\n",
       "total_visits                 40\n",
       "page_views_per_visit        112\n",
       "total_time_website         1652\n",
       "prospect_id                7392\n",
       "dtype: int64"
      ]
     },
     "execution_count": 11,
     "metadata": {},
     "output_type": "execute_result"
    }
   ],
   "source": [
    "df.nunique().sort_values()"
   ]
  },
  {
   "cell_type": "markdown",
   "id": "b1d1a668",
   "metadata": {},
   "source": [
    "### Correction"
   ]
  },
  {
   "cell_type": "markdown",
   "id": "eb39307b",
   "metadata": {},
   "source": [
    "Features *magazine*, *pay_through_cheque*, *update_dm_content*, *update_sc_content*, *receive_updates* and *x_education_forums* are found to have a unique value, therefore they do not provide any information and should be deleted."
   ]
  },
  {
   "cell_type": "code",
   "execution_count": 10,
   "id": "62f7d14e",
   "metadata": {},
   "outputs": [],
   "source": [
    "to_delete = ['magazine',\n",
    "             'pay_through_cheque',\n",
    "             'update_dm_content',\n",
    "             'update_sc_content',\n",
    "             'receive_updates',\n",
    "             'x_education_forums']\n",
    "\n",
    "df.drop(columns = to_delete, inplace = True)"
   ]
  },
  {
   "cell_type": "markdown",
   "id": "e25cfc89",
   "metadata": {},
   "source": [
    "## DUPLICATES"
   ]
  },
  {
   "cell_type": "markdown",
   "id": "8a079ed3",
   "metadata": {},
   "source": [
    "### Identification"
   ]
  },
  {
   "cell_type": "markdown",
   "id": "38a7616c",
   "metadata": {},
   "source": [
    "It is verified that there are no duplicate records in the dataset."
   ]
  },
  {
   "cell_type": "code",
   "execution_count": 11,
   "id": "f5b23bfc",
   "metadata": {
    "scrolled": true
   },
   "outputs": [
    {
     "data": {
      "text/plain": [
       "0"
      ]
     },
     "execution_count": 11,
     "metadata": {},
     "output_type": "execute_result"
    }
   ],
   "source": [
    "df.duplicated().sum()"
   ]
  },
  {
   "cell_type": "markdown",
   "id": "632ec2cd",
   "metadata": {},
   "source": [
    "## NUMERICAL AND CATEGORICAL FEATURES"
   ]
  },
  {
   "cell_type": "markdown",
   "id": "aff1e4ee",
   "metadata": {},
   "source": [
    "The original dataset will be split into two subsets of data, categorical and numerical, to facilitate further analysis."
   ]
  },
  {
   "cell_type": "markdown",
   "id": "573a61ac",
   "metadata": {},
   "source": [
    "### Categorical"
   ]
  },
  {
   "cell_type": "code",
   "execution_count": 12,
   "id": "47a7eece",
   "metadata": {},
   "outputs": [],
   "source": [
    "cat = df.select_dtypes(exclude = 'number').copy()"
   ]
  },
  {
   "cell_type": "markdown",
   "id": "41756893",
   "metadata": {},
   "source": [
    "### Numerical"
   ]
  },
  {
   "cell_type": "code",
   "execution_count": 13,
   "id": "59140e9a",
   "metadata": {},
   "outputs": [],
   "source": [
    "num = df.select_dtypes(include='number').copy()"
   ]
  },
  {
   "cell_type": "markdown",
   "id": "5e7d8e7e",
   "metadata": {},
   "source": [
    "## CATEGORICAL"
   ]
  },
  {
   "cell_type": "markdown",
   "id": "5b5808b7",
   "metadata": {},
   "source": [
    "### Nulls"
   ]
  },
  {
   "cell_type": "markdown",
   "id": "5c08ca55",
   "metadata": {},
   "source": [
    "#### Identification"
   ]
  },
  {
   "cell_type": "code",
   "execution_count": 16,
   "id": "f851255f",
   "metadata": {},
   "outputs": [
    {
     "data": {
      "text/html": [
       "<div>\n",
       "<style scoped>\n",
       "    .dataframe tbody tr th:only-of-type {\n",
       "        vertical-align: middle;\n",
       "    }\n",
       "\n",
       "    .dataframe tbody tr th {\n",
       "        vertical-align: top;\n",
       "    }\n",
       "\n",
       "    .dataframe thead th {\n",
       "        text-align: right;\n",
       "    }\n",
       "</style>\n",
       "<table border=\"1\" class=\"dataframe\">\n",
       "  <thead>\n",
       "    <tr style=\"text-align: right;\">\n",
       "      <th></th>\n",
       "      <th>Nulls</th>\n",
       "      <th>% Nulls</th>\n",
       "    </tr>\n",
       "  </thead>\n",
       "  <tbody>\n",
       "    <tr>\n",
       "      <th>lead_quality</th>\n",
       "      <td>3789</td>\n",
       "      <td>0.512581</td>\n",
       "    </tr>\n",
       "    <tr>\n",
       "      <th>profile_index</th>\n",
       "      <td>3358</td>\n",
       "      <td>0.454275</td>\n",
       "    </tr>\n",
       "    <tr>\n",
       "      <th>activity_index</th>\n",
       "      <td>3358</td>\n",
       "      <td>0.454275</td>\n",
       "    </tr>\n",
       "    <tr>\n",
       "      <th>tags</th>\n",
       "      <td>2658</td>\n",
       "      <td>0.359578</td>\n",
       "    </tr>\n",
       "    <tr>\n",
       "      <th>matters_most</th>\n",
       "      <td>2137</td>\n",
       "      <td>0.289096</td>\n",
       "    </tr>\n",
       "    <tr>\n",
       "      <th>lead_profile</th>\n",
       "      <td>2137</td>\n",
       "      <td>0.289096</td>\n",
       "    </tr>\n",
       "    <tr>\n",
       "      <th>ocupation</th>\n",
       "      <td>2123</td>\n",
       "      <td>0.287202</td>\n",
       "    </tr>\n",
       "    <tr>\n",
       "      <th>country</th>\n",
       "      <td>1942</td>\n",
       "      <td>0.262716</td>\n",
       "    </tr>\n",
       "    <tr>\n",
       "      <th>hear_about</th>\n",
       "      <td>1739</td>\n",
       "      <td>0.235254</td>\n",
       "    </tr>\n",
       "    <tr>\n",
       "      <th>specialization</th>\n",
       "      <td>1144</td>\n",
       "      <td>0.154762</td>\n",
       "    </tr>\n",
       "    <tr>\n",
       "      <th>city</th>\n",
       "      <td>1132</td>\n",
       "      <td>0.153139</td>\n",
       "    </tr>\n",
       "    <tr>\n",
       "      <th>last_activity</th>\n",
       "      <td>84</td>\n",
       "      <td>0.011364</td>\n",
       "    </tr>\n",
       "    <tr>\n",
       "      <th>source</th>\n",
       "      <td>25</td>\n",
       "      <td>0.003382</td>\n",
       "    </tr>\n",
       "    <tr>\n",
       "      <th>digital_advertisement</th>\n",
       "      <td>0</td>\n",
       "      <td>0.000000</td>\n",
       "    </tr>\n",
       "    <tr>\n",
       "      <th>through_recommendations</th>\n",
       "      <td>0</td>\n",
       "      <td>0.000000</td>\n",
       "    </tr>\n",
       "    <tr>\n",
       "      <th>prospect_id</th>\n",
       "      <td>0</td>\n",
       "      <td>0.000000</td>\n",
       "    </tr>\n",
       "    <tr>\n",
       "      <th>newspaper</th>\n",
       "      <td>0</td>\n",
       "      <td>0.000000</td>\n",
       "    </tr>\n",
       "    <tr>\n",
       "      <th>newspaper_article</th>\n",
       "      <td>0</td>\n",
       "      <td>0.000000</td>\n",
       "    </tr>\n",
       "    <tr>\n",
       "      <th>search</th>\n",
       "      <td>0</td>\n",
       "      <td>0.000000</td>\n",
       "    </tr>\n",
       "    <tr>\n",
       "      <th>lead_origin</th>\n",
       "      <td>0</td>\n",
       "      <td>0.000000</td>\n",
       "    </tr>\n",
       "    <tr>\n",
       "      <th>last_notable_activity</th>\n",
       "      <td>0</td>\n",
       "      <td>0.000000</td>\n",
       "    </tr>\n",
       "    <tr>\n",
       "      <th>do_not_call</th>\n",
       "      <td>0</td>\n",
       "      <td>0.000000</td>\n",
       "    </tr>\n",
       "    <tr>\n",
       "      <th>do_not_email</th>\n",
       "      <td>0</td>\n",
       "      <td>0.000000</td>\n",
       "    </tr>\n",
       "    <tr>\n",
       "      <th>lead_magnet</th>\n",
       "      <td>0</td>\n",
       "      <td>0.000000</td>\n",
       "    </tr>\n",
       "  </tbody>\n",
       "</table>\n",
       "</div>"
      ],
      "text/plain": [
       "                         Nulls   % Nulls\n",
       "lead_quality              3789  0.512581\n",
       "profile_index             3358  0.454275\n",
       "activity_index            3358  0.454275\n",
       "tags                      2658  0.359578\n",
       "matters_most              2137  0.289096\n",
       "lead_profile              2137  0.289096\n",
       "ocupation                 2123  0.287202\n",
       "country                   1942  0.262716\n",
       "hear_about                1739  0.235254\n",
       "specialization            1144  0.154762\n",
       "city                      1132  0.153139\n",
       "last_activity               84  0.011364\n",
       "source                      25  0.003382\n",
       "digital_advertisement        0  0.000000\n",
       "through_recommendations      0  0.000000\n",
       "prospect_id                  0  0.000000\n",
       "newspaper                    0  0.000000\n",
       "newspaper_article            0  0.000000\n",
       "search                       0  0.000000\n",
       "lead_origin                  0  0.000000\n",
       "last_notable_activity        0  0.000000\n",
       "do_not_call                  0  0.000000\n",
       "do_not_email                 0  0.000000\n",
       "lead_magnet                  0  0.000000"
      ]
     },
     "execution_count": 16,
     "metadata": {},
     "output_type": "execute_result"
    }
   ],
   "source": [
    "nulls = pd.concat([cat.isna().sum().sort_values(ascending = False),cat.apply(lambda x: x.isna().sum()/x.shape).\\\n",
    "                                                               melt(value_name='% Nulls').set_index('variable').\\\n",
    "                                                               sort_values(by='% Nulls',ascending=False)],axis=1).\\\n",
    "       rename(columns = {0:'Nulls'})\n",
    "nulls"
   ]
  },
  {
   "cell_type": "code",
   "execution_count": 17,
   "id": "6b79df08",
   "metadata": {
    "scrolled": false
   },
   "outputs": [
    {
     "name": "stdout",
     "output_type": "stream",
     "text": [
      "lead_quality\n",
      " NaN                  3789\n",
      "Might be             1259\n",
      "Not Sure              875\n",
      "High in Relevance     524\n",
      "Worst                 476\n",
      "Low in Relevance      469\n",
      "Name: lead_quality, dtype: int64 \n",
      "\n",
      "profile_index\n",
      " NaN          3358\n",
      "02.Medium    2232\n",
      "01.High      1775\n",
      "03.Low         27\n",
      "Name: profile_index, dtype: int64 \n",
      "\n",
      "activity_index\n",
      " NaN          3358\n",
      "02.Medium    3081\n",
      "01.High       653\n",
      "03.Low        300\n",
      "Name: activity_index, dtype: int64 \n",
      "\n",
      "tags\n",
      " NaN                                                  2658\n",
      "Will revert after reading the email                  1671\n",
      "Ringing                                               979\n",
      "Interested in other courses                           409\n",
      "Already a student                                     368\n",
      "Closed by Horizzon                                    293\n",
      "switched off                                          200\n",
      "Busy                                                  142\n",
      "Lost to EINS                                          137\n",
      "Not doing further education                           113\n",
      "Graduation in progress                                 89\n",
      "Interested  in full time MBA                           85\n",
      "invalid number                                         62\n",
      "Diploma holder (Not Eligible)                          55\n",
      "wrong number given                                     38\n",
      "opp hangup                                             27\n",
      "number not provided                                    23\n",
      "in touch with EINS                                     10\n",
      "Want to take admission but has financial problems       6\n",
      "In confusion whether part time or DLP                   5\n",
      "Still Thinking                                          5\n",
      "Lost to Others                                          5\n",
      "Interested in Next batch                                4\n",
      "Lateral student                                         3\n",
      "Shall take in the next coming month                     2\n",
      "University not recognized                               2\n",
      "Recognition issue (DEC approval)                        1\n",
      "Name: tags, dtype: int64 \n",
      "\n",
      "matters_most\n",
      " Better Career Prospects      5252\n",
      "NaN                          2137\n",
      "Flexibility & Convenience       2\n",
      "Other                           1\n",
      "Name: matters_most, dtype: int64 \n",
      "\n",
      "lead_profile\n",
      " Select                         3328\n",
      "NaN                            2137\n",
      "Potential Lead                 1311\n",
      "Other Leads                     384\n",
      "Student of SomeSchool           196\n",
      "Lateral Student                  21\n",
      "Dual Specialization Student      15\n",
      "Name: lead_profile, dtype: int64 \n",
      "\n",
      "ocupation\n",
      " Unemployed              4505\n",
      "NaN                     2123\n",
      "Working Professional     570\n",
      "Student                  169\n",
      "Other                     10\n",
      "Businessman                8\n",
      "Housewife                  7\n",
      "Name: ocupation, dtype: int64 \n",
      "\n",
      "country\n",
      " India                   5220\n",
      "NaN                     1942\n",
      "United States             56\n",
      "United Arab Emirates      45\n",
      "Singapore                 20\n",
      "Saudi Arabia              16\n",
      "Australia                 10\n",
      "United Kingdom             9\n",
      "Hong Kong                  7\n",
      "Qatar                      6\n",
      "France                     6\n",
      "unknown                    5\n",
      "Bahrain                    5\n",
      "Oman                       4\n",
      "Germany                    3\n",
      "Nigeria                    3\n",
      "Sweden                     3\n",
      "Canada                     3\n",
      "Kuwait                     3\n",
      "China                      2\n",
      "Uganda                     2\n",
      "Bangladesh                 2\n",
      "South Africa               2\n",
      "Netherlands                2\n",
      "Italy                      2\n",
      "Ghana                      2\n",
      "Belgium                    2\n",
      "Asia/Pacific Region        1\n",
      "Kenya                      1\n",
      "Russia                     1\n",
      "Malaysia                   1\n",
      "Liberia                    1\n",
      "Switzerland                1\n",
      "Denmark                    1\n",
      "Philippines                1\n",
      "Sri Lanka                  1\n",
      "Indonesia                  1\n",
      "Name: country, dtype: int64 \n",
      "\n",
      "hear_about\n",
      " Select                   4057\n",
      "NaN                      1739\n",
      "Online Search             659\n",
      "Word Of Mouth             271\n",
      "Student of SomeSchool     251\n",
      "Other                     155\n",
      "Multiple Sources          118\n",
      "Advertisements             54\n",
      "Social Media               53\n",
      "Email                      18\n",
      "SMS                        17\n",
      "Name: hear_about, dtype: int64 \n",
      "\n",
      "specialization\n",
      " Select                               1544\n",
      "NaN                                  1144\n",
      "Finance Management                    761\n",
      "Human Resource Management             697\n",
      "Marketing Management                  670\n",
      "Operations Management                 411\n",
      "Business Administration               326\n",
      "IT Projects Management                294\n",
      "Banking, Investment And Insurance     275\n",
      "Supply Chain Management               273\n",
      "Media and Advertising                 162\n",
      "Travel and Tourism                    161\n",
      "International Business                146\n",
      "Healthcare Management                 128\n",
      "E-COMMERCE                             93\n",
      "Hospitality Management                 88\n",
      "Retail Management                      79\n",
      "Rural and Agribusiness                 62\n",
      "E-Business                             50\n",
      "Services Excellence                    28\n",
      "Name: specialization, dtype: int64 \n",
      "\n",
      "city\n",
      " Mumbai                         2579\n",
      "Select                         1788\n",
      "NaN                            1132\n",
      "Thane & Outskirts               611\n",
      "Other Cities                    557\n",
      "Other Cities of Maharashtra     362\n",
      "Other Metro Cities              307\n",
      "Tier II Cities                   56\n",
      "Name: city, dtype: int64 \n",
      "\n",
      "last_activity\n",
      " Email Opened                    2750\n",
      "SMS Sent                        2191\n",
      "Olark Chat Conversation          778\n",
      "Page Visited on Website          522\n",
      "Converted to Lead                338\n",
      "Email Bounced                    267\n",
      "Email Link Clicked               212\n",
      "Form Submitted on Website         98\n",
      "NaN                               84\n",
      "Unreachable                       72\n",
      "Unsubscribed                      43\n",
      "Had a Phone Conversation          23\n",
      "Approached upfront                 7\n",
      "View in browser link Clicked       3\n",
      "Email Marked Spam                  2\n",
      "Resubscribed to emails             1\n",
      "Email Received                     1\n",
      "Name: last_activity, dtype: int64 \n",
      "\n",
      "source\n",
      " Google               2284\n",
      "Direct Traffic       2051\n",
      "Olark Chat           1394\n",
      "Organic Search        940\n",
      "Reference             422\n",
      "Welingak Website      107\n",
      "Referral Sites        104\n",
      "Facebook               45\n",
      "NaN                    25\n",
      "google                  3\n",
      "Click2call              3\n",
      "Press_Release           2\n",
      "bing                    2\n",
      "Social Media            2\n",
      "WeLearn                 1\n",
      "Pay per Click Ads       1\n",
      "Live Chat               1\n",
      "welearnblog_Home        1\n",
      "youtubechannel          1\n",
      "testone                 1\n",
      "blog                    1\n",
      "NC_EDM                  1\n",
      "Name: source, dtype: int64 \n",
      "\n"
     ]
    }
   ],
   "source": [
    "for null in nulls[nulls.Nulls>0].index.to_list():\n",
    "    print(str(null)+'\\n',cat[null].value_counts(dropna=False),'\\n')"
   ]
  },
  {
   "cell_type": "markdown",
   "id": "a0a5022c",
   "metadata": {},
   "source": [
    "##### lead_quality"
   ]
  },
  {
   "cell_type": "markdown",
   "id": "cdccdd68",
   "metadata": {},
   "source": [
    "As this feature is based on the intuition of the the employee who has been assigned to the lead, null values can be imputed with the value Not sure, as some employees are likely to leave this field blank when they are not sure of the lead quality."
   ]
  },
  {
   "cell_type": "markdown",
   "id": "b7941402",
   "metadata": {},
   "source": [
    "##### profile_index and activity_index"
   ]
  },
  {
   "cell_type": "markdown",
   "id": "cd637d7e",
   "metadata": {},
   "source": [
    "It can be seen that there is a high (and identical) number of nulls in both features"
   ]
  },
  {
   "cell_type": "code",
   "execution_count": 18,
   "id": "d1aee6d7",
   "metadata": {},
   "outputs": [
    {
     "data": {
      "text/html": [
       "<div>\n",
       "<style scoped>\n",
       "    .dataframe tbody tr th:only-of-type {\n",
       "        vertical-align: middle;\n",
       "    }\n",
       "\n",
       "    .dataframe tbody tr th {\n",
       "        vertical-align: top;\n",
       "    }\n",
       "\n",
       "    .dataframe thead th {\n",
       "        text-align: right;\n",
       "    }\n",
       "</style>\n",
       "<table border=\"1\" class=\"dataframe\">\n",
       "  <thead>\n",
       "    <tr style=\"text-align: right;\">\n",
       "      <th></th>\n",
       "      <th>profile_index</th>\n",
       "      <th>activity_index</th>\n",
       "    </tr>\n",
       "  </thead>\n",
       "  <tbody>\n",
       "    <tr>\n",
       "      <th>NaN</th>\n",
       "      <td>0.454275</td>\n",
       "      <td>0.454275</td>\n",
       "    </tr>\n",
       "    <tr>\n",
       "      <th>02.Medium</th>\n",
       "      <td>0.301948</td>\n",
       "      <td>0.416802</td>\n",
       "    </tr>\n",
       "    <tr>\n",
       "      <th>01.High</th>\n",
       "      <td>0.240124</td>\n",
       "      <td>0.088339</td>\n",
       "    </tr>\n",
       "    <tr>\n",
       "      <th>03.Low</th>\n",
       "      <td>0.003653</td>\n",
       "      <td>0.040584</td>\n",
       "    </tr>\n",
       "  </tbody>\n",
       "</table>\n",
       "</div>"
      ],
      "text/plain": [
       "           profile_index  activity_index\n",
       "NaN             0.454275        0.454275\n",
       "02.Medium       0.301948        0.416802\n",
       "01.High         0.240124        0.088339\n",
       "03.Low          0.003653        0.040584"
      ]
     },
     "execution_count": 18,
     "metadata": {},
     "output_type": "execute_result"
    }
   ],
   "source": [
    "cat[['profile_index','activity_index']].apply(lambda x: x.value_counts(dropna=False,normalize=True))"
   ]
  },
  {
   "cell_type": "code",
   "execution_count": 19,
   "id": "8d40fda5",
   "metadata": {},
   "outputs": [
    {
     "data": {
      "image/png": "[encoded data removed]",
      "text/plain": [
       "<Figure size 864x288 with 2 Axes>"
      ]
     },
     "metadata": {},
     "output_type": "display_data"
    }
   ],
   "source": [
    "f,ax = plt.subplots(1,2,figsize=(12,4))\n",
    "sns.countplot(data=cat,x='profile_index',ax=ax[0])\n",
    "sns.countplot(data=cat,x='activity_index',ax=ax[1]);"
   ]
  },
  {
   "cell_type": "markdown",
   "id": "28b42638",
   "metadata": {},
   "source": [
    "The records in which the value of the feature is null are the same for both cases."
   ]
  },
  {
   "cell_type": "code",
   "execution_count": 20,
   "id": "6a081aba",
   "metadata": {},
   "outputs": [
    {
     "data": {
      "text/plain": [
       "3358"
      ]
     },
     "execution_count": 20,
     "metadata": {},
     "output_type": "execute_result"
    }
   ],
   "source": [
    "cat[(cat.profile_index.isna()==True)&(cat.activity_index.isna()==True)].shape[0]"
   ]
  },
  {
   "cell_type": "markdown",
   "id": "86df1bce",
   "metadata": {},
   "source": [
    "It is checked if there is any kind of pattern for the cases in which these features are null, since it could be that there is no activity information for these leads, for example. However, it can be seen that the rest of features take differents values, even for the last_activity and last_notable_activity features, so the possible origin of these nulls remains unknown.\n",
    "\n",
    "Despite having a large number of nulls, these features may be predictive, therefore they will not be eliminated at this stage, and their nulls will be imputed by a new category named *Null*."
   ]
  },
  {
   "cell_type": "code",
   "execution_count": 21,
   "id": "52e85514",
   "metadata": {},
   "outputs": [
    {
     "data": {
      "text/plain": [
       "prospect_id                3358\n",
       "lead_origin                   3\n",
       "source                       13\n",
       "do_not_email                  2\n",
       "do_not_call                   1\n",
       "last_activity                14\n",
       "last_notable_activity        13\n",
       "country                      26\n",
       "city                          7\n",
       "specialization               19\n",
       "ocupation                     6\n",
       "hear_about                   10\n",
       "matters_most                  2\n",
       "search                        2\n",
       "newspaper_article             1\n",
       "newspaper                     2\n",
       "digital_advertisement         2\n",
       "through_recommendations       2\n",
       "tags                         24\n",
       "lead_quality                  5\n",
       "lead_profile                  6\n",
       "activity_index                0\n",
       "profile_index                 0\n",
       "lead_magnet                   2\n",
       "dtype: int64"
      ]
     },
     "execution_count": 21,
     "metadata": {},
     "output_type": "execute_result"
    }
   ],
   "source": [
    "cat[(cat.profile_index.isna()==True)&(cat.activity_index.isna()==True)].apply(lambda x: x.nunique())"
   ]
  },
  {
   "cell_type": "code",
   "execution_count": 22,
   "id": "1821622b",
   "metadata": {},
   "outputs": [
    {
     "data": {
      "text/html": [
       "<div>\n",
       "<style scoped>\n",
       "    .dataframe tbody tr th:only-of-type {\n",
       "        vertical-align: middle;\n",
       "    }\n",
       "\n",
       "    .dataframe tbody tr th {\n",
       "        vertical-align: top;\n",
       "    }\n",
       "\n",
       "    .dataframe thead th {\n",
       "        text-align: right;\n",
       "    }\n",
       "</style>\n",
       "<table border=\"1\" class=\"dataframe\">\n",
       "  <thead>\n",
       "    <tr style=\"text-align: right;\">\n",
       "      <th></th>\n",
       "      <th>last_activity</th>\n",
       "      <th>last_notable_activity</th>\n",
       "    </tr>\n",
       "  </thead>\n",
       "  <tbody>\n",
       "    <tr>\n",
       "      <th>Converted to Lead</th>\n",
       "      <td>152.0</td>\n",
       "      <td>NaN</td>\n",
       "    </tr>\n",
       "    <tr>\n",
       "      <th>Email Bounced</th>\n",
       "      <td>144.0</td>\n",
       "      <td>25.0</td>\n",
       "    </tr>\n",
       "    <tr>\n",
       "      <th>Email Link Clicked</th>\n",
       "      <td>81.0</td>\n",
       "      <td>59.0</td>\n",
       "    </tr>\n",
       "    <tr>\n",
       "      <th>Email Opened</th>\n",
       "      <td>1143.0</td>\n",
       "      <td>1000.0</td>\n",
       "    </tr>\n",
       "    <tr>\n",
       "      <th>Olark Chat Conversation</th>\n",
       "      <td>311.0</td>\n",
       "      <td>71.0</td>\n",
       "    </tr>\n",
       "    <tr>\n",
       "      <th>Page Visited on Website</th>\n",
       "      <td>247.0</td>\n",
       "      <td>127.0</td>\n",
       "    </tr>\n",
       "    <tr>\n",
       "      <th>SMS Sent</th>\n",
       "      <td>1186.0</td>\n",
       "      <td>1082.0</td>\n",
       "    </tr>\n",
       "    <tr>\n",
       "      <th>NaN</th>\n",
       "      <td>35.0</td>\n",
       "      <td>NaN</td>\n",
       "    </tr>\n",
       "    <tr>\n",
       "      <th>Form Submitted on Website</th>\n",
       "      <td>26.0</td>\n",
       "      <td>1.0</td>\n",
       "    </tr>\n",
       "    <tr>\n",
       "      <th>Unsubscribed</th>\n",
       "      <td>18.0</td>\n",
       "      <td>16.0</td>\n",
       "    </tr>\n",
       "    <tr>\n",
       "      <th>Unreachable</th>\n",
       "      <td>9.0</td>\n",
       "      <td>7.0</td>\n",
       "    </tr>\n",
       "    <tr>\n",
       "      <th>Approached upfront</th>\n",
       "      <td>3.0</td>\n",
       "      <td>NaN</td>\n",
       "    </tr>\n",
       "    <tr>\n",
       "      <th>Resubscribed to emails</th>\n",
       "      <td>1.0</td>\n",
       "      <td>1.0</td>\n",
       "    </tr>\n",
       "    <tr>\n",
       "      <th>View in browser link Clicked</th>\n",
       "      <td>1.0</td>\n",
       "      <td>1.0</td>\n",
       "    </tr>\n",
       "    <tr>\n",
       "      <th>Had a Phone Conversation</th>\n",
       "      <td>1.0</td>\n",
       "      <td>1.0</td>\n",
       "    </tr>\n",
       "    <tr>\n",
       "      <th>Modified</th>\n",
       "      <td>NaN</td>\n",
       "      <td>967.0</td>\n",
       "    </tr>\n",
       "  </tbody>\n",
       "</table>\n",
       "</div>"
      ],
      "text/plain": [
       "                              last_activity  last_notable_activity\n",
       "Converted to Lead                     152.0                    NaN\n",
       "Email Bounced                         144.0                   25.0\n",
       "Email Link Clicked                     81.0                   59.0\n",
       "Email Opened                         1143.0                 1000.0\n",
       "Olark Chat Conversation               311.0                   71.0\n",
       "Page Visited on Website               247.0                  127.0\n",
       "SMS Sent                             1186.0                 1082.0\n",
       "NaN                                    35.0                    NaN\n",
       "Form Submitted on Website              26.0                    1.0\n",
       "Unsubscribed                           18.0                   16.0\n",
       "Unreachable                             9.0                    7.0\n",
       "Approached upfront                      3.0                    NaN\n",
       "Resubscribed to emails                  1.0                    1.0\n",
       "View in browser link Clicked            1.0                    1.0\n",
       "Had a Phone Conversation                1.0                    1.0\n",
       "Modified                                NaN                  967.0"
      ]
     },
     "execution_count": 22,
     "metadata": {},
     "output_type": "execute_result"
    }
   ],
   "source": [
    "cat[(cat.profile_index.isna()==True)&(cat.activity_index.isna()==True)][['last_activity','last_notable_activity']].\\\n",
    "                                                                        apply(lambda x: x.value_counts(dropna=False))"
   ]
  },
  {
   "cell_type": "markdown",
   "id": "9267abdc",
   "metadata": {},
   "source": [
    "##### tags"
   ]
  },
  {
   "cell_type": "markdown",
   "id": "232c484d",
   "metadata": {},
   "source": [
    "In this case, there is no obvious cause for the nulls of the feature, since there are categories such as *Ringing*, *number not provided* or *wrong number given*, which include cases in which it has not been possible to contact the lead.\n",
    "\n",
    "\n",
    "Nulls imputation by the mode (*Will revert after reading the email*) is not an optimal solution since the category *Ringing* has a significant presence too. Therefore, null values will be imputed by a new category named *Untagged*."
   ]
  },
  {
   "cell_type": "code",
   "execution_count": 23,
   "id": "039f389f",
   "metadata": {},
   "outputs": [
    {
     "data": {
      "text/plain": [
       "NaN                                                  0.360\n",
       "Will revert after reading the email                  0.226\n",
       "Ringing                                              0.132\n",
       "Interested in other courses                          0.055\n",
       "Already a student                                    0.050\n",
       "Closed by Horizzon                                   0.040\n",
       "switched off                                         0.027\n",
       "Busy                                                 0.019\n",
       "Lost to EINS                                         0.019\n",
       "Not doing further education                          0.015\n",
       "Graduation in progress                               0.012\n",
       "Interested  in full time MBA                         0.011\n",
       "invalid number                                       0.008\n",
       "Diploma holder (Not Eligible)                        0.007\n",
       "wrong number given                                   0.005\n",
       "opp hangup                                           0.004\n",
       "number not provided                                  0.003\n",
       "in touch with EINS                                   0.001\n",
       "Want to take admission but has financial problems    0.001\n",
       "In confusion whether part time or DLP                0.001\n",
       "Still Thinking                                       0.001\n",
       "Lost to Others                                       0.001\n",
       "Interested in Next batch                             0.001\n",
       "Lateral student                                      0.000\n",
       "Shall take in the next coming month                  0.000\n",
       "University not recognized                            0.000\n",
       "Recognition issue (DEC approval)                     0.000\n",
       "Name: tags, dtype: float64"
      ]
     },
     "execution_count": 23,
     "metadata": {},
     "output_type": "execute_result"
    }
   ],
   "source": [
    "cat.tags.value_counts(dropna=False,normalize=True).round(3)"
   ]
  },
  {
   "cell_type": "markdown",
   "id": "b41f9dc7",
   "metadata": {},
   "source": [
    "##### matters_most and last_activity"
   ]
  },
  {
   "cell_type": "markdown",
   "id": "fc8ea94f",
   "metadata": {},
   "source": [
    "Since the feature *matters_most* comes from a field to be filled in by the lead itself, null values have most likely been generated by the failure to fill in this field, so these null values could be imputed by a new category named \"Unknown\".\n",
    "\n",
    "Regarding *last_activity* feature, note that since there are only 1,1% of null values, imputing this nulls by the mode would not imply large errors. However, nulls will be imputed by a new category named *Unknown*."
   ]
  },
  {
   "cell_type": "markdown",
   "id": "4f0aa048",
   "metadata": {},
   "source": [
    "##### lead_profile, hear_about, specialization and city"
   ]
  },
  {
   "cell_type": "markdown",
   "id": "6c40cd15",
   "metadata": {},
   "source": [
    "Note that the mode of lead_profile feature is *Select*, which is certainly the default value of the field to be filled in by the employee who evaluate each lead. Therefore, the most logical option in this case is to impute null values by the mode (Select).\n",
    "\n",
    "A similar situation occurs in hear_about, specializtion and city features, where its values should be provided by the lead, having a default value of *Select*. Its nulls will be imputed by the mode (*Select*)."
   ]
  },
  {
   "cell_type": "markdown",
   "id": "20f6edb2",
   "metadata": {},
   "source": [
    "##### ocupation"
   ]
  },
  {
   "cell_type": "markdown",
   "id": "b00f13c5",
   "metadata": {},
   "source": [
    "Given the large difference between the percentage of *Unemployed* leads (60.9%) compared to the percentage of leads belonging to the rest of categories (Working professional 7.7%, Student 2.2%, ...) nulls of this feature will be imputed by the mode (*Unemployed*)."
   ]
  },
  {
   "cell_type": "code",
   "execution_count": 24,
   "id": "57664e37",
   "metadata": {},
   "outputs": [
    {
     "data": {
      "text/plain": [
       "Unemployed              0.609\n",
       "NaN                     0.287\n",
       "Working Professional    0.077\n",
       "Student                 0.023\n",
       "Other                   0.001\n",
       "Businessman             0.001\n",
       "Housewife               0.001\n",
       "Name: ocupation, dtype: float64"
      ]
     },
     "execution_count": 24,
     "metadata": {},
     "output_type": "execute_result"
    }
   ],
   "source": [
    "cat.ocupation.value_counts(dropna=False,normalize=True).round(3)"
   ]
  },
  {
   "cell_type": "markdown",
   "id": "472c941c",
   "metadata": {},
   "source": [
    "##### country"
   ]
  },
  {
   "cell_type": "markdown",
   "id": "df002f08",
   "metadata": {},
   "source": [
    "Given the large difference between the percentage of Indians leads (70.6%) compared to the percentage of leads belonging to the rest of categories (United States 0.76%, United Arab Emirates 0.61%, ...) nulls of this feature will be imputed by the mode (India)."
   ]
  },
  {
   "cell_type": "code",
   "execution_count": 25,
   "id": "8463180a",
   "metadata": {},
   "outputs": [
    {
     "data": {
      "text/plain": [
       "India                   0.706\n",
       "NaN                     0.263\n",
       "United States           0.008\n",
       "United Arab Emirates    0.006\n",
       "Singapore               0.003\n",
       "Saudi Arabia            0.002\n",
       "Australia               0.001\n",
       "United Kingdom          0.001\n",
       "Hong Kong               0.001\n",
       "Qatar                   0.001\n",
       "France                  0.001\n",
       "unknown                 0.001\n",
       "Bahrain                 0.001\n",
       "Oman                    0.001\n",
       "Germany                 0.000\n",
       "Nigeria                 0.000\n",
       "Sweden                  0.000\n",
       "Canada                  0.000\n",
       "Kuwait                  0.000\n",
       "China                   0.000\n",
       "Uganda                  0.000\n",
       "Bangladesh              0.000\n",
       "South Africa            0.000\n",
       "Netherlands             0.000\n",
       "Italy                   0.000\n",
       "Ghana                   0.000\n",
       "Belgium                 0.000\n",
       "Asia/Pacific Region     0.000\n",
       "Kenya                   0.000\n",
       "Russia                  0.000\n",
       "Malaysia                0.000\n",
       "Liberia                 0.000\n",
       "Switzerland             0.000\n",
       "Denmark                 0.000\n",
       "Philippines             0.000\n",
       "Sri Lanka               0.000\n",
       "Indonesia               0.000\n",
       "Name: country, dtype: float64"
      ]
     },
     "execution_count": 25,
     "metadata": {},
     "output_type": "execute_result"
    }
   ],
   "source": [
    "cat.country.value_counts(dropna=False,normalize=True).round(3)"
   ]
  },
  {
   "cell_type": "markdown",
   "id": "3cacd6bd",
   "metadata": {},
   "source": [
    "##### source"
   ]
  },
  {
   "cell_type": "markdown",
   "id": "a106db69",
   "metadata": {},
   "source": [
    "As Google and Direct Traffic has similar occurrence, imputate nulls by the mode is not an adecuate solution. In this case nulls values will be imputed by a new category named *Null*."
   ]
  },
  {
   "cell_type": "code",
   "execution_count": 26,
   "id": "d4a9d400",
   "metadata": {},
   "outputs": [
    {
     "data": {
      "text/plain": [
       "Google               0.309\n",
       "Direct Traffic       0.277\n",
       "Olark Chat           0.189\n",
       "Organic Search       0.127\n",
       "Reference            0.057\n",
       "Welingak Website     0.014\n",
       "Referral Sites       0.014\n",
       "Facebook             0.006\n",
       "NaN                  0.003\n",
       "google               0.000\n",
       "Click2call           0.000\n",
       "Press_Release        0.000\n",
       "bing                 0.000\n",
       "Social Media         0.000\n",
       "WeLearn              0.000\n",
       "Pay per Click Ads    0.000\n",
       "Live Chat            0.000\n",
       "welearnblog_Home     0.000\n",
       "youtubechannel       0.000\n",
       "testone              0.000\n",
       "blog                 0.000\n",
       "NC_EDM               0.000\n",
       "Name: source, dtype: float64"
      ]
     },
     "execution_count": 26,
     "metadata": {},
     "output_type": "execute_result"
    }
   ],
   "source": [
    "cat.source.value_counts(dropna=False,normalize=True).round(3)"
   ]
  },
  {
   "cell_type": "markdown",
   "id": "7059c7a7",
   "metadata": {},
   "source": [
    "It can be seen that there are two repeated categories (Google, google) so they will be unified into a single category."
   ]
  },
  {
   "cell_type": "code",
   "execution_count": 14,
   "id": "ab18abdc",
   "metadata": {},
   "outputs": [],
   "source": [
    "cat.source.replace('google','Google',inplace=True)"
   ]
  },
  {
   "cell_type": "markdown",
   "id": "6802d575",
   "metadata": {},
   "source": [
    "#### Correction"
   ]
  },
  {
   "cell_type": "markdown",
   "id": "c2530b88",
   "metadata": {},
   "source": [
    "##### Deleting features"
   ]
  },
  {
   "cell_type": "markdown",
   "id": "370cebe2",
   "metadata": {},
   "source": [
    "prospect_id does not provide relevant information, lead_number will be use as the unique identifier of each lead."
   ]
  },
  {
   "cell_type": "code",
   "execution_count": 15,
   "id": "d9830cdd",
   "metadata": {},
   "outputs": [],
   "source": [
    "cat.drop(columns='prospect_id',inplace=True)"
   ]
  },
  {
   "cell_type": "markdown",
   "id": "ebeb52a6",
   "metadata": {},
   "source": [
    "##### Nulls imputation by a value"
   ]
  },
  {
   "cell_type": "code",
   "execution_count": 14,
   "id": "1520969f",
   "metadata": {},
   "outputs": [],
   "source": [
    "cat['lead_quality'] = cat['lead_quality'].fillna('Not Sure')\n",
    "\n",
    "cat[['last_activity','matters_most']] = cat[['last_activity','matters_most']].fillna('Unknown')\n",
    "\n",
    "var_impute_select = ['lead_profile','hear_about','specialization','city']\n",
    "cat[var_impute_select] = cat[var_impute_select].fillna('Select')\n",
    "\n",
    "cat['tags'] = cat['tags'].fillna('Untagged')\n",
    "\n",
    "cat[['activity_index','profile_index','source']] = cat[['activity_index','profile_index','source']].fillna('Null')"
   ]
  },
  {
   "cell_type": "markdown",
   "id": "c111e44d",
   "metadata": {},
   "source": [
    "##### Nulls imputation by mode"
   ]
  },
  {
   "cell_type": "markdown",
   "id": "4c1a9c46",
   "metadata": {},
   "source": [
    "###### Features to be imputed"
   ]
  },
  {
   "cell_type": "markdown",
   "id": "7323df86",
   "metadata": {},
   "source": [
    "In order to manage possible future nulls, the null imputation (by mode) procedure will be also applied to the features which currently has no null values."
   ]
  },
  {
   "cell_type": "code",
   "execution_count": 16,
   "id": "1dbd8759",
   "metadata": {},
   "outputs": [],
   "source": [
    "var_nonull_impute_mode  = cat.loc[:,~cat.columns.isin(['lead_quality',\n",
    "                                                       'last_activity',\n",
    "                                                       'matters_most',\n",
    "                                                       'lead_profile',\n",
    "                                                       'hear_about',\n",
    "                                                       'specialization',\n",
    "                                                       'city',\n",
    "                                                       'tags',\n",
    "                                                       'source',\n",
    "                                                       'activity_index',\n",
    "                                                       'profile_index',\n",
    "                                                       'ocupation',\n",
    "                                                       'country'])].columns.to_list()"
   ]
  },
  {
   "cell_type": "code",
   "execution_count": 17,
   "id": "cf4cee3d",
   "metadata": {},
   "outputs": [],
   "source": [
    "var_impute_mode = ['ocupation','country']"
   ]
  },
  {
   "cell_type": "markdown",
   "id": "e3a31c7d",
   "metadata": {},
   "source": [
    "###### Function to impute by mode"
   ]
  },
  {
   "cell_type": "code",
   "execution_count": 32,
   "id": "6d7c902b",
   "metadata": {},
   "outputs": [],
   "source": [
    "def impute_mode(feature):\n",
    "    return(feature.fillna(feature.mode()[0]))"
   ]
  },
  {
   "cell_type": "markdown",
   "id": "b2c3ceba",
   "metadata": {},
   "source": [
    "###### Mode imputation"
   ]
  },
  {
   "cell_type": "code",
   "execution_count": 33,
   "id": "5f5184ef",
   "metadata": {},
   "outputs": [],
   "source": [
    "cat[var_impute_mode+var_nonull_impute_mode] = cat[var_impute_mode+var_nonull_impute_mode].apply(impute_mode)"
   ]
  },
  {
   "cell_type": "markdown",
   "id": "607bb4ab",
   "metadata": {},
   "source": [
    "#### Comprobation"
   ]
  },
  {
   "cell_type": "code",
   "execution_count": 34,
   "id": "73298cdf",
   "metadata": {},
   "outputs": [
    {
     "data": {
      "text/plain": [
       "lead_origin                0\n",
       "source                     0\n",
       "do_not_email               0\n",
       "do_not_call                0\n",
       "last_activity              0\n",
       "last_notable_activity      0\n",
       "country                    0\n",
       "city                       0\n",
       "specialization             0\n",
       "ocupation                  0\n",
       "hear_about                 0\n",
       "matters_most               0\n",
       "search                     0\n",
       "newspaper_article          0\n",
       "newspaper                  0\n",
       "digital_advertisement      0\n",
       "through_recommendations    0\n",
       "tags                       0\n",
       "lead_quality               0\n",
       "lead_profile               0\n",
       "activity_index             0\n",
       "profile_index              0\n",
       "lead_magnet                0\n",
       "dtype: int64"
      ]
     },
     "execution_count": 34,
     "metadata": {},
     "output_type": "execute_result"
    }
   ],
   "source": [
    "cat.isna().sum()"
   ]
  },
  {
   "cell_type": "markdown",
   "id": "913cd65d",
   "metadata": {},
   "source": [
    "### Outliers"
   ]
  },
  {
   "cell_type": "markdown",
   "id": "5a575397",
   "metadata": {},
   "source": [
    "#### Atypical categories"
   ]
  },
  {
   "cell_type": "markdown",
   "id": "e88c9f39",
   "metadata": {},
   "source": [
    "##### Function to group atypical categories"
   ]
  },
  {
   "cell_type": "code",
   "execution_count": 35,
   "id": "334a4db0",
   "metadata": {},
   "outputs": [],
   "source": [
    "def group_atypical_categories(var, treshold=0.01, group_name='Others'):\n",
    "    frequencies = var.value_counts(normalize=True)\n",
    "    below_treshold = [each for each in frequencies.loc[frequencies < treshold].index.values]\n",
    "    groupped_array = np.where(var.isin(below_treshold),group_name,var)\n",
    "    return(groupped_array)"
   ]
  },
  {
   "cell_type": "markdown",
   "id": "4205e067",
   "metadata": {},
   "source": [
    "##### Features to be imputed"
   ]
  },
  {
   "cell_type": "markdown",
   "id": "434a6dbc",
   "metadata": {},
   "source": [
    "Categories of each feature with a presence under 1% will be grouped under a new category named Others.\n",
    "\n",
    "This process has not been applied to dichotomous features as it does not make sense (it would simply replace the class No with Others). lead_quality feature has also been excluded from this process as it only has one category with frequency under 1.5%."
   ]
  },
  {
   "cell_type": "code",
   "execution_count": 36,
   "id": "f818a054",
   "metadata": {
    "scrolled": false
   },
   "outputs": [
    {
     "name": "stdout",
     "output_type": "stream",
     "text": [
      "lead_origin\n",
      " Landing Page Submission    0.529\n",
      "API                        0.389\n",
      "Lead Add Form              0.075\n",
      "Lead Import                0.006\n",
      "Quick Add Form             0.000\n",
      "Name: lead_origin, dtype: float64 \n",
      "\n",
      "source\n",
      " Google               0.309\n",
      "Direct Traffic       0.277\n",
      "Olark Chat           0.189\n",
      "Organic Search       0.127\n",
      "Reference            0.057\n",
      "Welingak Website     0.014\n",
      "Referral Sites       0.014\n",
      "Facebook             0.006\n",
      "Null                 0.003\n",
      "Click2call           0.000\n",
      "Press_Release        0.000\n",
      "bing                 0.000\n",
      "Social Media         0.000\n",
      "WeLearn              0.000\n",
      "Pay per Click Ads    0.000\n",
      "Live Chat            0.000\n",
      "welearnblog_Home     0.000\n",
      "youtubechannel       0.000\n",
      "testone              0.000\n",
      "blog                 0.000\n",
      "NC_EDM               0.000\n",
      "Name: source, dtype: float64 \n",
      "\n",
      "do_not_email\n",
      " No     0.92\n",
      "Yes    0.08\n",
      "Name: do_not_email, dtype: float64 \n",
      "\n",
      "do_not_call\n",
      " No     1.0\n",
      "Yes    0.0\n",
      "Name: do_not_call, dtype: float64 \n",
      "\n",
      "last_activity\n",
      " Email Opened                    0.372\n",
      "SMS Sent                        0.296\n",
      "Olark Chat Conversation         0.105\n",
      "Page Visited on Website         0.071\n",
      "Converted to Lead               0.046\n",
      "Email Bounced                   0.036\n",
      "Email Link Clicked              0.029\n",
      "Form Submitted on Website       0.013\n",
      "Unknown                         0.011\n",
      "Unreachable                     0.010\n",
      "Unsubscribed                    0.006\n",
      "Had a Phone Conversation        0.003\n",
      "Approached upfront              0.001\n",
      "View in browser link Clicked    0.000\n",
      "Email Marked Spam               0.000\n",
      "Resubscribed to emails          0.000\n",
      "Email Received                  0.000\n",
      "Name: last_activity, dtype: float64 \n",
      "\n",
      "last_notable_activity\n",
      " Modified                        0.369\n",
      "Email Opened                    0.305\n",
      "SMS Sent                        0.237\n",
      "Page Visited on Website         0.035\n",
      "Olark Chat Conversation         0.020\n",
      "Email Link Clicked              0.018\n",
      "Email Bounced                   0.006\n",
      "Unsubscribed                    0.004\n",
      "Unreachable                     0.003\n",
      "Had a Phone Conversation        0.001\n",
      "Email Marked Spam               0.000\n",
      "Approached upfront              0.000\n",
      "Resubscribed to emails          0.000\n",
      "View in browser link Clicked    0.000\n",
      "Form Submitted on Website       0.000\n",
      "Email Received                  0.000\n",
      "Name: last_notable_activity, dtype: float64 \n",
      "\n",
      "country\n",
      " India                   0.969\n",
      "United States           0.008\n",
      "United Arab Emirates    0.006\n",
      "Singapore               0.003\n",
      "Saudi Arabia            0.002\n",
      "Australia               0.001\n",
      "United Kingdom          0.001\n",
      "Hong Kong               0.001\n",
      "Qatar                   0.001\n",
      "France                  0.001\n",
      "unknown                 0.001\n",
      "Bahrain                 0.001\n",
      "Oman                    0.001\n",
      "Kuwait                  0.000\n",
      "Germany                 0.000\n",
      "Canada                  0.000\n",
      "Sweden                  0.000\n",
      "Nigeria                 0.000\n",
      "Bangladesh              0.000\n",
      "South Africa            0.000\n",
      "Italy                   0.000\n",
      "Uganda                  0.000\n",
      "Netherlands             0.000\n",
      "China                   0.000\n",
      "Belgium                 0.000\n",
      "Ghana                   0.000\n",
      "Asia/Pacific Region     0.000\n",
      "Russia                  0.000\n",
      "Kenya                   0.000\n",
      "Sri Lanka               0.000\n",
      "Malaysia                0.000\n",
      "Liberia                 0.000\n",
      "Switzerland             0.000\n",
      "Denmark                 0.000\n",
      "Philippines             0.000\n",
      "Indonesia               0.000\n",
      "Name: country, dtype: float64 \n",
      "\n",
      "city\n",
      " Select                         0.395\n",
      "Mumbai                         0.349\n",
      "Thane & Outskirts              0.083\n",
      "Other Cities                   0.075\n",
      "Other Cities of Maharashtra    0.049\n",
      "Other Metro Cities             0.042\n",
      "Tier II Cities                 0.008\n",
      "Name: city, dtype: float64 \n",
      "\n",
      "specialization\n",
      " Select                               0.364\n",
      "Finance Management                   0.103\n",
      "Human Resource Management            0.094\n",
      "Marketing Management                 0.091\n",
      "Operations Management                0.056\n",
      "Business Administration              0.044\n",
      "IT Projects Management               0.040\n",
      "Banking, Investment And Insurance    0.037\n",
      "Supply Chain Management              0.037\n",
      "Media and Advertising                0.022\n",
      "Travel and Tourism                   0.022\n",
      "International Business               0.020\n",
      "Healthcare Management                0.017\n",
      "E-COMMERCE                           0.013\n",
      "Hospitality Management               0.012\n",
      "Retail Management                    0.011\n",
      "Rural and Agribusiness               0.008\n",
      "E-Business                           0.007\n",
      "Services Excellence                  0.004\n",
      "Name: specialization, dtype: float64 \n",
      "\n",
      "ocupation\n",
      " Unemployed              0.897\n",
      "Working Professional    0.077\n",
      "Student                 0.023\n",
      "Other                   0.001\n",
      "Businessman             0.001\n",
      "Housewife               0.001\n",
      "Name: ocupation, dtype: float64 \n",
      "\n",
      "hear_about\n",
      " Select                   0.784\n",
      "Online Search            0.089\n",
      "Word Of Mouth            0.037\n",
      "Student of SomeSchool    0.034\n",
      "Other                    0.021\n",
      "Multiple Sources         0.016\n",
      "Advertisements           0.007\n",
      "Social Media             0.007\n",
      "Email                    0.002\n",
      "SMS                      0.002\n",
      "Name: hear_about, dtype: float64 \n",
      "\n",
      "matters_most\n",
      " Better Career Prospects      0.710\n",
      "Unknown                      0.289\n",
      "Flexibility & Convenience    0.000\n",
      "Other                        0.000\n",
      "Name: matters_most, dtype: float64 \n",
      "\n",
      "search\n",
      " No     0.999\n",
      "Yes    0.001\n",
      "Name: search, dtype: float64 \n",
      "\n",
      "newspaper_article\n",
      " No     1.0\n",
      "Yes    0.0\n",
      "Name: newspaper_article, dtype: float64 \n",
      "\n",
      "newspaper\n",
      " No     1.0\n",
      "Yes    0.0\n",
      "Name: newspaper, dtype: float64 \n",
      "\n",
      "digital_advertisement\n",
      " No     1.0\n",
      "Yes    0.0\n",
      "Name: digital_advertisement, dtype: float64 \n",
      "\n",
      "through_recommendations\n",
      " No     0.999\n",
      "Yes    0.001\n",
      "Name: through_recommendations, dtype: float64 \n",
      "\n",
      "tags\n",
      " Untagged                                             0.360\n",
      "Will revert after reading the email                  0.226\n",
      "Ringing                                              0.132\n",
      "Interested in other courses                          0.055\n",
      "Already a student                                    0.050\n",
      "Closed by Horizzon                                   0.040\n",
      "switched off                                         0.027\n",
      "Busy                                                 0.019\n",
      "Lost to EINS                                         0.019\n",
      "Not doing further education                          0.015\n",
      "Graduation in progress                               0.012\n",
      "Interested  in full time MBA                         0.011\n",
      "invalid number                                       0.008\n",
      "Diploma holder (Not Eligible)                        0.007\n",
      "wrong number given                                   0.005\n",
      "opp hangup                                           0.004\n",
      "number not provided                                  0.003\n",
      "in touch with EINS                                   0.001\n",
      "Want to take admission but has financial problems    0.001\n",
      "In confusion whether part time or DLP                0.001\n",
      "Still Thinking                                       0.001\n",
      "Lost to Others                                       0.001\n",
      "Interested in Next batch                             0.001\n",
      "Lateral student                                      0.000\n",
      "Shall take in the next coming month                  0.000\n",
      "University not recognized                            0.000\n",
      "Recognition issue (DEC approval)                     0.000\n",
      "Name: tags, dtype: float64 \n",
      "\n",
      "lead_quality\n",
      " Not Sure             0.631\n",
      "Might be             0.170\n",
      "High in Relevance    0.071\n",
      "Worst                0.064\n",
      "Low in Relevance     0.063\n",
      "Name: lead_quality, dtype: float64 \n",
      "\n",
      "lead_profile\n",
      " Select                         0.739\n",
      "Potential Lead                 0.177\n",
      "Other Leads                    0.052\n",
      "Student of SomeSchool          0.027\n",
      "Lateral Student                0.003\n",
      "Dual Specialization Student    0.002\n",
      "Name: lead_profile, dtype: float64 \n",
      "\n",
      "activity_index\n",
      " Null         0.454\n",
      "02.Medium    0.417\n",
      "01.High      0.088\n",
      "03.Low       0.041\n",
      "Name: activity_index, dtype: float64 \n",
      "\n",
      "profile_index\n",
      " Null         0.454\n",
      "02.Medium    0.302\n",
      "01.High      0.240\n",
      "03.Low       0.004\n",
      "Name: profile_index, dtype: float64 \n",
      "\n",
      "lead_magnet\n",
      " No     0.687\n",
      "Yes    0.313\n",
      "Name: lead_magnet, dtype: float64 \n",
      "\n"
     ]
    }
   ],
   "source": [
    "for null in cat.columns.to_list():\n",
    "    print(str(null)+'\\n',cat[null].value_counts(normalize=True).round(3),'\\n')"
   ]
  },
  {
   "cell_type": "code",
   "execution_count": 37,
   "id": "ec35c874",
   "metadata": {},
   "outputs": [],
   "source": [
    "var_group = ['lead_origin',\n",
    "             'source',\n",
    "             'last_activity',\n",
    "             'last_notable_activity',\n",
    "             'country',\n",
    "             'specialization',\n",
    "             'ocupation',\n",
    "             'hear_about',\n",
    "             'matters_most',\n",
    "             'tags',\n",
    "             'lead_profile']"
   ]
  },
  {
   "cell_type": "markdown",
   "id": "5eaca402",
   "metadata": {},
   "source": [
    "##### Apply"
   ]
  },
  {
   "cell_type": "code",
   "execution_count": 38,
   "id": "2b187bc7",
   "metadata": {},
   "outputs": [],
   "source": [
    "for feature in var_group:\n",
    "    cat[feature] = group_atypical_categories(cat[feature],treshold = 0.01, group_name='Others')"
   ]
  },
  {
   "cell_type": "markdown",
   "id": "415e1bea",
   "metadata": {},
   "source": [
    "##### Checks and corrections"
   ]
  },
  {
   "cell_type": "code",
   "execution_count": 39,
   "id": "1b1dacf0",
   "metadata": {
    "scrolled": false
   },
   "outputs": [
    {
     "name": "stdout",
     "output_type": "stream",
     "text": [
      "lead_origin\n",
      " Landing Page Submission    0.529\n",
      "API                        0.389\n",
      "Lead Add Form              0.075\n",
      "Others                     0.006\n",
      "Name: lead_origin, dtype: float64 \n",
      "\n",
      "source\n",
      " Google              0.309\n",
      "Direct Traffic      0.277\n",
      "Olark Chat          0.189\n",
      "Organic Search      0.127\n",
      "Reference           0.057\n",
      "Welingak Website    0.014\n",
      "Referral Sites      0.014\n",
      "Others              0.012\n",
      "Name: source, dtype: float64 \n",
      "\n",
      "do_not_email\n",
      " No     0.92\n",
      "Yes    0.08\n",
      "Name: do_not_email, dtype: float64 \n",
      "\n",
      "do_not_call\n",
      " No     1.0\n",
      "Yes    0.0\n",
      "Name: do_not_call, dtype: float64 \n",
      "\n",
      "last_activity\n",
      " Email Opened                 0.372\n",
      "SMS Sent                     0.296\n",
      "Olark Chat Conversation      0.105\n",
      "Page Visited on Website      0.071\n",
      "Converted to Lead            0.046\n",
      "Email Bounced                0.036\n",
      "Email Link Clicked           0.029\n",
      "Others                       0.021\n",
      "Form Submitted on Website    0.013\n",
      "Unknown                      0.011\n",
      "Name: last_activity, dtype: float64 \n",
      "\n",
      "last_notable_activity\n",
      " Modified                   0.369\n",
      "Email Opened               0.305\n",
      "SMS Sent                   0.237\n",
      "Page Visited on Website    0.035\n",
      "Olark Chat Conversation    0.020\n",
      "Email Link Clicked         0.018\n",
      "Others                     0.016\n",
      "Name: last_notable_activity, dtype: float64 \n",
      "\n",
      "country\n",
      " India     0.969\n",
      "Others    0.031\n",
      "Name: country, dtype: float64 \n",
      "\n",
      "city\n",
      " Select                         0.395\n",
      "Mumbai                         0.349\n",
      "Thane & Outskirts              0.083\n",
      "Other Cities                   0.075\n",
      "Other Cities of Maharashtra    0.049\n",
      "Other Metro Cities             0.042\n",
      "Tier II Cities                 0.008\n",
      "Name: city, dtype: float64 \n",
      "\n",
      "specialization\n",
      " Select                               0.364\n",
      "Finance Management                   0.103\n",
      "Human Resource Management            0.094\n",
      "Marketing Management                 0.091\n",
      "Operations Management                0.056\n",
      "Business Administration              0.044\n",
      "IT Projects Management               0.040\n",
      "Banking, Investment And Insurance    0.037\n",
      "Supply Chain Management              0.037\n",
      "Media and Advertising                0.022\n",
      "Travel and Tourism                   0.022\n",
      "International Business               0.020\n",
      "Others                               0.019\n",
      "Healthcare Management                0.017\n",
      "E-COMMERCE                           0.013\n",
      "Hospitality Management               0.012\n",
      "Retail Management                    0.011\n",
      "Name: specialization, dtype: float64 \n",
      "\n",
      "ocupation\n",
      " Unemployed              0.897\n",
      "Working Professional    0.077\n",
      "Student                 0.023\n",
      "Others                  0.003\n",
      "Name: ocupation, dtype: float64 \n",
      "\n",
      "hear_about\n",
      " Select                   0.784\n",
      "Online Search            0.089\n",
      "Word Of Mouth            0.037\n",
      "Student of SomeSchool    0.034\n",
      "Other                    0.021\n",
      "Others                   0.019\n",
      "Multiple Sources         0.016\n",
      "Name: hear_about, dtype: float64 \n",
      "\n",
      "matters_most\n",
      " Better Career Prospects    0.710\n",
      "Unknown                    0.289\n",
      "Others                     0.000\n",
      "Name: matters_most, dtype: float64 \n",
      "\n",
      "search\n",
      " No     0.999\n",
      "Yes    0.001\n",
      "Name: search, dtype: float64 \n",
      "\n",
      "newspaper_article\n",
      " No     1.0\n",
      "Yes    0.0\n",
      "Name: newspaper_article, dtype: float64 \n",
      "\n",
      "newspaper\n",
      " No     1.0\n",
      "Yes    0.0\n",
      "Name: newspaper, dtype: float64 \n",
      "\n",
      "digital_advertisement\n",
      " No     1.0\n",
      "Yes    0.0\n",
      "Name: digital_advertisement, dtype: float64 \n",
      "\n",
      "through_recommendations\n",
      " No     0.999\n",
      "Yes    0.001\n",
      "Name: through_recommendations, dtype: float64 \n",
      "\n",
      "tags\n",
      " Untagged                               0.360\n",
      "Will revert after reading the email    0.226\n",
      "Ringing                                0.132\n",
      "Interested in other courses            0.055\n",
      "Already a student                      0.050\n",
      "Closed by Horizzon                     0.040\n",
      "Others                                 0.034\n",
      "switched off                           0.027\n",
      "Busy                                   0.019\n",
      "Lost to EINS                           0.019\n",
      "Not doing further education            0.015\n",
      "Graduation in progress                 0.012\n",
      "Interested  in full time MBA           0.011\n",
      "Name: tags, dtype: float64 \n",
      "\n",
      "lead_quality\n",
      " Not Sure             0.631\n",
      "Might be             0.170\n",
      "High in Relevance    0.071\n",
      "Worst                0.064\n",
      "Low in Relevance     0.063\n",
      "Name: lead_quality, dtype: float64 \n",
      "\n",
      "lead_profile\n",
      " Select                   0.739\n",
      "Potential Lead           0.177\n",
      "Other Leads              0.052\n",
      "Student of SomeSchool    0.027\n",
      "Others                   0.005\n",
      "Name: lead_profile, dtype: float64 \n",
      "\n",
      "activity_index\n",
      " Null         0.454\n",
      "02.Medium    0.417\n",
      "01.High      0.088\n",
      "03.Low       0.041\n",
      "Name: activity_index, dtype: float64 \n",
      "\n",
      "profile_index\n",
      " Null         0.454\n",
      "02.Medium    0.302\n",
      "01.High      0.240\n",
      "03.Low       0.004\n",
      "Name: profile_index, dtype: float64 \n",
      "\n",
      "lead_magnet\n",
      " No     0.687\n",
      "Yes    0.313\n",
      "Name: lead_magnet, dtype: float64 \n",
      "\n"
     ]
    }
   ],
   "source": [
    "for feature in cat.columns.to_list():\n",
    "    print(str(feature)+'\\n',cat[feature].value_counts(normalize=True).round(3),'\\n')"
   ]
  },
  {
   "cell_type": "markdown",
   "id": "80ceaf8b",
   "metadata": {},
   "source": [
    "Since feature hear_about already had a category called Other, both categories (Other and Others) will be groupped under Others. The same process will be applied to 'Others Leads' and 'Others' categories of lead_profile feature."
   ]
  },
  {
   "cell_type": "code",
   "execution_count": 40,
   "id": "40a456e4",
   "metadata": {},
   "outputs": [],
   "source": [
    "cat.hear_about.replace('Other','Others',inplace=True)\n",
    "cat.lead_profile.replace('Others','Other Leads',inplace=True)"
   ]
  },
  {
   "cell_type": "markdown",
   "id": "db3a72a6",
   "metadata": {},
   "source": [
    "## NUMERICAL - MANAGEMENT"
   ]
  },
  {
   "cell_type": "markdown",
   "id": "d65bd06a",
   "metadata": {},
   "source": [
    "### Nulls"
   ]
  },
  {
   "cell_type": "markdown",
   "id": "e5ee8416",
   "metadata": {},
   "source": [
    "#### Identification"
   ]
  },
  {
   "cell_type": "code",
   "execution_count": 41,
   "id": "c9f054a3",
   "metadata": {
    "scrolled": true
   },
   "outputs": [
    {
     "data": {
      "text/plain": [
       "activity_score          3358\n",
       "profile_score           3358\n",
       "total_visits             113\n",
       "page_views_per_visit     113\n",
       "total_time_website         0\n",
       "converted                  0\n",
       "dtype: int64"
      ]
     },
     "execution_count": 41,
     "metadata": {},
     "output_type": "execute_result"
    }
   ],
   "source": [
    "num.isna().sum().sort_values(ascending = False)"
   ]
  },
  {
   "cell_type": "markdown",
   "id": "2503c578",
   "metadata": {},
   "source": [
    "It can be seen that activity_score and profile_score have a high and identical number of nulls. Despite having a large number of nulls, these features may be predictive, therefore they will not be eliminated at this stage, and their nulls will be imputed."
   ]
  },
  {
   "cell_type": "code",
   "execution_count": 42,
   "id": "3b316482",
   "metadata": {},
   "outputs": [
    {
     "data": {
      "text/plain": [
       "(3358, 6)"
      ]
     },
     "execution_count": 42,
     "metadata": {},
     "output_type": "execute_result"
    }
   ],
   "source": [
    "num[(num.activity_score.isna()==True)&(num.profile_score.isna()==True)].shape"
   ]
  },
  {
   "cell_type": "code",
   "execution_count": 43,
   "id": "a088f321",
   "metadata": {},
   "outputs": [
    {
     "data": {
      "text/plain": [
       "total_visits              34\n",
       "total_time_website      1209\n",
       "page_views_per_visit      73\n",
       "activity_score             0\n",
       "profile_score              0\n",
       "converted                  2\n",
       "dtype: int64"
      ]
     },
     "execution_count": 43,
     "metadata": {},
     "output_type": "execute_result"
    }
   ],
   "source": [
    "num[(num.activity_score.isna()==True)&(num.profile_score.isna()==True)].apply(lambda x: x.nunique())"
   ]
  },
  {
   "cell_type": "markdown",
   "id": "1fe95537",
   "metadata": {},
   "source": [
    "The strategy will be to impute the nulls of numerical variables by the mean or median value. Their distributions are plotted below to see which one is the most appropriate strategy.\n",
    "\n",
    "In view of the results, null values will be imputed by the median value (more conservative strategy)."
   ]
  },
  {
   "cell_type": "code",
   "execution_count": 22,
   "id": "e6a72ce3",
   "metadata": {},
   "outputs": [
    {
     "data": {
      "image/png": "[encoded data removed]",
      "text/plain": [
       "<Figure size 1008x720 with 4 Axes>"
      ]
     },
     "metadata": {},
     "output_type": "display_data"
    }
   ],
   "source": [
    "num.loc[:,num.isna().sum()>=1].plot(subplots=True,kind='kde',layout=(2,2),figsize=(14,10));\n",
    "plt.xlim(-5,50);"
   ]
  },
  {
   "cell_type": "markdown",
   "id": "1b7cb2c4",
   "metadata": {},
   "source": [
    "#### Correction"
   ]
  },
  {
   "cell_type": "markdown",
   "id": "649c19f3",
   "metadata": {},
   "source": [
    "##### Null imputation by median"
   ]
  },
  {
   "cell_type": "markdown",
   "id": "d22ea297",
   "metadata": {},
   "source": [
    "###### Features to be imputed"
   ]
  },
  {
   "cell_type": "markdown",
   "id": "a4931e31",
   "metadata": {},
   "source": [
    "Note that null imputation (by median) procedure will be also applied to total_time_website (even though it has no nulls in the current dataset, however, it could have nulls in the future once the model is put into production)."
   ]
  },
  {
   "cell_type": "code",
   "execution_count": 24,
   "id": "37e4d7f6",
   "metadata": {},
   "outputs": [],
   "source": [
    "var_impute_median = ['total_visits',\n",
    "                     'total_time_website',\n",
    "                     'page_views_per_visit',\n",
    "                     'activity_score',\n",
    "                     'profile_score']"
   ]
  },
  {
   "cell_type": "markdown",
   "id": "432c371c",
   "metadata": {},
   "source": [
    "###### Function to impute by median"
   ]
  },
  {
   "cell_type": "code",
   "execution_count": 23,
   "id": "66679233",
   "metadata": {},
   "outputs": [],
   "source": [
    "def impute_median(feature):\n",
    "    if pd.api.types.is_integer_dtype(feature):\n",
    "        return(feature.fillna(int(feature.median())))\n",
    "    else:\n",
    "        return(feature.fillna(feature.median()))"
   ]
  },
  {
   "cell_type": "markdown",
   "id": "70d7a1c5",
   "metadata": {},
   "source": [
    "###### Impute by median"
   ]
  },
  {
   "cell_type": "code",
   "execution_count": 25,
   "id": "887a4106",
   "metadata": {},
   "outputs": [],
   "source": [
    "num[var_impute_median] = num[var_impute_median].apply(impute_median)"
   ]
  },
  {
   "cell_type": "markdown",
   "id": "82cb56e8",
   "metadata": {},
   "source": [
    "### Outliers"
   ]
  },
  {
   "cell_type": "markdown",
   "id": "760baf8c",
   "metadata": {},
   "source": [
    "####  Identification (by standard deviation)"
   ]
  },
  {
   "cell_type": "markdown",
   "id": "6f8cbbb2",
   "metadata": {},
   "source": [
    "The adopted criterion is to identify those values that are more than four standard deviations away from the mean."
   ]
  },
  {
   "cell_type": "code",
   "execution_count": 49,
   "id": "2b7419cb",
   "metadata": {},
   "outputs": [],
   "source": [
    "num_std = 4"
   ]
  },
  {
   "cell_type": "markdown",
   "id": "942da237",
   "metadata": {},
   "source": [
    "###### Function that returns the indexes of the outliers"
   ]
  },
  {
   "cell_type": "code",
   "execution_count": 50,
   "id": "8a81f494",
   "metadata": {},
   "outputs": [],
   "source": [
    "def find_outliers_index_std(var,n_std=4):\n",
    "    var = var.dropna()\n",
    "    treshold = np.std(var)*n_std\n",
    "    upper_limit = np.mean(var) + treshold\n",
    "    lower_limit = np.mean(var) - treshold\n",
    "    ind = [ind for ind,value in var.items() if value<lower_limit or value>upper_limit]\n",
    "    return(ind)"
   ]
  },
  {
   "cell_type": "markdown",
   "id": "768e7398",
   "metadata": {},
   "source": [
    "###### Function that counts the number of outliers"
   ]
  },
  {
   "cell_type": "code",
   "execution_count": 51,
   "id": "5c8f4462",
   "metadata": {},
   "outputs": [],
   "source": [
    "def count_outliers(df, feature, num_std = 4):\n",
    "    outliers = find_outliers_index_std(df[feature], num_std)\n",
    "    return(df.loc[outliers,feature].value_counts())"
   ]
  },
  {
   "cell_type": "markdown",
   "id": "5cd1e425",
   "metadata": {},
   "source": [
    "###### Features to check"
   ]
  },
  {
   "cell_type": "code",
   "execution_count": 52,
   "id": "cfbb3d88",
   "metadata": {},
   "outputs": [],
   "source": [
    "var_outliers_std = num.columns.to_list()"
   ]
  },
  {
   "cell_type": "markdown",
   "id": "27e7b1db",
   "metadata": {},
   "source": [
    "Identified values:"
   ]
  },
  {
   "cell_type": "code",
   "execution_count": 53,
   "id": "c4b74e98",
   "metadata": {},
   "outputs": [
    {
     "name": "stdout",
     "output_type": "stream",
     "text": [
      "\n",
      "total_visits:\n",
      "\n",
      "25     5\n",
      "27     5\n",
      "29     2\n",
      "26     2\n",
      "43     1\n",
      "55     1\n",
      "141    1\n",
      "74     1\n",
      "41     1\n",
      "54     1\n",
      "115    1\n",
      "251    1\n",
      "32     1\n",
      "28     1\n",
      "42     1\n",
      "Name: total_visits, dtype: Int64\n",
      "\n",
      "total_time_website:\n",
      "\n",
      "Series([], Name: total_time_website, dtype: int64)\n",
      "\n",
      "page_views_per_visit:\n",
      "\n",
      "14.00    8\n",
      "12.00    5\n",
      "13.00    4\n",
      "15.00    4\n",
      "16.00    3\n",
      "55.00    1\n",
      "12.33    1\n",
      "24.00    1\n",
      "14.50    1\n",
      "11.50    1\n",
      "Name: page_views_per_visit, dtype: int64\n",
      "\n",
      "activity_score:\n",
      "\n",
      "10.0    45\n",
      "9.0      9\n",
      "8.0      3\n",
      "7.0      1\n",
      "Name: activity_score, dtype: int64\n",
      "\n",
      "profile_score:\n",
      "\n",
      "Series([], Name: profile_score, dtype: int64)\n",
      "\n",
      "converted:\n",
      "\n",
      "Series([], Name: converted, dtype: int64)\n"
     ]
    }
   ],
   "source": [
    "for feature in var_outliers_std:\n",
    "    print('\\n' + feature + ':\\n')\n",
    "    print(count_outliers(num,feature,num_std))"
   ]
  },
  {
   "cell_type": "markdown",
   "id": "f2118d46",
   "metadata": {},
   "source": [
    "**total_visits**: \n",
    "- There is only one case that has visited the website 251 times, which is obviously an outlier. 50 visits to the website will be set as the cut-off value for a case to be considered an outlier.\n",
    "\n",
    "**page_views_per_visit**: \n",
    "- 20 pages viewed per visit will be set as the cut-off value for a case to be considered an outlier.\n",
    "\n",
    "**activity_score**:\n",
    "- Since it is not known how this variable is calculated, no outlier treatment will be applied to it."
   ]
  },
  {
   "cell_type": "markdown",
   "id": "47862bcf",
   "metadata": {},
   "source": [
    "#### Outlier correction by ad hoc winsorisation for total_visits and page_views_per_visit features:"
   ]
  },
  {
   "cell_type": "code",
   "execution_count": 59,
   "id": "a607d0dd",
   "metadata": {},
   "outputs": [],
   "source": [
    "num['total_visits'].clip(0,50, inplace=True)\n",
    "num['page_views_per_visit'].clip(0,20, inplace=True)"
   ]
  },
  {
   "cell_type": "markdown",
   "id": "0f6b1e4a",
   "metadata": {},
   "source": [
    "## SAVING DATASETS AFTER DATA QUALITY PROCESSING"
   ]
  },
  {
   "cell_type": "markdown",
   "id": "1e211b09",
   "metadata": {},
   "source": [
    "Dataframes *df*, *cat* and *num* will be saved once data quality procedures have been applied.\n",
    "\n",
    "In pickle format so as not to lose metadata modifications."
   ]
  },
  {
   "cell_type": "code",
   "execution_count": 60,
   "id": "db76d4ac",
   "metadata": {},
   "outputs": [],
   "source": [
    "df = pd.concat([cat,num],axis=1)"
   ]
  },
  {
   "cell_type": "markdown",
   "id": "abb12eef",
   "metadata": {},
   "source": [
    "### Defining dataset names"
   ]
  },
  {
   "cell_type": "code",
   "execution_count": 61,
   "id": "f83c6f26",
   "metadata": {},
   "outputs": [],
   "source": [
    "path_work = project_path + '/02_Data/03_Work/' + 'work_result_quality.pickle'\n",
    "path_cat = project_path + '/02_Data/03_Work/' + 'cat_result_quality.pickle'\n",
    "path_num = project_path + '/02_Data/03_Work/' + 'num_result_quality.pickle'"
   ]
  },
  {
   "cell_type": "markdown",
   "id": "1699f284",
   "metadata": {},
   "source": [
    "### Saving datasets"
   ]
  },
  {
   "cell_type": "code",
   "execution_count": 62,
   "id": "6731887a",
   "metadata": {},
   "outputs": [],
   "source": [
    "df.to_pickle(path_work)\n",
    "cat.to_pickle(path_cat)\n",
    "num.to_pickle(path_num)"
   ]
  }
 ],
 "metadata": {
  "kernelspec": {
   "display_name": "Python 3 (ipykernel)",
   "language": "python",
   "name": "python3"
  },
  "language_info": {
   "codemirror_mode": {
    "name": "ipython",
    "version": 3
   },
   "file_extension": ".py",
   "mimetype": "text/x-python",
   "name": "python",
   "nbconvert_exporter": "python",
   "pygments_lexer": "ipython3",
   "version": "3.9.12"
  },
  "latex_envs": {
   "LaTeX_envs_menu_present": true,
   "autoclose": false,
   "autocomplete": true,
   "bibliofile": "biblio.bib",
   "cite_by": "apalike",
   "current_citInitial": 1,
   "eqLabelWithNumbers": true,
   "eqNumInitial": 1,
   "hotkeys": {
    "equation": "Ctrl-E",
    "itemize": "Ctrl-I"
   },
   "labels_anchors": false,
   "latex_user_defs": false,
   "report_style_numbering": false,
   "user_envs_cfg": false
  },
  "toc": {
   "base_numbering": 1,
   "nav_menu": {},
   "number_sections": true,
   "sideBar": true,
   "skip_h1_title": false,
   "title_cell": "Table of Contents",
   "title_sidebar": "Contents",
   "toc_cell": false,
   "toc_position": {
    "height": "calc(100% - 180px)",
    "left": "10px",
    "top": "150px",
    "width": "288.547px"
   },
   "toc_section_display": true,
   "toc_window_display": true
  },
  "varInspector": {
   "cols": {
    "lenName": 16,
    "lenType": 16,
    "lenVar": 40
   },
   "kernels_config": {
    "python": {
     "delete_cmd_postfix": "",
     "delete_cmd_prefix": "del ",
     "library": "var_list.py",
     "varRefreshCmd": "print(var_dic_list())"
    },
    "r": {
     "delete_cmd_postfix": ") ",
     "delete_cmd_prefix": "rm(",
     "library": "var_list.r",
     "varRefreshCmd": "cat(var_dic_list()) "
    }
   },
   "position": {
    "height": "546.85px",
    "left": "680.75px",
    "right": "20px",
    "top": "118px",
    "width": "350px"
   },
   "types_to_exclude": [
    "module",
    "function",
    "builtin_function_or_method",
    "instance",
    "_Feature"
   ],
   "window_display": false
  }
 },
 "nbformat": 4,
 "nbformat_minor": 5
}
